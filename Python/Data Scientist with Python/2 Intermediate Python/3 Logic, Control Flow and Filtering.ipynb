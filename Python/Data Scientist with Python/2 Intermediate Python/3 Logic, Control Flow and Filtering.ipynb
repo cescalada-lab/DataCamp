{
 "cells": [
  {
   "cell_type": "markdown",
   "id": "dff7aa7a-7b2c-46ac-84a1-1bb3fa7b61fe",
   "metadata": {},
   "source": [
    "# Equality\n",
    "To check if two Python values, or variables, are equal you can use ==. To check for inequality, you need !=. As a refresher, have a look at the following examples that all result in True. Feel free to try them out in the IPython Shell.\n",
    "````\n",
    "2 == (1 + 1)\n",
    "\"intermediate\" != \"python\"\n",
    "True != False\n",
    "\"Python\" != \"python\"\n",
    "````\n",
    "When you write these comparisons in a script, you will need to wrap a print() function around them to see the output."
   ]
  },
  {
   "cell_type": "code",
   "execution_count": 1,
   "id": "36e4c41f-f662-40fe-82b3-888a7afe75e6",
   "metadata": {},
   "outputs": [
    {
     "name": "stdout",
     "output_type": "stream",
     "text": [
      "False\n",
      "True\n",
      "False\n",
      "True\n"
     ]
    }
   ],
   "source": [
    "# Comparison of booleans\n",
    "print(True == False)\n",
    "\n",
    "# Comparison of integers\n",
    "print(-5 * 15 != 75)\n",
    "\n",
    "# Comparison of strings\n",
    "print(\"pyscript\" == \"PyScript\")\n",
    "\n",
    "# Compare a boolean with an integer\n",
    "print(True == 1)"
   ]
  },
  {
   "cell_type": "markdown",
   "id": "132d3eec-303f-40ae-ae1d-54264aaaf7ea",
   "metadata": {},
   "source": [
    "# Greater and less than"
   ]
  },
  {
   "cell_type": "code",
   "execution_count": 2,
   "id": "ee102a60-e90b-427e-a4a6-f79ee75df6c0",
   "metadata": {},
   "outputs": [
    {
     "name": "stdout",
     "output_type": "stream",
     "text": [
      "False\n",
      "True\n",
      "True\n"
     ]
    }
   ],
   "source": [
    "# Comparison of integers\n",
    "x = -3 * 6\n",
    "print(x >= -10)\n",
    "\n",
    "# Comparison of strings\n",
    "y = \"test\"\n",
    "print(\"test\" <= y )\n",
    "\n",
    "# Comparison of booleans\n",
    "print(True > False)"
   ]
  },
  {
   "cell_type": "markdown",
   "id": "c88c5e15-590b-4d06-940e-276a8d9ec69a",
   "metadata": {},
   "source": [
    "# Compare arrays"
   ]
  },
  {
   "cell_type": "code",
   "execution_count": 3,
   "id": "2b6ff849-d71a-4110-80c2-6e6b37748733",
   "metadata": {},
   "outputs": [
    {
     "name": "stdout",
     "output_type": "stream",
     "text": [
      "[ True  True False False]\n",
      "[False  True  True False]\n"
     ]
    }
   ],
   "source": [
    "# Create arrays\n",
    "import numpy as np\n",
    "my_house = np.array([18.0, 20.0, 10.75, 9.50])\n",
    "your_house = np.array([14.0, 24.0, 14.25, 9.0])\n",
    "\n",
    "# my_house greater than or equal to 18\n",
    "print( my_house >= 18 )\n",
    "\n",
    "# my_house less than your_house\n",
    "print( my_house < your_house )"
   ]
  },
  {
   "cell_type": "markdown",
   "id": "4168918a-945f-4a9d-81eb-e76100f51dbd",
   "metadata": {},
   "source": [
    "# and, or, not (1)"
   ]
  },
  {
   "cell_type": "code",
   "execution_count": 4,
   "id": "d75c455f-d95f-4bee-a077-afc3f448cac6",
   "metadata": {},
   "outputs": [
    {
     "name": "stdout",
     "output_type": "stream",
     "text": [
      "False\n",
      "True\n",
      "True\n"
     ]
    }
   ],
   "source": [
    "# Define variables\n",
    "my_kitchen = 18.0\n",
    "your_kitchen = 14.0\n",
    "\n",
    "# my_kitchen bigger than 10 and smaller than 18?\n",
    "print(my_kitchen > 10 and my_kitchen < 18)\n",
    "\n",
    "# my_kitchen smaller than 14 or bigger than 17?\n",
    "print(my_kitchen < 14 or my_kitchen > 17)\n",
    "\n",
    "# Double my_kitchen smaller than triple your_kitchen?\n",
    "print(my_kitchen * 2 < your_kitchen * 3)"
   ]
  },
  {
   "cell_type": "markdown",
   "id": "14823461-f527-4482-8c67-f77d5ba92220",
   "metadata": {},
   "source": [
    "# and, or, not (2)"
   ]
  },
  {
   "cell_type": "markdown",
   "id": "64495aeb-16b3-416c-9b3a-a644d44b206b",
   "metadata": {},
   "source": [
    "To see if you completely understood the boolean operators, have a look at the following piece of Python code:\n",
    "````\n",
    "x = 8\n",
    "y = 9\n",
    "not(not(x < 3) and not(y > 14 or y > 10))\n",
    "What will the result be if you execute these three commands in the IPython Shell?\n",
    "````\n",
    "NB: Notice that not has a higher priority than and and or, it is executed first."
   ]
  },
  {
   "cell_type": "markdown",
   "id": "907a1cf9-9e4d-46f5-b29b-d33b4a81d5e5",
   "metadata": {},
   "source": [
    "ANSWER: False"
   ]
  },
  {
   "cell_type": "code",
   "execution_count": 5,
   "id": "3bba386c-09e0-4e88-a094-7722dbc1a59d",
   "metadata": {},
   "outputs": [
    {
     "data": {
      "text/plain": [
       "False"
      ]
     },
     "execution_count": 5,
     "metadata": {},
     "output_type": "execute_result"
    }
   ],
   "source": [
    "x = 8\n",
    "y = 9\n",
    "not(not(x < 3) and not(y > 14 or y > 10))"
   ]
  },
  {
   "cell_type": "markdown",
   "id": "28499c90-e23d-4600-9c9f-0d9e6e92aa4c",
   "metadata": {},
   "source": [
    "# Boolean operators with NumPy"
   ]
  },
  {
   "cell_type": "code",
   "execution_count": 12,
   "id": "fb06b4c0-b7d5-4df5-938e-77f8c7db0743",
   "metadata": {},
   "outputs": [
    {
     "name": "stdout",
     "output_type": "stream",
     "text": [
      "[False  True False  True]\n",
      "[False False False  True]\n"
     ]
    }
   ],
   "source": [
    "# Create arrays\n",
    "import numpy as np\n",
    "my_house = np.array([18.0, 20.0, 10.75, 9.50])\n",
    "your_house = np.array([14.0, 24.0, 14.25, 9.0])\n",
    "\n",
    "# my_house greater than 18.5 or smaller than 10\n",
    "print(np.logical_or(my_house > 18.5 , my_house < 10))\n",
    "\n",
    "# Both my_house and your_house smaller than 11\n",
    "print(np.logical_and( my_house < 10, your_house < 10))"
   ]
  },
  {
   "cell_type": "code",
   "execution_count": 15,
   "id": "d6519522-7e99-4a09-ad2d-b8dd927ad099",
   "metadata": {},
   "outputs": [
    {
     "name": "stdout",
     "output_type": "stream",
     "text": [
      "medium\n"
     ]
    }
   ],
   "source": [
    "# Warmup\n",
    "#To experiment with if and else a bit, have a look at this code sample:\n",
    "\n",
    "area = 10.0\n",
    "if(area < 9) :\n",
    "    print(\"small\")\n",
    "elif(area < 12) :\n",
    "    print(\"medium\")\n",
    "else :\n",
    "    print(\"large\")\n",
    "\n",
    "#What will the output be if you run this piece of code in the IPython Shell?"
   ]
  },
  {
   "cell_type": "markdown",
   "id": "2da4c4c7-4606-4682-94dc-91ed01c59e9b",
   "metadata": {},
   "source": [
    "# if"
   ]
  },
  {
   "cell_type": "code",
   "execution_count": 17,
   "id": "5a8fd718-8eea-40f4-9e8a-e746c346d086",
   "metadata": {},
   "outputs": [
    {
     "name": "stdout",
     "output_type": "stream",
     "text": [
      "looking around in the kitchen.\n"
     ]
    }
   ],
   "source": [
    "# Define variables\n",
    "room = \"kit\"\n",
    "area = 14.0\n",
    "\n",
    "# if statement for room\n",
    "if room == \"kit\" :\n",
    "    print(\"looking around in the kitchen.\")\n",
    "\n",
    "# if statement for area\n",
    "if area > 15.0:\n",
    "    print('big place!')"
   ]
  },
  {
   "cell_type": "markdown",
   "id": "b826301c-a876-4b67-8142-a478e87a4c88",
   "metadata": {},
   "source": [
    "# Add else"
   ]
  },
  {
   "cell_type": "code",
   "execution_count": 18,
   "id": "e96ef615-bbcf-496c-8c28-99ab2af6cfba",
   "metadata": {},
   "outputs": [
    {
     "name": "stdout",
     "output_type": "stream",
     "text": [
      "looking around in the kitchen.\n",
      "pretty small.\n"
     ]
    }
   ],
   "source": [
    "# Define variables\n",
    "room = \"kit\"\n",
    "area = 14.0\n",
    "\n",
    "# if-else construct for room\n",
    "if room == \"kit\" :\n",
    "    print(\"looking around in the kitchen.\")\n",
    "else :\n",
    "    print(\"looking around elsewhere.\")\n",
    "\n",
    "# if-else construct for area\n",
    "if area > 15 :\n",
    "    print(\"big place!\")\n",
    "else: print(\"pretty small.\")"
   ]
  },
  {
   "cell_type": "markdown",
   "id": "04bfce28-4ef1-4970-8afc-a312c3f07bc3",
   "metadata": {},
   "source": [
    "# Customize further: elif"
   ]
  },
  {
   "cell_type": "code",
   "execution_count": 19,
   "id": "ee741c0c-ba53-44e2-abc0-f5b5f0fdf801",
   "metadata": {},
   "outputs": [
    {
     "name": "stdout",
     "output_type": "stream",
     "text": [
      "looking around in the bedroom.\n",
      "medium size, nice!\n"
     ]
    }
   ],
   "source": [
    "# Define variables\n",
    "room = \"bed\"\n",
    "area = 14.0\n",
    "\n",
    "# if-elif-else construct for room\n",
    "if room == \"kit\" :\n",
    "    print(\"looking around in the kitchen.\")\n",
    "elif room == \"bed\":\n",
    "    print(\"looking around in the bedroom.\")\n",
    "else :\n",
    "    print(\"looking around elsewhere.\")\n",
    "\n",
    "# if-elif-else construct for area\n",
    "if area > 15 :\n",
    "    print(\"big place!\")\n",
    "elif area > 10:\n",
    "    print(\"medium size, nice!\")\n",
    "else :\n",
    "    print(\"pretty small.\")"
   ]
  },
  {
   "cell_type": "markdown",
   "id": "a66a2de3-0278-433e-af12-b292a96c7dd0",
   "metadata": {},
   "source": [
    "# Driving right (1)"
   ]
  },
  {
   "cell_type": "code",
   "execution_count": 22,
   "id": "0d1fc974-7057-4fe8-a018-07d1385d8ad2",
   "metadata": {},
   "outputs": [
    {
     "name": "stdout",
     "output_type": "stream",
     "text": [
      "     cars_per_cap        country  drives_right\n",
      "US            809  United States          True\n",
      "RU            200         Russia          True\n",
      "MOR            70        Morocco          True\n",
      "EG             45          Egypt          True\n"
     ]
    }
   ],
   "source": [
    "# Import cars data\n",
    "import pandas as pd\n",
    "cars = pd.read_csv('cars.csv', index_col = 0)\n",
    "\n",
    "# Extract drives_right column as Series: dr\n",
    "dr = cars['drives_right']\n",
    "\n",
    "# Use dr to subset cars: sel\n",
    "sel = cars[dr]\n",
    "\n",
    "# Print sel\n",
    "print(sel)"
   ]
  },
  {
   "cell_type": "markdown",
   "id": "ffe0f035-37d0-459c-b887-0710d296392c",
   "metadata": {},
   "source": [
    "# Driving right (2)"
   ]
  },
  {
   "cell_type": "code",
   "execution_count": 23,
   "id": "b58d6735-bcb6-4916-b8dc-728cbd5568b4",
   "metadata": {},
   "outputs": [
    {
     "name": "stdout",
     "output_type": "stream",
     "text": [
      "     cars_per_cap        country  drives_right\n",
      "US            809  United States          True\n",
      "RU            200         Russia          True\n",
      "MOR            70        Morocco          True\n",
      "EG             45          Egypt          True\n"
     ]
    }
   ],
   "source": [
    "# Import cars data\n",
    "import pandas as pd\n",
    "cars = pd.read_csv('cars.csv', index_col = 0)\n",
    "\n",
    "# Convert code to a one-liner\n",
    "#\n",
    "sel = cars[cars['drives_right']]\n",
    "\n",
    "# Print sel\n",
    "print(sel)"
   ]
  },
  {
   "cell_type": "markdown",
   "id": "c938c295-37f9-4937-a1dd-a9a7ac006d5e",
   "metadata": {},
   "source": [
    "# Cars per capita (1)"
   ]
  },
  {
   "cell_type": "code",
   "execution_count": 24,
   "id": "7ffd45d0-8920-4587-9890-24be2025c20e",
   "metadata": {},
   "outputs": [
    {
     "name": "stdout",
     "output_type": "stream",
     "text": [
      "     cars_per_cap        country  drives_right\n",
      "US            809  United States          True\n",
      "AUS           731      Australia         False\n",
      "JAP           588          Japan         False\n"
     ]
    }
   ],
   "source": [
    "# Import cars data\n",
    "import pandas as pd\n",
    "cars = pd.read_csv('cars.csv', index_col = 0)\n",
    "\n",
    "# Create car_maniac: observations that have a cars_per_cap over 500\n",
    "cpc = cars['cars_per_cap']\n",
    "many_cars = cpc > 500\n",
    "car_maniac = cars[many_cars]\n",
    "\n",
    "\n",
    "# Print car_maniac\n",
    "print(car_maniac)"
   ]
  },
  {
   "cell_type": "markdown",
   "id": "99c870fe-81cd-416c-9b9c-f7e858661201",
   "metadata": {},
   "source": [
    "# Cars per capita (2)"
   ]
  },
  {
   "cell_type": "code",
   "execution_count": 26,
   "id": "4d8411ad-5f38-43e9-a8bc-a8cfbe80b53b",
   "metadata": {},
   "outputs": [
    {
     "name": "stdout",
     "output_type": "stream",
     "text": [
      "    cars_per_cap country  drives_right\n",
      "RU           200  Russia          True\n"
     ]
    }
   ],
   "source": [
    "# Import cars data\n",
    "import pandas as pd\n",
    "cars = pd.read_csv('cars.csv', index_col = 0)\n",
    "\n",
    "# Import numpy, you'll need this\n",
    "import numpy as np\n",
    "\n",
    "# Create medium: observations with cars_per_cap between 100 and 500\n",
    "cpc = cars['cars_per_cap']\n",
    "between = np.logical_and(cpc > 100 , cpc < 500)\n",
    "medium = cars[between]\n",
    "\n",
    "\n",
    "# Print medium\n",
    "print(medium)"
   ]
  },
  {
   "cell_type": "code",
   "execution_count": 35,
   "id": "19f0684e-5b3f-4a24-b7d7-772747c70d0b",
   "metadata": {},
   "outputs": [
    {
     "name": "stdout",
     "output_type": "stream",
     "text": [
      "    cars_per_cap country  drives_right\n",
      "RU           200  Russia          True\n"
     ]
    }
   ],
   "source": [
    "cpc = cars['cars_per_cap']\n",
    "between = (cpc > 100) & (cpc < 500)\n",
    "medium = cars[between]\n",
    "print(medium)"
   ]
  },
  {
   "cell_type": "code",
   "execution_count": null,
   "id": "b6be14ed-1025-4b2e-96ec-dc4606e90b27",
   "metadata": {},
   "outputs": [],
   "source": []
  }
 ],
 "metadata": {
  "kernelspec": {
   "display_name": "Python 3 (ipykernel)",
   "language": "python",
   "name": "python3"
  },
  "language_info": {
   "codemirror_mode": {
    "name": "ipython",
    "version": 3
   },
   "file_extension": ".py",
   "mimetype": "text/x-python",
   "name": "python",
   "nbconvert_exporter": "python",
   "pygments_lexer": "ipython3",
   "version": "3.8.12"
  }
 },
 "nbformat": 4,
 "nbformat_minor": 5
}
