{
 "cells": [
  {
   "cell_type": "code",
   "execution_count": 3,
   "metadata": {},
   "outputs": [],
   "source": [
    "import pandas as pd\n",
    "import seaborn as sns\n",
    "import matplotlib.pyplot as plt\n",
    "\n",
    "salaries = pd.read_csv('data_science_salaries.csv')"
   ]
  },
  {
   "attachments": {},
   "cell_type": "markdown",
   "metadata": {},
   "source": [
    "# Turning Exploratory Analysis into Action"
   ]
  },
  {
   "attachments": {},
   "cell_type": "markdown",
   "metadata": {},
   "source": [
    "## Checking for class imbalance\n",
    "The [2022 Kaggle Survey](https://www.kaggle.com/kaggle-survey-2022) captures information about data scientists' backgrounds, preferred technologies, and techniques. It is seen as an accurate view of what is happening in data science based on the volume and profile of responders.\n",
    "\n",
    "Having looked at the job titles and categorized to align with our salaries DataFrame, you can see the following proportion of job categories in the Kaggle survey:\n",
    "\n",
    "|Job Category\t    |Relative Frequency| Quantity Frecuency|\n",
    "|:---               |:--:              |               :--:|\n",
    "|Data Science\t    |0.281236          |113|\n",
    "|Data Analytics\t    |0.224231          |92|\n",
    "|Other\t            |0.214609          |28|\n",
    "|Managerial\t        |0.121300          |14|\n",
    "|Machine Learning\t|0.083248          |49|\n",
    "|Data Engineering\t|0.075375          |111|\n",
    "\n",
    "Thinking of the Kaggle survey results as the population, your task is to find out whether the salaries DataFrame is representative by comparing the relative frequency of job categories.\n",
    "\n",
    "### Instructions\n",
    "\n",
    "+ Print the relative frequency of the \"Job_Category\" column from salaries DataFrame."
   ]
  },
  {
   "cell_type": "code",
   "execution_count": null,
   "metadata": {},
   "outputs": [],
   "source": [
    "# Print the relative frequency of Job_Category\n",
    "print(salaries['Job_Category'].value_counts(normalize=True))"
   ]
  },
  {
   "attachments": {},
   "cell_type": "markdown",
   "metadata": {},
   "source": [
    "## Cross-tabulation\n",
    "Cross-tabulation can help identify how observations occur in combination.\n",
    "\n",
    "Using the salaries dataset, which has been imported as a pandas DataFrame, you'll perform cross-tabulation on multiple variables, including the use of aggregation, to see the relationship between \"Company_Size\" and other variables.\n",
    "\n",
    "pandas has been imported for you as pd.\n",
    "\n",
    "### Instructions\n",
    "\n",
    "+ Perform cross-tabulation, setting \"Company_Size\" as the index, and the columns to classes in \"Experience\".\n",
    "+ Cross-tabulate \"Job_Category\" and classes of \"Company_Size\" as column names.\n",
    "+ Update pd.crosstab() to return the mean \"Salary_USD\" values."
   ]
  },
  {
   "cell_type": "code",
   "execution_count": 5,
   "metadata": {},
   "outputs": [
    {
     "name": "stdout",
     "output_type": "stream",
     "text": [
      "Experience    Entry  Executive  Mid  Senior\n",
      "Company_Size                               \n",
      "L                29         11   86      72\n",
      "M                30         12   98     186\n",
      "S                29          3   29      22\n"
     ]
    }
   ],
   "source": [
    "# Cross-tabulate Company_Size and Experience\n",
    "print(pd.crosstab(salaries[\"Company_Size\"], salaries[\"Experience\"]))"
   ]
  },
  {
   "cell_type": "code",
   "execution_count": null,
   "metadata": {},
   "outputs": [],
   "source": [
    "# Cross-tabulate Job_Category and Company_Size\n",
    "print(pd.crosstab(salaries[\"Job_Category\"], salaries[\"Company_Size\"]))"
   ]
  },
  {
   "cell_type": "code",
   "execution_count": null,
   "metadata": {},
   "outputs": [],
   "source": [
    "# Cross-tabulate Job_Category and Company_Size\n",
    "print(pd.crosstab(salaries[\"Job_Category\"], salaries[\"Company_Size\"],\n",
    "            values=salaries[\"Salary_USD\"], aggfunc=\"mean\"))"
   ]
  },
  {
   "attachments": {},
   "cell_type": "markdown",
   "metadata": {},
   "source": [
    "## Extracting features for correlation\n",
    "In this exercise, you'll work with a version of the salaries dataset containing a new column called \"date_of_response\".\n",
    "\n",
    "The dataset has been read in as a pandas DataFrame, with \"date_of_response\" as a datetime data type.\n",
    "\n",
    "Your task is to extract datetime attributes from this column and then create a heat map to visualize the correlation coefficients between variables.\n",
    "\n",
    "Seaborn has been imported for you as sns, pandas as pd, and matplotlib.pyplot as plt.\n",
    "\n",
    "### Instructions\n",
    "\n",
    "+ Extract the month from \"date_of_response\", storing it as a column called \"month\".\n",
    "+ Create the \"weekday\" column, containing the weekday that the participants completed the survey.\n",
    "+ Plot a heat map, including the Pearson correlation coefficient scores."
   ]
  },
  {
   "cell_type": "code",
   "execution_count": null,
   "metadata": {},
   "outputs": [],
   "source": [
    "# Get the month of the response\n",
    "salaries[\"month\"] = salaries[\"date_of_response\"].dt.month\n",
    "\n",
    "# Extract the weekday of the response\n",
    "salaries[\"weekday\"] = salaries[\"date_of_response\"].dt.weekday\n",
    "\n",
    "# Create a heatmap\n",
    "sns.heatmap(salaries.corr(), annot=True)\n",
    "plt.show()\n"
   ]
  },
  {
   "attachments": {},
   "cell_type": "markdown",
   "metadata": {},
   "source": [
    "## Calculating salary percentiles\n",
    "In the video, you saw that the conversion of numeric data into categories sometimes makes it easier to identify patterns.\n",
    "\n",
    "Your task is to convert the \"Salary_USD\" column into categories based on its percentiles. First, you need to find the percentiles and store them as variables.\n",
    "\n",
    "pandas has been imported as pd and the salaries dataset read in as DataFrame called salaries.\n",
    "\n",
    "### Instructions\n",
    "\n",
    "+ Find the 25th percentile of \"Salary_USD\".\n",
    "+ Store the median of \"Salary_USD\" as salaries_median.\n",
    "+ Get the 75th percentile of salaries."
   ]
  },
  {
   "cell_type": "code",
   "execution_count": 9,
   "metadata": {},
   "outputs": [
    {
     "name": "stdout",
     "output_type": "stream",
     "text": [
      "59893.0 96982.0 143225.0\n"
     ]
    }
   ],
   "source": [
    "# Find the 25th percentile\n",
    "twenty_fifth = salaries[\"Salary_USD\"].quantile(0.25)\n",
    "\n",
    "# Save the median\n",
    "salaries_median = salaries[\"Salary_USD\"].median()\n",
    "\n",
    "# Gather the 75th percentile\n",
    "seventy_fifth = salaries[\"Salary_USD\"].quantile(0.75)\n",
    "print(twenty_fifth, salaries_median, seventy_fifth)"
   ]
  },
  {
   "attachments": {},
   "cell_type": "markdown",
   "metadata": {},
   "source": [
    "## Categorizing salaries\n",
    "Now it's time to make a new category! You'll use the variables twenty_fifth, salaries_median, and seventy_fifth, that you created in the previous exercise, to split salaries into different labels.\n",
    "\n",
    "The result will be a new column called \"salary_level\", which you'll incorporate into a visualization to analyze survey respondents' salary and at companies of different sizes.\n",
    "\n",
    "pandas has been imported as pd, matplotlib.pyplot as plt, seaborn as sns, and the salaries dataset as a pandas DataFrame called salaries.\n",
    "\n",
    "### Instructions\n",
    "\n",
    "+ Create salary_labels, a list containing \"entry\", \"mid\", \"senior\", and \"exec\". \n",
    "+ Finish salary_ranges, adding the 25th percentile, median, 75th percentile, and largest value from \"Salary_USD\".\n",
    "+ Split \"Salary_USD\" based on the labels and ranges you've created.\n",
    "+ Use sns.countplot() to visualize the count of \"Company_Size\", factoring salary level labels."
   ]
  },
  {
   "cell_type": "code",
   "execution_count": 10,
   "metadata": {},
   "outputs": [
    {
     "data": {
      "image/png": "[encoded data removed]",
      "text/plain": [
       "<Figure size 432x288 with 1 Axes>"
      ]
     },
     "metadata": {
      "needs_background": "light"
     },
     "output_type": "display_data"
    }
   ],
   "source": [
    "# Create salary labels\n",
    "salary_labels = [\"entry\", \"mid\", \"senior\", \"exec\"]\n",
    "\n",
    "# Create the salary ranges list\n",
    "salary_ranges = [0, twenty_fifth, salaries_median, seventy_fifth, salaries[\"Salary_USD\"].max()]\n",
    "\n",
    "# Create salary_level\n",
    "salaries[\"salary_level\"] = pd.cut(salaries[\"Salary_USD\"],\n",
    "                                  bins=salary_ranges,\n",
    "                                  labels=salary_labels)\n",
    "\n",
    "# Plot the count of salary levels at companies of different sizes\n",
    "sns.countplot(data=salaries, x=\"Company_Size\", hue=\"salary_level\")\n",
    "plt.show()"
   ]
  },
  {
   "attachments": {},
   "cell_type": "markdown",
   "metadata": {},
   "source": [
    "## Comparing salaries\n",
    "Exploratory data analysis is a crucial step in generating hypotheses!\n",
    "\n",
    "You've had an idea you'd like to explore—do data professionals get paid more in the USA than they do in Great Britain?\n",
    "\n",
    "You'll need to subset the data by \"Employee_Location\" and produce a plot displaying the average salary between the two groups.\n",
    "\n",
    "The salaries DataFrame has been imported as a pandas DataFrame.\n",
    "\n",
    "pandas has been imported as pd, maplotlib.pyplot as plt and seaborn as sns.\n",
    "\n",
    "### Instructions\n",
    " \n",
    "+ Filter salaries where \"Employee_Location\" is \"US\" or \"GB\", saving as usa_and_gb.\n",
    "+ Use usa_and_gb to create a barplot visualizing \"Salary_USD\" against \"Employee_Location\"."
   ]
  },
  {
   "cell_type": "code",
   "execution_count": 11,
   "metadata": {},
   "outputs": [
    {
     "data": {
      "image/png": "[encoded data removed]",
      "text/plain": [
       "<Figure size 432x288 with 1 Axes>"
      ]
     },
     "metadata": {
      "needs_background": "light"
     },
     "output_type": "display_data"
    }
   ],
   "source": [
    "# Filter for employees in the US or GB\n",
    "usa_and_gb = salaries[salaries[\"Employee_Location\"].isin([\"US\", \"GB\"])]\n",
    "\n",
    "# Create a barplot of salaries by location\n",
    "sns.barplot(data=usa_and_gb, x=\"Employee_Location\", y=\"Salary_USD\")\n",
    "plt.show()"
   ]
  },
  {
   "attachments": {},
   "cell_type": "markdown",
   "metadata": {},
   "source": [
    "## Choosing a hypothesis\n",
    "You've seen how visualizations can be used to generate hypotheses, making them a crucial part of exploratory data analysis!\n",
    "\n",
    "In this exercise, you'll generate a bar plot to inspect how salaries differ based on company size and employment status. For reference, there are four values:\n",
    "\n",
    "|Value|\tMeaning|\n",
    "|:----|:---:|\n",
    "|CT\t|Contractor|\n",
    "|FL\t|Freelance|\n",
    "|PT\t|Part-time|\n",
    "|FT\t|Full-time|\n",
    "\n",
    "pandas has been imported as pd, matplotlib.pyplot as plt, seaborn as sns, and the salaries dataset as a pandas DataFrame called salaries.\n",
    "\n",
    "### Instructions 1/2\n",
    "\n",
    "+ Produce a barplot comparing \"Salary_USD\" by \"Company_Size\", factoring \"Employment_Status\"."
   ]
  },
  {
   "cell_type": "code",
   "execution_count": 12,
   "metadata": {},
   "outputs": [
    {
     "data": {
      "image/png": "[encoded data removed]",
      "text/plain": [
       "<Figure size 432x288 with 1 Axes>"
      ]
     },
     "metadata": {
      "needs_background": "light"
     },
     "output_type": "display_data"
    }
   ],
   "source": [
    "# Create a bar plot of salary versus company size, factoring in employment status\n",
    "sns.barplot(data=salaries, x=\"Company_Size\", y=\"Salary_USD\", hue=\"Employment_Status\")\n",
    "plt.show()"
   ]
  },
  {
   "attachments": {},
   "cell_type": "markdown",
   "metadata": {},
   "source": [
    "### Instructions 2/2\n",
    "\n",
    "### Question\n",
    "+ What is a reasonable hypothesis to generate based on this plot?\n",
    "\n",
    "### ANSWER:\n",
    "+ On average, large companies pay contractors more than medium-sized companies."
   ]
  }
 ],
 "metadata": {
  "kernelspec": {
   "display_name": "Machine_Learning_38",
   "language": "python",
   "name": "python3"
  },
  "language_info": {
   "codemirror_mode": {
    "name": "ipython",
    "version": 3
   },
   "file_extension": ".py",
   "mimetype": "text/x-python",
   "name": "python",
   "nbconvert_exporter": "python",
   "pygments_lexer": "ipython3",
   "version": "3.8.13"
  },
  "orig_nbformat": 4
 },
 "nbformat": 4,
 "nbformat_minor": 2
}
