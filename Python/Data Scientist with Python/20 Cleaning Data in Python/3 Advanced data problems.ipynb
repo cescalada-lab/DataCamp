{
 "cells": [
  {
   "cell_type": "code",
   "execution_count": 14,
   "metadata": {},
   "outputs": [
    {
     "name": "stdout",
     "output_type": "stream",
     "text": [
      "     cust_id  birth_date  age  acct_amount  inv_amount   fund_A   fund_B  \\\n",
      "0   870A9281  1962-06-09   58     63523.31       51295  30105.0   4138.0   \n",
      "1   166B05B0  1962-12-16   58     38175.46       15050   4995.0    938.0   \n",
      "2   BFC13E88  1990-09-12   34     59863.77       24567  10323.0   4590.0   \n",
      "3   F2158F66  1985-11-03   35     84132.10       23712   3908.0    492.0   \n",
      "4   7A73F334  1990-05-17   30    120512.00       93230  12158.4  51281.0   \n",
      "..       ...         ...  ...          ...         ...      ...      ...   \n",
      "95  CA507BA1  1974-08-10   46     12209.84        7515    190.0    931.0   \n",
      "96  B99CD662  1989-12-12   31     92838.44       49089   2453.0   7892.0   \n",
      "97  13770971  1984-11-29   36     92750.87       27962   3352.0   7547.0   \n",
      "98  93E78DA3  1969-12-14   51     41942.23       29662   1758.0  11174.0   \n",
      "99  AC91D689  1993-05-18   27     99490.61       32149   2184.0  17918.0   \n",
      "\n",
      "     fund_C   fund_D account_opened last_transaction acct_cur  \n",
      "0    1420.0  15632.0       02-09-18         22-02-19   dollar  \n",
      "1    6696.0   2421.0       28-02-19         31-10-18   dollar  \n",
      "2    8469.0   1185.0       25-04-18         02-04-18   dollar  \n",
      "3    6482.0  12830.0       07-11-17         08-11-18     euro  \n",
      "4   13434.0  18383.0       14-05-18         19-07-18     euro  \n",
      "..      ...      ...            ...              ...      ...  \n",
      "95   1451.0   4943.0       26-05-18         11-09-19   dollar  \n",
      "96  31486.0   7258.0       04-05-17         12-03-19   dollar  \n",
      "97   8486.0   8577.0       16-08-17         24-04-19   dollar  \n",
      "98  11650.0   5080.0       09-10-17         15-04-18   dollar  \n",
      "99   6714.0   5333.0       01-08-17         04-08-19   dollar  \n",
      "\n",
      "[100 rows x 12 columns]\n"
     ]
    }
   ],
   "source": [
    "import pandas as pd\n",
    "banking =pd.read_csv(\"banking_dirty.csv\", index_col=0)\n",
    "\n",
    "acct_cur=['dollar',\n",
    " 'dollar',\n",
    " 'dollar',\n",
    " 'euro',\n",
    " 'euro',\n",
    " 'dollar',\n",
    " 'dollar',\n",
    " 'euro',\n",
    " 'dollar',\n",
    " 'euro',\n",
    " 'dollar',\n",
    " 'dollar',\n",
    " 'dollar',\n",
    " 'euro',\n",
    " 'dollar',\n",
    " 'dollar',\n",
    " 'euro',\n",
    " 'euro',\n",
    " 'dollar',\n",
    " 'euro',\n",
    " 'dollar',\n",
    " 'dollar',\n",
    " 'euro',\n",
    " 'euro',\n",
    " 'euro',\n",
    " 'dollar',\n",
    " 'dollar',\n",
    " 'euro',\n",
    " 'dollar',\n",
    " 'dollar',\n",
    " 'dollar',\n",
    " 'dollar',\n",
    " 'dollar',\n",
    " 'dollar',\n",
    " 'dollar',\n",
    " 'dollar',\n",
    " 'dollar',\n",
    " 'euro',\n",
    " 'euro',\n",
    " 'dollar',\n",
    " 'dollar',\n",
    " 'dollar',\n",
    " 'dollar',\n",
    " 'dollar',\n",
    " 'euro',\n",
    " 'dollar',\n",
    " 'dollar',\n",
    " 'dollar',\n",
    " 'euro',\n",
    " 'dollar',\n",
    " 'dollar',\n",
    " 'euro',\n",
    " 'euro',\n",
    " 'euro',\n",
    " 'euro',\n",
    " 'dollar',\n",
    " 'dollar',\n",
    " 'dollar',\n",
    " 'dollar',\n",
    " 'dollar',\n",
    " 'dollar',\n",
    " 'dollar',\n",
    " 'dollar',\n",
    " 'dollar',\n",
    " 'dollar',\n",
    " 'dollar',\n",
    " 'euro',\n",
    " 'dollar',\n",
    " 'dollar',\n",
    " 'dollar',\n",
    " 'euro',\n",
    " 'dollar',\n",
    " 'dollar',\n",
    " 'dollar',\n",
    " 'dollar',\n",
    " 'dollar',\n",
    " 'euro',\n",
    " 'dollar',\n",
    " 'euro',\n",
    " 'euro',\n",
    " 'euro',\n",
    " 'dollar',\n",
    " 'dollar',\n",
    " 'dollar',\n",
    " 'dollar',\n",
    " 'euro',\n",
    " 'euro',\n",
    " 'euro',\n",
    " 'dollar',\n",
    " 'euro',\n",
    " 'dollar',\n",
    " 'dollar',\n",
    " 'dollar',\n",
    " 'dollar',\n",
    " 'dollar',\n",
    " 'dollar',\n",
    " 'dollar',\n",
    "  'dollar',\n",
    " 'dollar',\n",
    " 'dollar']\n",
    "\n",
    "\n",
    "banking['acct_cur'] = pd.DataFrame(acct_cur)\n",
    "print(banking)"
   ]
  },
  {
   "cell_type": "markdown",
   "metadata": {},
   "source": [
    "# Ambiguous dates\n",
    "\n",
    "You have a DataFrame containing a subscription_date column that was collected from various sources with different Date formats such as YYYY-mm-dd and YYYY-dd-mm. What is the best way to unify the formats for ambiguous values such as 2019-04-07?\n",
    "\n",
    "## Possible Answers\n",
    "\n",
    "* Set them to NA and drop them.\n",
    "\n",
    "* Infer the format of the data in question by checking the format of subsequent and previous values.\n",
    "\n",
    "* Infer the format from the original data source.\n",
    "\n",
    "* All of the above are possible, as long as we investigate where our data comes from, and understand the dynamics affecting it before cleaning it.\n",
    "\n",
    "## ANSWER:\n",
    "\n",
    "* All of the above are possible, as long as we investigate where our data comes from, and understand the dynamics affecting it before cleaning it.\n",
    "\n",
    "``Great work! Like most cleaning data tasks, ambiguous dates require a thorough understanding of where your data comes from. Diagnosing problems is the first step in finding the best solution!``"
   ]
  },
  {
   "cell_type": "markdown",
   "metadata": {},
   "source": [
    "# Uniform currencies\n",
    "\n",
    "In this exercise and throughout this chapter, you will be working with a retail banking dataset stored in the banking DataFrame. The dataset contains data on the amount of money stored in accounts (acct_amount), their currency (acct_cur), amount invested (inv_amount), account opening date (account_opened), and last transaction date (last_transaction) that were consolidated from American and European branches.\n",
    "\n",
    "You are tasked with understanding the average account size and how investments vary by the size of account, however in order to produce this analysis accurately, you first need to unify the currency amount into dollars. The pandas package has been imported as pd, and the banking DataFrame is in your environment.\n",
    "\n",
    "# Instructions\n",
    "\n",
    "* Find the rows of acct_cur in banking that are equal to 'euro' and store them in the variable acct_eu.\n",
    "* Find all the rows of acct_amount in banking that fit the acct_eu condition, and convert them to USD by multiplying them with 1.1.\n",
    "* Find all the rows of acct_cur in banking that fit the acct_eu condition, set them to 'dollar'."
   ]
  },
  {
   "cell_type": "code",
   "execution_count": 15,
   "metadata": {},
   "outputs": [],
   "source": [
    "# Find values of acct_cur that are equal to 'euro'\n",
    "acct_eu = banking['acct_cur'] == 'euro'\n",
    "\n",
    "# Convert acct_amount where it is in euro to dollars\n",
    "banking.loc[acct_eu, 'acct_amount'] = banking.loc[acct_eu, 'acct_amount'] * 1.1 \n",
    "\n",
    "# Unify acct_cur column by changing 'euro' values to 'dollar'\n",
    "banking.loc[acct_eu, 'acct_cur'] = 'dollar'\n",
    "\n",
    "# Assert that only dollar currency remains\n",
    "assert banking['acct_cur'].unique() == 'dollar'"
   ]
  },
  {
   "cell_type": "markdown",
   "metadata": {},
   "source": [
    "# Uniform dates\n",
    "\n",
    "After having unified the currencies of your different account amounts, you want to add a temporal dimension to your analysis and see how customers have been investing their money given the size of their account over each year. The account_opened column represents when customers opened their accounts and is a good proxy for segmenting customer activity and investment over time.\n",
    "\n",
    "However, since this data was consolidated from multiple sources, you need to make sure that all dates are of the same format. You will do so by converting this column into a datetime object, while making sure that the format is inferred and potentially incorrect formats are set to missing. The banking DataFrame is in your environment and pandas was imported as pd.\n",
    "\n",
    "\n",
    "Instructions 1/4\n",
    "\n",
    "Print the header of account_opened from the banking DataFrame and take a look at the different results.\n"
   ]
  },
  {
   "cell_type": "code",
   "execution_count": 16,
   "metadata": {},
   "outputs": [
    {
     "name": "stdout",
     "output_type": "stream",
     "text": [
      "0    02-09-18\n",
      "1    28-02-19\n",
      "2    25-04-18\n",
      "3    07-11-17\n",
      "4    14-05-18\n",
      "Name: account_opened, dtype: object\n"
     ]
    }
   ],
   "source": [
    "# Print the header of account_opend\n",
    "print(banking['account_opened'].head())"
   ]
  },
  {
   "cell_type": "markdown",
   "metadata": {},
   "source": [
    "## Instructions 2/4\n",
    "\n",
    "## Question\n",
    "\n",
    "Take a look at the output. You tried converting the values to datetime using the default to_datetime() function without changing any argument, however received the following error:\n",
    "\n",
    "``ValueError: month must be in 1..12``\n",
    "\n",
    "Why do you think that is?\n",
    "\n",
    "## Possible Answers\n",
    "\n",
    "* The to_datetime() function needs to be explicitly told which date format each row is in.\n",
    "\n",
    "* The to_datetime() function can only be applied on YY-mm-dd date formats.\n",
    "\n",
    "* The 21-14-17 entry is erroneous and leads to an error.\n",
    "\n",
    "## ANSWER:\n",
    "\n",
    "* The 21-14-17 entry is erroneous and leads to an error."
   ]
  },
  {
   "cell_type": "markdown",
   "metadata": {},
   "source": [
    "## Instructions 3/4\n",
    "\n",
    "* Convert the account_opened column to datetime, while making sure the date format is inferred and that erroneous formats that raise error return a missing value.\n",
    "\n",
    "## Instructions 4/4\n",
    "\n",
    "* Extract the year from the amended account_opened column and assign it to the acct_year column.\n",
    "* Print the newly created acct_year column."
   ]
  },
  {
   "cell_type": "code",
   "execution_count": 17,
   "metadata": {},
   "outputs": [
    {
     "name": "stdout",
     "output_type": "stream",
     "text": [
      "0    02-09-18\n",
      "1    28-02-19\n",
      "2    25-04-18\n",
      "3    07-11-17\n",
      "4    14-05-18\n",
      "Name: account_opened, dtype: object\n",
      "0     2018\n",
      "1     2019\n",
      "2     2018\n",
      "3     2017\n",
      "4     2018\n",
      "      ... \n",
      "95    2018\n",
      "96    2017\n",
      "97    2017\n",
      "98    2017\n",
      "99    2017\n",
      "Name: acct_year, Length: 100, dtype: object\n"
     ]
    }
   ],
   "source": [
    "# Print the header of account_opend\n",
    "print(banking['account_opened'].head())\n",
    "\n",
    "# Convert account_opened to datetime\n",
    "banking['account_opened'] = pd.to_datetime(banking['account_opened'],\n",
    "                                           # Infer datetime format\n",
    "                                           infer_datetime_format = True,\n",
    "                                           # Return missing value for error\n",
    "                                           errors = 'coerce') \n",
    "\n",
    "# Get year of account opened\n",
    "banking['acct_year'] = banking['account_opened'].dt.strftime('%Y')\n",
    "\n",
    "# Print acct_year\n",
    "print(banking['acct_year'])"
   ]
  },
  {
   "cell_type": "markdown",
   "metadata": {},
   "source": [
    "# Cross field or no cross field?\n",
    "\n",
    "Throughout this course, you've been immersed in a variety of data cleaning problems from range constraints, data type constraints, uniformity and more.\n",
    "\n",
    "In this lesson, you were introduced to cross field validation as a means to sanity check your data and making sure you have strong data integrity.\n",
    "\n",
    "Now, you will map different applicable concepts and techniques to their respective categories.\n",
    "\n",
    "## Instructions\n",
    "\n",
    "Map different applicable concepts and techniques to their respective categories.\n",
    "\n",
    "* Cross field Validation:\n",
    "    * Confirming the age providined by users by cross checking their birthday.\n",
    "    * Row wise operations such as ``.sum(axis=1)``.\n",
    "\n",
    "## \n",
    "* Not Cross field Validation:\n",
    "    * Make sure that a revenue column is a numeric column.\n",
    "    * The use of the ``.astype()`` method.\n",
    "    * Making sure a subscription_date column has no values set in the future."
   ]
  },
  {
   "cell_type": "markdown",
   "metadata": {},
   "source": [
    "# How's our data integrity?"
   ]
  },
  {
   "cell_type": "code",
   "execution_count": 18,
   "metadata": {},
   "outputs": [
    {
     "name": "stdout",
     "output_type": "stream",
     "text": [
      "Number of inconsistent investments:  8\n"
     ]
    }
   ],
   "source": [
    "# Store fund columns to sum against\n",
    "fund_columns = ['fund_A', 'fund_B', 'fund_C', 'fund_D']\n",
    "\n",
    "# Find rows where fund_columns row sum == inv_amount\n",
    "inv_equ = banking[fund_columns].sum(axis=1) == banking['inv_amount']\n",
    "\n",
    "# Store consistent and inconsistent data\n",
    "consistent_inv = banking[inv_equ]\n",
    "inconsistent_inv = banking[~inv_equ]\n",
    "\n",
    "# Store consistent and inconsistent data\n",
    "print(\"Number of inconsistent investments: \", inconsistent_inv.shape[0])"
   ]
  },
  {
   "cell_type": "code",
   "execution_count": 19,
   "metadata": {},
   "outputs": [
    {
     "name": "stdout",
     "output_type": "stream",
     "text": [
      "Number of inconsistent ages:  100\n"
     ]
    }
   ],
   "source": [
    "import datetime as dt\n",
    "banking['birth_date'] = pd.to_datetime(banking['birth_date'])\n",
    "\n",
    "# Store today's date and find ages\n",
    "today = dt.date.today()\n",
    "ages_manual = today.year - banking['birth_date'].dt.year\n",
    "\n",
    "# Find rows where age column == ages_manual\n",
    "age_equ = banking[\"age\"] == ages_manual\n",
    "\n",
    "# Store consistent and inconsistent data\n",
    "consistent_ages = banking[age_equ]\n",
    "inconsistent_ages = banking[~age_equ]\n",
    "\n",
    "# Store consistent and inconsistent data\n",
    "print(\"Number of inconsistent ages: \", inconsistent_ages.shape[0])"
   ]
  },
  {
   "cell_type": "markdown",
   "metadata": {},
   "source": [
    "# Is this missing at random?\n",
    "\n",
    "You've seen in the video exercise how there are a variety of missingness types when observing missing data. As a reminder, missingness types can be described as the following:\n",
    "\n",
    "* **Missing Completely at Random**: No systematic relationship between a column's missing values and other or own values.\n",
    "* **Missing at Random**: There is a systematic relationship between a column's missing values and other observed values.\n",
    "* **Missing not at Random**: There is a systematic relationship between a column's missing values and unobserved values.\n",
    "\n",
    "You have a DataFrame containing customer satisfaction scores for a service. What type of missingness is the following?\n",
    "\n",
    "                              A customer satisfaction_score column with missing values for highly dissatisfied customers.\n",
    "\n",
    "\n",
    "## Possible Answers\n",
    "\n",
    "* Missing completely at random.\n",
    "\n",
    "* Missing at random.\n",
    "\n",
    "* Missing not at random.\n",
    "\n",
    "## ANSWER:\n",
    "\n",
    "* Missing not at random."
   ]
  },
  {
   "cell_type": "markdown",
   "metadata": {},
   "source": [
    "# Missing investors\n",
    "\n",
    "Dealing with missing data is one of the most common tasks in data science. There are a variety of types of missingness, as well as a variety of types of solutions to missing data.\n",
    "\n",
    "You just received a new version of the banking DataFrame containing data on the amount held and invested for new and existing customers. However, there are rows with missing inv_amount values.\n",
    "\n",
    "You know for a fact that most customers below 25 do not have investment accounts yet, and suspect it could be driving the missingness. The pandas, missingno and matplotlib.pyplot packages have been imported as pd, msno and plt respectively. The banking DataFrame is in your environment."
   ]
  },
  {
   "cell_type": "markdown",
   "metadata": {},
   "source": [
    "# Missing investors\n",
    "Dealing with missing data is one of the most common tasks in data science. There are a variety of types of missingness, as well as a variety of types of solutions to missing data.\n",
    "\n",
    "You just received a new version of the banking DataFrame containing data on the amount held and invested for new and existing customers. However, there are rows with missing inv_amount values.\n",
    "\n",
    "You know for a fact that most customers below 25 do not have investment accounts yet, and suspect it could be driving the missingness. The pandas, missingno and matplotlib.pyplot packages have been imported as pd, msno and plt respectively. The banking DataFrame is in your environment."
   ]
  },
  {
   "cell_type": "code",
   "execution_count": 21,
   "metadata": {},
   "outputs": [
    {
     "name": "stdout",
     "output_type": "stream",
     "text": [
      "cust_id             0\n",
      "birth_date          0\n",
      "age                 0\n",
      "acct_amount         0\n",
      "inv_amount          0\n",
      "fund_A              0\n",
      "fund_B              0\n",
      "fund_C              0\n",
      "fund_D              0\n",
      "account_opened      0\n",
      "last_transaction    0\n",
      "acct_cur            0\n",
      "acct_year           0\n",
      "dtype: int64\n"
     ]
    },
    {
     "data": {
      "image/png": "[encoded data removed]",
      "text/plain": [
       "<Figure size 1800x720 with 2 Axes>"
      ]
     },
     "metadata": {
      "needs_background": "light"
     },
     "output_type": "display_data"
    },
    {
     "name": "stdout",
     "output_type": "stream",
     "text": [
      "       age  acct_amount  inv_amount  fund_A  fund_B  fund_C  fund_D\n",
      "count  0.0          0.0         0.0     0.0     0.0     0.0     0.0\n",
      "mean   NaN          NaN         NaN     NaN     NaN     NaN     NaN\n",
      "std    NaN          NaN         NaN     NaN     NaN     NaN     NaN\n",
      "min    NaN          NaN         NaN     NaN     NaN     NaN     NaN\n",
      "25%    NaN          NaN         NaN     NaN     NaN     NaN     NaN\n",
      "50%    NaN          NaN         NaN     NaN     NaN     NaN     NaN\n",
      "75%    NaN          NaN         NaN     NaN     NaN     NaN     NaN\n",
      "max    NaN          NaN         NaN     NaN     NaN     NaN     NaN\n"
     ]
    },
    {
     "data": {
      "image/png": "[encoded data removed]",
      "text/plain": [
       "<Figure size 1800x720 with 2 Axes>"
      ]
     },
     "metadata": {
      "needs_background": "light"
     },
     "output_type": "display_data"
    }
   ],
   "source": [
    "# ! pip install missingno\n",
    "import missingno as msno\n",
    "import matplotlib.pyplot as plt\n",
    "\n",
    "# Print number of missing values in banking\n",
    "print(banking.isna().sum())\n",
    "\n",
    "# Visualize missingness matrix\n",
    "msno.matrix(banking)\n",
    "plt.show()\n",
    "\n",
    "# Isolate missing and non missing values of inv_amount\n",
    "missing_investors = banking[banking['inv_amount'].isna()]\n",
    "investors = banking[~banking['inv_amount'].isna()]\n",
    "\n",
    "print(missing_investors.describe())\n",
    "\n",
    "# Sort banking by age and visualize\n",
    "banking_sorted = banking.sort_values('age')\n",
    "msno.matrix(banking_sorted)\n",
    "plt.show()"
   ]
  },
  {
   "cell_type": "markdown",
   "metadata": {},
   "source": [
    "# Follow the money\n",
    "\n",
    "In this exercise, you're working with another version of the banking DataFrame that contains missing values for both the cust_id column and the acct_amount column.\n",
    "\n",
    "You want to produce analysis on how many unique customers the bank has, the average amount held by customers and more. You know that rows with missing cust_id don't really help you, and that on average acct_amount is usually 5 times the amount of inv_amount.\n",
    "\n",
    "In this exercise, you will drop rows of banking with missing cust_ids, and impute missing values of acct_amount with some domain knowledge."
   ]
  },
  {
   "cell_type": "code",
   "execution_count": 22,
   "metadata": {},
   "outputs": [
    {
     "name": "stdout",
     "output_type": "stream",
     "text": [
      "cust_id             0\n",
      "birth_date          0\n",
      "age                 0\n",
      "acct_amount         0\n",
      "inv_amount          0\n",
      "fund_A              0\n",
      "fund_B              0\n",
      "fund_C              0\n",
      "fund_D              0\n",
      "account_opened      0\n",
      "last_transaction    0\n",
      "acct_cur            0\n",
      "acct_year           0\n",
      "dtype: int64\n"
     ]
    }
   ],
   "source": [
    "# Drop missing values of cust_id\n",
    "banking_fullid = banking.dropna(subset = ['cust_id'])\n",
    "\n",
    "# Compute estimated acct_amount\n",
    "acct_imp = banking_fullid['inv_amount']* 5\n",
    "\n",
    "# Impute missing acct_amount with corresponding acct_imp\n",
    "banking_imputed = banking_fullid.fillna({'acct_amount':acct_imp})\n",
    "\n",
    "# Print number of missing values\n",
    "print(banking_imputed.isna().sum())"
   ]
  }
 ],
 "metadata": {
  "kernelspec": {
   "display_name": "Python 3.8.13 ('datacamp')",
   "language": "python",
   "name": "python3"
  },
  "language_info": {
   "codemirror_mode": {
    "name": "ipython",
    "version": 3
   },
   "file_extension": ".py",
   "mimetype": "text/x-python",
   "name": "python",
   "nbconvert_exporter": "python",
   "pygments_lexer": "ipython3",
   "version": "3.8.13"
  },
  "orig_nbformat": 4,
  "vscode": {
   "interpreter": {
    "hash": "7d7dbeb1711c1dccb8cce60042c5bc5c0a3d59246e11fec6876b459dbf8bbb97"
   }
  }
 },
 "nbformat": 4,
 "nbformat_minor": 2
}
