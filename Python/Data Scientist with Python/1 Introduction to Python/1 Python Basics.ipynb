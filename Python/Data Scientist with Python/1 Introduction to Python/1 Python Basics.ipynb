{
 "cells": [
  {
   "cell_type": "markdown",
   "id": "178948ff-0b3f-4438-9ee5-d41bf76cf451",
   "metadata": {},
   "source": [
    "# The Python Interface"
   ]
  },
  {
   "cell_type": "raw",
   "id": "aeecd3b5-839c-4625-9390-cf5bef4ed84a",
   "metadata": {},
   "source": [
    "Instructions\n",
    "100 XP\n",
    "Experiment in the IPython Shell; type 5 / 8, for example.\n",
    "Add another line of code to the Python script on the top-right (not in the Shell): print(7 + 10).\n",
    "Hit Submit Answer to execute the Python script and receive feedback."
   ]
  },
  {
   "cell_type": "code",
   "execution_count": 1,
   "id": "cf7bdfd9-77fa-4470-bcb2-c1ce06526f7e",
   "metadata": {},
   "outputs": [
    {
     "name": "stdout",
     "output_type": "stream",
     "text": [
      "0.625\n",
      "17\n"
     ]
    }
   ],
   "source": [
    "# Example, do not modify!\n",
    "print(5 / 8)\n",
    "\n",
    "# Print the sum of 7 and 10\n",
    "print(7 + 10)"
   ]
  },
  {
   "cell_type": "markdown",
   "id": "2bf3481a-b2b7-452c-a5cc-a61cde73d7ce",
   "metadata": {},
   "source": [
    "# When to use Python?\n",
    "Python is a pretty versatile language. For which applications can you use Python?"
   ]
  },
  {
   "cell_type": "markdown",
   "id": "92dcdfc4-4167-4214-8cad-c00c9f01d926",
   "metadata": {},
   "source": [
    "ANSWER: \n",
    "All of the above."
   ]
  },
  {
   "cell_type": "markdown",
   "id": "2c867797-0251-4055-8635-afe6472e8f5d",
   "metadata": {},
   "source": [
    "# Any comments?"
   ]
  },
  {
   "cell_type": "raw",
   "id": "3cf99cfe-0e00-40f2-bcb0-76bab697673d",
   "metadata": {},
   "source": [
    "Instructions\n",
    "100 XP\n",
    "Above the print(7 + 10), add the comment\n",
    "\n",
    "# Addition"
   ]
  },
  {
   "cell_type": "code",
   "execution_count": 2,
   "id": "943df44d-db8a-4c34-98af-055f311577ad",
   "metadata": {},
   "outputs": [
    {
     "name": "stdout",
     "output_type": "stream",
     "text": [
      "0.625\n",
      "17\n"
     ]
    }
   ],
   "source": [
    "# Division\n",
    "print(5 / 8)\n",
    "\n",
    "# Addition\n",
    "print(7 + 10)"
   ]
  },
  {
   "cell_type": "markdown",
   "id": "9e84dafe-8b6a-4d45-9807-eee0c7882745",
   "metadata": {},
   "source": [
    "# Python as a calculator"
   ]
  },
  {
   "cell_type": "raw",
   "id": "eb794e26-3b89-4050-9c2c-0b17d0f9c7be",
   "metadata": {},
   "source": [
    "Instructions\n",
    "100 XP\n",
    "Suppose you have $100, which you can invest with a 10% return each year. After one year, it's  dollars, and after two years it's . Add code to calculate how much money you end up with after 7 years, and print the result."
   ]
  },
  {
   "cell_type": "code",
   "execution_count": 3,
   "id": "512bea5d-ce35-4240-a7e5-cdd36df9edeb",
   "metadata": {},
   "outputs": [
    {
     "name": "stdout",
     "output_type": "stream",
     "text": [
      "10\n",
      "0\n",
      "15\n",
      "5.0\n",
      "4\n",
      "16\n",
      "194.87171000000012\n"
     ]
    }
   ],
   "source": [
    "# Addition, subtraction\n",
    "print(5 + 5)\n",
    "print(5 - 5)\n",
    "\n",
    "# Multiplication, division, modulo, and exponentiation\n",
    "print(3 * 5)\n",
    "print(10 / 2)\n",
    "print(18 % 7)\n",
    "print(4 ** 2)\n",
    "\n",
    "# How much is your $100 worth after 7 years?\n",
    "print(100*1.1**7)"
   ]
  },
  {
   "cell_type": "markdown",
   "id": "648ea171-4a40-4f20-a39f-50f96f2f4126",
   "metadata": {},
   "source": [
    "# Variable Assignment"
   ]
  },
  {
   "cell_type": "raw",
   "id": "2ab8deae-1d0f-486f-977e-f928f5886b31",
   "metadata": {},
   "source": [
    "Instructions\n",
    "100 XP\n",
    "Create a variable savings with the value 100.\n",
    "Check out this variable by typing print(savings) in the script."
   ]
  },
  {
   "cell_type": "code",
   "execution_count": 4,
   "id": "0b44b03b-9f21-46d4-b190-9c676217bb1d",
   "metadata": {},
   "outputs": [
    {
     "name": "stdout",
     "output_type": "stream",
     "text": [
      "100\n"
     ]
    }
   ],
   "source": [
    "# Create a variable savings\n",
    "savings = 100\n",
    "\n",
    "# Print out savings\n",
    "print(savings)"
   ]
  },
  {
   "cell_type": "markdown",
   "id": "3f5d3242-97bf-4aef-8622-b8ac161e9a5b",
   "metadata": {},
   "source": [
    "# Calculations with variables"
   ]
  },
  {
   "cell_type": "raw",
   "id": "0a502c53-d07b-4119-a73c-3174ae5898a0",
   "metadata": {},
   "source": [
    "Instructions\n",
    "100 XP\n",
    "Create a variable growth_multiplier, equal to 1.1.\n",
    "Create a variable, result, equal to the amount of money you saved after 7 years.\n",
    "Print out the value of result."
   ]
  },
  {
   "cell_type": "code",
   "execution_count": 5,
   "id": "5c6f406e-f17d-4938-8088-157a3499daea",
   "metadata": {},
   "outputs": [
    {
     "name": "stdout",
     "output_type": "stream",
     "text": [
      "194.87171000000012\n"
     ]
    }
   ],
   "source": [
    "# Create a variable savings\n",
    "savings = 100\n",
    "\n",
    "# Create a variable growth_multiplier\n",
    "growth_multiplier = 1.1\n",
    "\n",
    "# Calculate result\n",
    "result = savings*growth_multiplier**7\n",
    "\n",
    "# Print out result\n",
    "print(result)"
   ]
  },
  {
   "cell_type": "markdown",
   "id": "7cfa32ae-86ba-4d7b-9383-e58253f4dff0",
   "metadata": {},
   "source": [
    "# Other variable types"
   ]
  },
  {
   "cell_type": "raw",
   "id": "ebb48851-2bbb-40ae-b316-d84edd28190a",
   "metadata": {},
   "source": [
    "Instructions\n",
    "100 XP\n",
    "Create a new string, desc, with the value \"compound interest\".\n",
    "Create a new boolean, profitable, with the value True."
   ]
  },
  {
   "cell_type": "code",
   "execution_count": 6,
   "id": "409340e8-4a4a-40c9-913d-5e0b4f4ec730",
   "metadata": {},
   "outputs": [],
   "source": [
    "# Create a variable desc\n",
    "desc = \"compound interest\"\n",
    "\n",
    "# Create a variable profitable\n",
    "profitable = True"
   ]
  },
  {
   "cell_type": "markdown",
   "id": "f8bbdfd8-e5d9-4614-9170-302e1561fd08",
   "metadata": {},
   "source": [
    "# Guess the type"
   ]
  },
  {
   "cell_type": "raw",
   "id": "e68a2efd-902e-48c4-9d0c-1734b6abe080",
   "metadata": {},
   "source": [
    "We already went ahead and created three variables: a, b and c. You can use the IPython shell to discover their type. Which of the following options is correct?"
   ]
  },
  {
   "cell_type": "markdown",
   "id": "7b8a9e09-71db-4dd6-89df-3e405a81db53",
   "metadata": {},
   "source": [
    "ANSWER: \n",
    "a is of type float, b is of type str, c is of type bool"
   ]
  },
  {
   "cell_type": "markdown",
   "id": "070cd543-c1bf-440c-aee4-096df024b7a3",
   "metadata": {},
   "source": [
    "# Operations with other types"
   ]
  },
  {
   "cell_type": "raw",
   "id": "6a9b2934-782f-48cd-9807-8e23226fb9bb",
   "metadata": {},
   "source": [
    "Instructions\n",
    "100 XP\n",
    "Calculate the product of savings and growth_multiplier. Store the result in year1.\n",
    "What do you think the resulting type will be? Find out by printing out the type of year1.\n",
    "Calculate the sum of desc and desc and store the result in a new variable doubledesc.\n",
    "Print out doubledesc. Did you expect this?"
   ]
  },
  {
   "cell_type": "code",
   "execution_count": 7,
   "id": "d5016d60-f660-44d2-a8a1-2a74da608429",
   "metadata": {},
   "outputs": [
    {
     "name": "stdout",
     "output_type": "stream",
     "text": [
      "<class 'float'>\n",
      "compound interestcompound interest\n"
     ]
    }
   ],
   "source": [
    "savings = 100\n",
    "growth_multiplier = 1.1\n",
    "desc = \"compound interest\"\n",
    "\n",
    "# Assign product of growth_multiplier and savings to year1\n",
    "year1 = growth_multiplier*savings \n",
    "\n",
    "# Print the type of year1\n",
    "print(type(year1))\n",
    "\n",
    "# Assign sum of desc and desc to doubledesc\n",
    "doubledesc = desc + desc \n",
    "\n",
    "# Print out doubledesc\n",
    "print(doubledesc)"
   ]
  },
  {
   "cell_type": "markdown",
   "id": "4fcac0f8-dcd6-4105-8667-9ebf6cc3089c",
   "metadata": {},
   "source": [
    "# Type conversion"
   ]
  },
  {
   "cell_type": "raw",
   "id": "047965c1-e38a-4388-b8d3-394c94b1fd5f",
   "metadata": {},
   "source": [
    "Instructions\n",
    "100 XP\n",
    "Hit Run Code to run the code. Try to understand the error message.\n",
    "Fix the code such that the printout runs without errors; use the function str() to convert the variables to strings.\n",
    "Convert the variable pi_string to a float and store this float as a new variable, pi_float."
   ]
  },
  {
   "cell_type": "code",
   "execution_count": 8,
   "id": "256ca858-7f57-4465-8ac9-cced7b8b4bb6",
   "metadata": {},
   "outputs": [
    {
     "name": "stdout",
     "output_type": "stream",
     "text": [
      "I started with $100 and now have $194.87171000000012. Awesome!\n"
     ]
    }
   ],
   "source": [
    "# Definition of savings and result\n",
    "savings = 100\n",
    "result = 100 * 1.10 ** 7\n",
    "\n",
    "# Fix the printout\n",
    "print(\"I started with $\" + str(savings) + \" and now have $\" + str(result) + \". Awesome!\")\n",
    "\n",
    "# Definition of pi_string\n",
    "pi_string = \"3.1415926\"\n",
    "\n",
    "# Convert pi_string into float: pi_float\n",
    "pi_float=float(pi_string)"
   ]
  },
  {
   "cell_type": "markdown",
   "id": "70aec877-46ab-4ae8-b91e-cae03c497941",
   "metadata": {},
   "source": [
    "# Can Python handle everything?"
   ]
  },
  {
   "cell_type": "raw",
   "id": "ede2bbcf-db9a-49f4-9420-12e470f9a7ee",
   "metadata": {},
   "source": [
    "Now that you know something more about combining different sources of information, have a look at the four Python expressions below. Which one of these will throw an error? You can always copy and paste this code in the IPython Shell to find out!"
   ]
  },
  {
   "cell_type": "markdown",
   "id": "ba76e639-f08c-42bc-94f7-feaf5c5c9626",
   "metadata": {},
   "source": [
    "ANSWER: \n",
    "\"The correct answer to this multiple choice exercise is answer number \" + 2"
   ]
  },
  {
   "cell_type": "code",
   "execution_count": null,
   "id": "3e6006ba-ce68-435f-bfaf-a0343dd553b7",
   "metadata": {},
   "outputs": [],
   "source": []
  }
 ],
 "metadata": {
  "kernelspec": {
   "display_name": "Python 3 (ipykernel)",
   "language": "python",
   "name": "python3"
  },
  "language_info": {
   "codemirror_mode": {
    "name": "ipython",
    "version": 3
   },
   "file_extension": ".py",
   "mimetype": "text/x-python",
   "name": "python",
   "nbconvert_exporter": "python",
   "pygments_lexer": "ipython3",
   "version": "3.8.12"
  }
 },
 "nbformat": 4,
 "nbformat_minor": 5
}
