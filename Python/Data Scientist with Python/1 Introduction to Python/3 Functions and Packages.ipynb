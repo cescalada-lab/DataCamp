{
 "cells": [
  {
   "cell_type": "markdown",
   "id": "00fd8c95-3112-456a-b8d4-61790ce00f46",
   "metadata": {},
   "source": [
    "# Familiar functions"
   ]
  },
  {
   "cell_type": "raw",
   "id": "67ef6b39-ed04-4069-89e4-470e163cdd41",
   "metadata": {},
   "source": [
    "Instructions\n",
    "100 XP\n",
    "Use print() in combination with type() to print out the type of var1.\n",
    "Use len() to get the length of the list var1. Wrap it in a print() call to directly print it out.\n",
    "Use int() to convert var2 to an integer. Store the output as out2."
   ]
  },
  {
   "cell_type": "code",
   "execution_count": 1,
   "id": "6051c4b2-22e3-45ad-8eb7-9bb6ec5ad2cf",
   "metadata": {},
   "outputs": [
    {
     "name": "stdout",
     "output_type": "stream",
     "text": [
      "<class 'list'>\n",
      "4\n"
     ]
    }
   ],
   "source": [
    "# Create variables var1 and var2\n",
    "var1 = [1, 2, 3, 4]\n",
    "var2 = True\n",
    "\n",
    "# Print out type of var1\n",
    "print(type(var1))\n",
    "\n",
    "# Print out length of var1\n",
    "print(len(var1))\n",
    "\n",
    "# Convert var2 to an integer: out2\n",
    "out2 = int(var2)"
   ]
  },
  {
   "cell_type": "markdown",
   "id": "c6ee8c48-6522-4270-9b54-ccf6b6491b87",
   "metadata": {},
   "source": [
    "# Help!"
   ]
  },
  {
   "cell_type": "raw",
   "id": "9c068428-2f85-4d23-ab4e-b3d9984caeed",
   "metadata": {},
   "source": [
    "Use the Shell to open up the documentation on complex(). Which of the following statements is true?"
   ]
  },
  {
   "cell_type": "markdown",
   "id": "d055bc98-b4c9-459d-a14e-b0d451002371",
   "metadata": {},
   "source": [
    "ANSWER: \n",
    "complex() takes two arguments: real and imag. real is a required argument, imag is an optional argument."
   ]
  },
  {
   "cell_type": "markdown",
   "id": "da540d9b-021a-4e07-a661-60a368858ed1",
   "metadata": {},
   "source": [
    "# Multiple arguments"
   ]
  },
  {
   "cell_type": "code",
   "execution_count": 2,
   "id": "2e62c247-03cc-408f-9b28-064a73480b90",
   "metadata": {},
   "outputs": [
    {
     "name": "stdout",
     "output_type": "stream",
     "text": [
      "[20.0, 18.0, 11.25, 10.75, 9.5]\n"
     ]
    }
   ],
   "source": [
    "# Create lists first and second\n",
    "first = [11.25, 18.0, 20.0]\n",
    "second = [10.75, 9.50]\n",
    "\n",
    "# Paste together first and second: full\n",
    "full = first + second\n",
    "\n",
    "# Sort full in descending order: full_sorted\n",
    "full_sorted = sorted(full, reverse = True)\n",
    "\n",
    "# Print out full_sorted\n",
    "print(full_sorted)"
   ]
  },
  {
   "cell_type": "markdown",
   "id": "94457ad5-3328-4e8d-ac84-ee278ba49b87",
   "metadata": {},
   "source": [
    "# String Methods"
   ]
  },
  {
   "cell_type": "raw",
   "id": "8264d4da-2822-4cdf-9674-11250f91b8c1",
   "metadata": {},
   "source": [
    "Instructions\n",
    "100 XP\n",
    "Use the upper() method on place and store the result in place_up. Use the syntax for calling methods that you learned in the previous video.\n",
    "Print out place and place_up. Did both change?\n",
    "Print out the number of o's on the variable place by calling count() on place and passing the letter 'o' as an input to the method. We're talking about the variable place, not the word \"place\"!"
   ]
  },
  {
   "cell_type": "code",
   "execution_count": 10,
   "id": "61b82626-a051-4d90-a96b-cca4721e7ada",
   "metadata": {},
   "outputs": [
    {
     "name": "stdout",
     "output_type": "stream",
     "text": [
      "poolhouse POOLHOUSE\n",
      "3\n"
     ]
    }
   ],
   "source": [
    "# string to experiment with: place\n",
    "place = \"poolhouse\"\n",
    "\n",
    "# Use upper() on place: place_up\n",
    "place_up = place.upper()\n",
    "\n",
    "# Print out place and place_up\n",
    "print(place,place_up)\n",
    "\n",
    "# Print out the number of o's in place\n",
    "print(place.count('o'))"
   ]
  },
  {
   "cell_type": "markdown",
   "id": "688a5201-2d7b-4602-9360-9a9506944fac",
   "metadata": {},
   "source": [
    "# List Methods"
   ]
  },
  {
   "cell_type": "raw",
   "id": "d86e2f07-a49e-40bb-bd47-a483d914bf02",
   "metadata": {},
   "source": [
    "Instructions\n",
    "100 XP\n",
    "Use the index() method to get the index of the element in areas that is equal to 20.0. Print out this index.\n",
    "Call count() on areas to find out how many times 9.50 appears in the list. Again, simply print out this number."
   ]
  },
  {
   "cell_type": "code",
   "execution_count": 11,
   "id": "bb1ae5a2-f959-461b-bd48-f4cef8014590",
   "metadata": {},
   "outputs": [
    {
     "name": "stdout",
     "output_type": "stream",
     "text": [
      "2\n",
      "1\n"
     ]
    }
   ],
   "source": [
    "# Create list areas\n",
    "areas = [11.25, 18.0, 20.0, 10.75, 9.50]\n",
    "\n",
    "# Print out the index of the element 20.0\n",
    "print(areas.index(20.0))\n",
    "\n",
    "# Print out how often 9.50 appears in areas\n",
    "print(areas.count(9.50))"
   ]
  },
  {
   "cell_type": "markdown",
   "id": "2e2ef7fe-4256-4e1f-9f32-eeae67a57e18",
   "metadata": {},
   "source": [
    "# List Methods (2)"
   ]
  },
  {
   "cell_type": "raw",
   "id": "7645d794-f38b-4dbc-b4de-f97dfbbffed3",
   "metadata": {},
   "source": [
    "Instructions\n",
    "100 XP\n",
    "Use append() twice to add the size of the poolhouse and the garage again: 24.5 and 15.45, respectively. Make sure to add them in this order.\n",
    "Print out areas\n",
    "Use the reverse() method to reverse the order of the elements in areas.\n",
    "Print out areas once more."
   ]
  },
  {
   "cell_type": "code",
   "execution_count": 12,
   "id": "682cba11-75ad-44c1-9d66-b603a89ca858",
   "metadata": {},
   "outputs": [
    {
     "name": "stdout",
     "output_type": "stream",
     "text": [
      "[11.25, 18.0, 20.0, 10.75, 9.5, 24.5, 15.45]\n",
      "[15.45, 24.5, 9.5, 10.75, 20.0, 18.0, 11.25]\n"
     ]
    }
   ],
   "source": [
    "# Create list areas\n",
    "areas = [11.25, 18.0, 20.0, 10.75, 9.50]\n",
    "\n",
    "# Use append twice to add poolhouse and garage size\n",
    "areas.append(24.5)\n",
    "areas.append(15.45)\n",
    "\n",
    "# Print out areas\n",
    "print(areas)\n",
    "\n",
    "# Reverse the orders of the elements in areas\n",
    "areas.reverse()\n",
    "\n",
    "# Print out areas\n",
    "print(areas)"
   ]
  },
  {
   "cell_type": "markdown",
   "id": "18af2edd-d160-44d5-abb4-8e89af0a5b0f",
   "metadata": {},
   "source": [
    "# Import package"
   ]
  },
  {
   "cell_type": "raw",
   "id": "c0cdf2f2-0e8b-4bd9-92ec-d38e884416de",
   "metadata": {},
   "source": [
    "Instructions\n",
    "100 XP\n",
    "Import the math package. Now you can access the constant pi with math.pi.\n",
    "Calculate the circumference of the circle and store it in C.\n",
    "Calculate the area of the circle and store it in A."
   ]
  },
  {
   "cell_type": "code",
   "execution_count": 13,
   "id": "718b972f-6dad-4adf-a7ef-743b0859704c",
   "metadata": {},
   "outputs": [
    {
     "name": "stdout",
     "output_type": "stream",
     "text": [
      "Circumference: 2.701769682087222\n",
      "Area: 0.5808804816487527\n"
     ]
    }
   ],
   "source": [
    "# Definition of radius\n",
    "r = 0.43\n",
    "\n",
    "# Import the math package\n",
    "import math as m\n",
    "\n",
    "# Calculate C\n",
    "C = 2*m.pi*r\n",
    "\n",
    "# Calculate A\n",
    "A = m.pi*r**2\n",
    "\n",
    "# Build printout\n",
    "print(\"Circumference: \" + str(C))\n",
    "print(\"Area: \" + str(A))"
   ]
  },
  {
   "cell_type": "markdown",
   "id": "06788d5b-43c1-45ca-8854-970bcbaba53d",
   "metadata": {},
   "source": [
    "# Selective import"
   ]
  },
  {
   "cell_type": "raw",
   "id": "3a691bc3-40bc-4005-9622-4b85d1cbbef9",
   "metadata": {},
   "source": [
    "Instructions\n",
    "100 XP\n",
    "Perform a selective import from the math package where you only import the radians function.\n",
    "Calculate the distance travelled by the Moon over 12 degrees of its orbit. Assign the result to dist. You can calculate this as r * phi, where r is the radius and phi is the angle in radians. To convert an angle in degrees to an angle in radians, use the radians() function, which you just imported.\n",
    "Print out dist."
   ]
  },
  {
   "cell_type": "code",
   "execution_count": 14,
   "id": "423364b9-c29f-45eb-940c-b2602900b8bb",
   "metadata": {},
   "outputs": [
    {
     "name": "stdout",
     "output_type": "stream",
     "text": [
      "40317.10572106901\n"
     ]
    }
   ],
   "source": [
    "# Definition of radius\n",
    "r = 192500 #km\n",
    "\n",
    "# Import radians function of math package\n",
    "from math import radians\n",
    "\n",
    "# Travel distance of Moon over 12 degrees. Store in dist.\n",
    "dist = r*radians(12)\n",
    "\n",
    "# Print out dist\n",
    "print(dist)"
   ]
  },
  {
   "cell_type": "markdown",
   "id": "7e7ee5dc-4fd5-477c-8187-6a668043fa8e",
   "metadata": {},
   "source": [
    "# Different ways of importing"
   ]
  },
  {
   "cell_type": "raw",
   "id": "53d4cd31-b5f5-499e-88bc-b43b496bd7d9",
   "metadata": {},
   "source": [
    "my_inv([[1,2], [3,4]])\n",
    "Which import statement will you need in order to run the above code without an error?"
   ]
  },
  {
   "cell_type": "markdown",
   "id": "5e5e824c-0213-4277-ba65-823e67293485",
   "metadata": {},
   "source": [
    "ANSWER: \n",
    "from scipy.linalg import inv as my_inv"
   ]
  },
  {
   "cell_type": "code",
   "execution_count": null,
   "id": "4a5c36f8-d447-4ae9-b649-32e6852c1313",
   "metadata": {},
   "outputs": [],
   "source": []
  }
 ],
 "metadata": {
  "kernelspec": {
   "display_name": "Python 3 (ipykernel)",
   "language": "python",
   "name": "python3"
  },
  "language_info": {
   "codemirror_mode": {
    "name": "ipython",
    "version": 3
   },
   "file_extension": ".py",
   "mimetype": "text/x-python",
   "name": "python",
   "nbconvert_exporter": "python",
   "pygments_lexer": "ipython3",
   "version": "3.8.12"
  }
 },
 "nbformat": 4,
 "nbformat_minor": 5
}
