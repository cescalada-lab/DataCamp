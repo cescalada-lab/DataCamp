{
 "cells": [
  {
   "cell_type": "markdown",
   "id": "5c7c3085-4b62-4b2b-b0c5-2165eb3b103e",
   "metadata": {},
   "source": [
    "# Create a list"
   ]
  },
  {
   "cell_type": "raw",
   "id": "0a2de02f-f20e-4f79-be63-9f6216bbb3b4",
   "metadata": {},
   "source": [
    "Instructions\n",
    "100 XP\n",
    "Create a list, areas, that contains the area of the hallway (hall), kitchen (kit), living room (liv), bedroom (bed) and bathroom (bath), in this order. Use the predefined variables.\n",
    "Print areas with the print() function."
   ]
  },
  {
   "cell_type": "code",
   "execution_count": 1,
   "id": "1627817d-8db1-43a5-8b65-749f236ce05a",
   "metadata": {},
   "outputs": [
    {
     "name": "stdout",
     "output_type": "stream",
     "text": [
      "[11.25, 18.0, 20.0, 10.75, 9.5]\n"
     ]
    }
   ],
   "source": [
    "# area variables (in square meters)\n",
    "hall = 11.25\n",
    "kit = 18.0\n",
    "liv = 20.0\n",
    "bed = 10.75\n",
    "bath = 9.50\n",
    "\n",
    "# Create list areas\n",
    "areas = [hall,kit,liv,bed,bath]\n",
    "\n",
    "# Print areas\n",
    "print(areas)"
   ]
  },
  {
   "cell_type": "markdown",
   "id": "0e30b86b-30de-47dd-9d81-82ce26a46747",
   "metadata": {},
   "source": [
    "# Create list with different types"
   ]
  },
  {
   "cell_type": "raw",
   "id": "719de046-897e-4cdd-9c45-8f2cea627bba",
   "metadata": {},
   "source": [
    "Instructions\n",
    "100 XP\n",
    "Finish the code that creates the areas list. Build the list so that the list first contains the name of each room as a string and then its area. In other words, add the strings \"hallway\", \"kitchen\" and \"bedroom\" at the appropriate locations.\n",
    "Print areas again; is the printout more informative this time?"
   ]
  },
  {
   "cell_type": "code",
   "execution_count": 2,
   "id": "326969a2-671f-4b38-99e9-b21190bf9148",
   "metadata": {},
   "outputs": [
    {
     "name": "stdout",
     "output_type": "stream",
     "text": [
      "['hallway', 11.25, 'kitchen', 18.0, 'living room', 20.0, 'bedroom', 10.75, 'bathroom', 9.5]\n"
     ]
    }
   ],
   "source": [
    "# area variables (in square meters)\n",
    "hall = 11.25\n",
    "kit = 18.0\n",
    "liv = 20.0\n",
    "bed = 10.75\n",
    "bath = 9.50\n",
    "\n",
    "# Adapt list areas\n",
    "areas = ['hallway',hall,'kitchen', kit, \"living room\", liv,'bedroom', bed, \"bathroom\", bath]\n",
    "\n",
    "# Print areas\n",
    "print(areas)"
   ]
  },
  {
   "cell_type": "markdown",
   "id": "d4601b46-3237-49dd-a5a1-e3bf33eb525d",
   "metadata": {},
   "source": [
    "# Select the valid list"
   ]
  },
  {
   "cell_type": "raw",
   "id": "01b4fed3-802f-406d-aeaf-b49f00128d4d",
   "metadata": {},
   "source": [
    "Can you tell which ones of the following lines of Python code are valid ways to build a list?\n",
    "\n",
    "A. [1, 3, 4, 2] B. [[1, 2, 3], [4, 5, 7]] C. [1 + 2, \"a\" * 5, 3]"
   ]
  },
  {
   "cell_type": "markdown",
   "id": "7f0f7bbf-eba7-41a7-90ef-8d8a4d9496a3",
   "metadata": {},
   "source": [
    "ANSWER: A, B and C"
   ]
  },
  {
   "cell_type": "markdown",
   "id": "c031c0dc-6168-418a-a21e-38435853cfce",
   "metadata": {},
   "source": [
    "# List of lists"
   ]
  },
  {
   "cell_type": "raw",
   "id": "bed1d444-4ad1-4f8e-9450-ff7036a540b4",
   "metadata": {},
   "source": [
    "Instructions\n",
    "100 XP\n",
    "Finish the list of lists so that it also contains the bedroom and bathroom data. Make sure you enter these in order!\n",
    "Print out house; does this way of structuring your data make more sense?\n",
    "Print out the type of house. Are you still dealing with a list?"
   ]
  },
  {
   "cell_type": "code",
   "execution_count": 4,
   "id": "b58b1a82-d197-4771-b4cd-ac090da606e0",
   "metadata": {},
   "outputs": [
    {
     "name": "stdout",
     "output_type": "stream",
     "text": [
      "[['hallway', 11.25], ['kitchen', 18.0], ['living room', 20.0], ['bedroom', 10.75], ['bathroom', 9.5]]\n",
      "<class 'list'>\n"
     ]
    }
   ],
   "source": [
    "# area variables (in square meters)\n",
    "hall = 11.25\n",
    "kit = 18.0\n",
    "liv = 20.0\n",
    "bed = 10.75\n",
    "bath = 9.50\n",
    "\n",
    "# house information as list of lists\n",
    "house = [[\"hallway\", hall],\n",
    "         [\"kitchen\", kit],\n",
    "         [\"living room\", liv],\n",
    "         [\"bedroom\",  bed],\n",
    "         [\"bathroom\", bath]]\n",
    "\n",
    "# Print out house\n",
    "print(house)\n",
    "\n",
    "# Print out the type of house\n",
    "print(type(house))"
   ]
  },
  {
   "cell_type": "markdown",
   "id": "02982f5b-11f9-4e1b-b238-a322f0ad5f36",
   "metadata": {},
   "source": [
    "# Subset and conquer"
   ]
  },
  {
   "cell_type": "raw",
   "id": "f0dd3dd2-a99b-4287-9870-6aef45bfba5e",
   "metadata": {},
   "source": [
    "Instructions\n",
    "100 XP\n",
    "Print out the second element from the areas list (it has the value 11.25).\n",
    "Subset and print out the last element of areas, being 9.50. Using a negative index makes sense here!\n",
    "Select the number representing the area of the living room (20.0) and print it out."
   ]
  },
  {
   "cell_type": "code",
   "execution_count": 6,
   "id": "4680e336-b7aa-43a8-b7b8-c19f35a6b001",
   "metadata": {},
   "outputs": [
    {
     "name": "stdout",
     "output_type": "stream",
     "text": [
      "11.25\n",
      "9.5\n",
      "20.0\n"
     ]
    }
   ],
   "source": [
    "# Create the areas list\n",
    "areas = [\"hallway\", 11.25, \"kitchen\", 18.0, \"living room\", 20.0, \"bedroom\", 10.75, \"bathroom\", 9.50]\n",
    "\n",
    "# Print out second element from areas\n",
    "print(areas[1])\n",
    "\n",
    "# Print out last element from areas\n",
    "print(areas[-1])\n",
    "\n",
    "# Print out the area of the living room\n",
    "print(areas[5])"
   ]
  },
  {
   "cell_type": "markdown",
   "id": "cd359d3b-5514-4989-b96d-09110054ff0f",
   "metadata": {},
   "source": [
    "# Subset and calculate"
   ]
  },
  {
   "cell_type": "raw",
   "id": "a67d8aee-e012-40ff-87d2-1a225729c339",
   "metadata": {},
   "source": [
    "Instructions\n",
    "100 XP\n",
    "Using a combination of list subsetting and variable assignment, create a new variable, eat_sleep_area, that contains the sum of the area of the kitchen and the area of the bedroom.\n",
    "Print the new variable eat_sleep_area."
   ]
  },
  {
   "cell_type": "code",
   "execution_count": 7,
   "id": "a255f019-9bc9-4505-8350-922baeb51b83",
   "metadata": {},
   "outputs": [
    {
     "name": "stdout",
     "output_type": "stream",
     "text": [
      "28.75\n"
     ]
    }
   ],
   "source": [
    "# Create the areas list\n",
    "areas = [\"hallway\", 11.25, \"kitchen\", 18.0, \"living room\", 20.0, \"bedroom\", 10.75, \"bathroom\", 9.50]\n",
    "\n",
    "# Sum of kitchen and bedroom area: eat_sleep_area\n",
    "eat_sleep_area = areas[3] + areas[-3]\n",
    "\n",
    "# Print the variable eat_sleep_area\n",
    "print(eat_sleep_area)"
   ]
  },
  {
   "cell_type": "markdown",
   "id": "34e303c1-360b-4218-b7cd-54276ac0d011",
   "metadata": {},
   "source": [
    "# Slicing and dicing"
   ]
  },
  {
   "cell_type": "raw",
   "id": "8189a29f-21d4-4310-ac1e-bfbe5ff13e48",
   "metadata": {},
   "source": [
    "Instructions\n",
    "100 XP\n",
    "Use slicing to create a list, downstairs, that contains the first 6 elements of areas.\n",
    "Do a similar thing to create a new variable, upstairs, that contains the last 4 elements of areas.\n",
    "Print both downstairs and upstairs using print()."
   ]
  },
  {
   "cell_type": "code",
   "execution_count": 8,
   "id": "6b15e417-ca55-424d-bd74-35b45b7a47ca",
   "metadata": {},
   "outputs": [
    {
     "name": "stdout",
     "output_type": "stream",
     "text": [
      "['hallway', 11.25, 'kitchen', 18.0, 'living room', 20.0] ['bedroom', 10.75, 'bathroom', 9.5]\n"
     ]
    }
   ],
   "source": [
    "# Create the areas list\n",
    "areas = [\"hallway\", 11.25, \"kitchen\", 18.0, \"living room\", 20.0, \"bedroom\", 10.75, \"bathroom\", 9.50]\n",
    "\n",
    "# Use slicing to create downstairs\n",
    "downstairs = areas[0:6]\n",
    "\n",
    "# Use slicing to create upstairs\n",
    "upstairs = areas[6:10]\n",
    "\n",
    "# Print out downstairs and upstairs\n",
    "print(downstairs , upstairs)"
   ]
  },
  {
   "cell_type": "markdown",
   "id": "d2b51eeb-ec7d-421e-91fe-6ba3fa69b0f4",
   "metadata": {},
   "source": [
    "# Slicing and dicing (2)"
   ]
  },
  {
   "cell_type": "raw",
   "id": "ab84bd47-3793-4c80-8fc9-82ac2faf7018",
   "metadata": {},
   "source": [
    "Instructions\n",
    "100 XP\n",
    "Create downstairs again, as the first 6 elements of areas. This time, simplify the slicing by omitting the begin index.\n",
    "Create upstairs again, as the last 4 elements of areas. This time, simplify the slicing by omitting the end index."
   ]
  },
  {
   "cell_type": "code",
   "execution_count": 11,
   "id": "5ea20d43-3e67-4f48-a2e7-58c89b844632",
   "metadata": {},
   "outputs": [],
   "source": [
    "# Create the areas list\n",
    "areas = [\"hallway\", 11.25, \"kitchen\", 18.0, \"living room\", 20.0, \"bedroom\", 10.75, \"bathroom\", 9.50]\n",
    "\n",
    "# Alternative slicing to create downstairs\n",
    "downstairs = areas[:6]\n",
    "\n",
    "# Alternative slicing to create upstairs\n",
    "upstairs = areas[6:]"
   ]
  },
  {
   "cell_type": "markdown",
   "id": "4c9d4863-955e-4557-8e78-a11d6b280c25",
   "metadata": {},
   "source": [
    "# Subsetting lists of lists"
   ]
  },
  {
   "cell_type": "raw",
   "id": "8a4ed22f-4622-4eeb-a06d-2aca984289c8",
   "metadata": {},
   "source": [
    "What will house[-1][1] return? "
   ]
  },
  {
   "cell_type": "code",
   "execution_count": 12,
   "id": "bac8d3d9-e93b-4c17-8a6f-edffec52af5e",
   "metadata": {},
   "outputs": [
    {
     "name": "stdout",
     "output_type": "stream",
     "text": [
      "9.5\n"
     ]
    }
   ],
   "source": [
    "house = [[\"hallway\", hall],\n",
    "         [\"kitchen\", kit],\n",
    "         [\"living room\", liv],\n",
    "         [\"bedroom\",  bed],\n",
    "         [\"bathroom\", bath]]\n",
    "\n",
    "print(house[-1][1])"
   ]
  },
  {
   "cell_type": "markdown",
   "id": "6e5d2ece-15dc-4863-9665-a8c05cb3b5dc",
   "metadata": {},
   "source": [
    "ANSWER: \n",
    "A float: the bathroom area"
   ]
  },
  {
   "cell_type": "markdown",
   "id": "93abac95-ae77-436b-987a-a319cbbfc85d",
   "metadata": {},
   "source": [
    "# Replace list elements"
   ]
  },
  {
   "cell_type": "raw",
   "id": "b5fdfeb7-aa2d-4c07-a74c-9c9818791a0d",
   "metadata": {},
   "source": [
    "Instructions\n",
    "100 XP\n",
    "Update the area of the bathroom area to be 10.50 square meters instead of 9.50.\n",
    "Make the areas list more trendy! Change \"living room\" to \"chill zone\"."
   ]
  },
  {
   "cell_type": "code",
   "execution_count": 13,
   "id": "aad330cb-152a-48c3-8290-ba431a22ec9f",
   "metadata": {},
   "outputs": [],
   "source": [
    "# Create the areas list\n",
    "areas = [\"hallway\", 11.25, \"kitchen\", 18.0, \"living room\", 20.0, \"bedroom\", 10.75, \"bathroom\", 9.50]\n",
    "\n",
    "# Correct the bathroom area\n",
    "areas[-1] = 10.50\n",
    "\n",
    "# Change \"living room\" to \"chill zone\"\n",
    "areas[4] = \"chill zone\""
   ]
  },
  {
   "cell_type": "markdown",
   "id": "3896588e-eced-445d-a923-d1e86b0ff778",
   "metadata": {},
   "source": [
    "# Extend a list"
   ]
  },
  {
   "cell_type": "raw",
   "id": "71174686-334a-4055-93c9-6366fc7831e9",
   "metadata": {},
   "source": [
    "Instructions\n",
    "100 XP\n",
    "Use the + operator to paste the list [\"poolhouse\", 24.5] to the end of the areas list. Store the resulting list as areas_1.\n",
    "Further extend areas_1 by adding data on your garage. Add the string \"garage\" and float 15.45. Name the resulting list areas_2."
   ]
  },
  {
   "cell_type": "code",
   "execution_count": 14,
   "id": "4d4a9177-0b4e-4294-8242-c974794b4538",
   "metadata": {},
   "outputs": [],
   "source": [
    "# Create the areas list and make some changes\n",
    "areas = [\"hallway\", 11.25, \"kitchen\", 18.0, \"chill zone\", 20.0,\n",
    "         \"bedroom\", 10.75, \"bathroom\", 10.50]\n",
    "\n",
    "# Add poolhouse data to areas, new list is areas_1\n",
    "areas_1 = areas + [\"poolhouse\", 24.5]\n",
    "\n",
    "# Add garage data to areas_1, new list is areas_2\n",
    "areas_2 = areas_1 + [\"garage\",15.45]"
   ]
  },
  {
   "cell_type": "markdown",
   "id": "8060da21-df32-4a44-9d94-a1993010fe28",
   "metadata": {},
   "source": [
    "# Delete list elements"
   ]
  },
  {
   "cell_type": "raw",
   "id": "ebc540b5-6bcb-4485-af1d-b269a5a2f08f",
   "metadata": {},
   "source": [
    "Which of the code chunks will do the job for us?"
   ]
  },
  {
   "cell_type": "code",
   "execution_count": 20,
   "id": "9836be8d-4e32-4a50-96f1-4503957c6405",
   "metadata": {},
   "outputs": [],
   "source": [
    "areas = [\"hallway\", 11.25, \"kitchen\", 18.0,\n",
    "        \"chill zone\", 20.0, \"bedroom\", 10.75,\n",
    "         \"bathroom\", 10.50, \"poolhouse\", 24.5,\n",
    "         \"garage\", 15.45]"
   ]
  },
  {
   "cell_type": "code",
   "execution_count": 21,
   "id": "2b2b3075-8199-4b62-9108-ed608c635f8f",
   "metadata": {},
   "outputs": [
    {
     "name": "stdout",
     "output_type": "stream",
     "text": [
      "['hallway', 11.25, 'kitchen', 18.0, 'chill zone', 20.0, 'bedroom', 10.75, 'bathroom', 10.5, 'garage', 15.45]\n"
     ]
    }
   ],
   "source": [
    "del(areas[-4:-2])\n",
    "print(areas)"
   ]
  },
  {
   "cell_type": "markdown",
   "id": "9e925c97-da42-409c-aab6-cbe615357f33",
   "metadata": {},
   "source": [
    "ANSWER: del(areas[-4:-2])"
   ]
  },
  {
   "cell_type": "markdown",
   "id": "2fabf995-b574-4358-8311-f0224f5d6b6c",
   "metadata": {},
   "source": [
    "# Inner workings of lists"
   ]
  },
  {
   "cell_type": "raw",
   "id": "63fe4d21-3def-4d68-b20e-9b5ee3d94ae4",
   "metadata": {},
   "source": [
    "Instructions\n",
    "100 XP\n",
    "Change the second command, that creates the variable areas_copy, such that areas_copy is an explicit copy of areas. After your edit, changes made to areas_copy shouldn't affect areas. Submit the answer to check this."
   ]
  },
  {
   "cell_type": "code",
   "execution_count": 25,
   "id": "3b6d4504-0377-4d8f-afaf-0beeaabf9a7b",
   "metadata": {
    "tags": []
   },
   "outputs": [
    {
     "name": "stdout",
     "output_type": "stream",
     "text": [
      "[11.25, 18.0, 20.0, 10.75, 9.5]\n"
     ]
    }
   ],
   "source": [
    "# Create list areas\n",
    "areas = [11.25, 18.0, 20.0, 10.75, 9.50]\n",
    "\n",
    "# Create areas_copy\n",
    "areas_copy = areas[:]\n",
    "\n",
    "# Change areas_copy\n",
    "areas_copy[0] = 5.0\n",
    "\n",
    "# Print areas\n",
    "print(areas)"
   ]
  },
  {
   "cell_type": "code",
   "execution_count": null,
   "id": "56c0fcc3-ed50-4c50-9431-bcce987f80d4",
   "metadata": {},
   "outputs": [],
   "source": []
  }
 ],
 "metadata": {
  "kernelspec": {
   "display_name": "Python 3 (ipykernel)",
   "language": "python",
   "name": "python3"
  },
  "language_info": {
   "codemirror_mode": {
    "name": "ipython",
    "version": 3
   },
   "file_extension": ".py",
   "mimetype": "text/x-python",
   "name": "python",
   "nbconvert_exporter": "python",
   "pygments_lexer": "ipython3",
   "version": "3.8.12"
  }
 },
 "nbformat": 4,
 "nbformat_minor": 5
}
