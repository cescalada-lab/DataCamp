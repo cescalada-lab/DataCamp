{
 "cells": [
  {
   "cell_type": "code",
   "execution_count": 6,
   "metadata": {},
   "outputs": [],
   "source": [
    "import pandas as pd\n",
    "import seaborn as sns\n",
    "import matplotlib.pyplot as plt\n",
    "import numpy as np\n",
    "used_cars = pd.read_csv('cars.csv')"
   ]
  },
  {
   "attachments": {},
   "cell_type": "markdown",
   "metadata": {},
   "source": [
    "## Overcoming pitfalls: string issues\n",
    "Being able to effectively use categorical pandas Series is an important skill to have in your toolbelt. Unfortunately, there are several common problems that you may run into when using these Series.\n",
    "\n",
    "In this exercise, you will work through code from a previous exercise on updating a categorical Series. Follow the instructions to make sure everything goes smoothly. The used cars dataset, used_cars, is loaded for you.\n",
    "\n",
    "### Instructions\n",
    "\n",
    "+ Print the frequency table of the \"body_type\" column for used_cars and include NaN values.\n",
    "+ Update the .loc statement so that all NaN values in \"body_type\" are set to \"other\".\n",
    "+ Convert the \"body_type\" column to title case.\n",
    "+ Check the dtype of the \"body_type\" column."
   ]
  },
  {
   "cell_type": "code",
   "execution_count": 2,
   "metadata": {},
   "outputs": [
    {
     "name": "stdout",
     "output_type": "stream",
     "text": [
      "sedan        13011\n",
      "hatchback     7644\n",
      "universal     5507\n",
      "suv           5164\n",
      "minivan       3608\n",
      "minibus       1369\n",
      "van            808\n",
      "coupe          652\n",
      "liftback       552\n",
      "pickup         129\n",
      "cabriolet       75\n",
      "limousine       12\n",
      "Name: body_type, dtype: int64\n",
      "object\n"
     ]
    }
   ],
   "source": [
    "# Print the frequency table of body_type and include NaN values\n",
    "print(used_cars[\"body_type\"].value_counts(dropna=False))\n",
    "\n",
    "# Update NaN values\n",
    "used_cars.loc[used_cars[\"body_type\"].isna(), \"body_type\"] = \"other\"\n",
    "\n",
    "# Convert body_type to title case\n",
    "used_cars[\"body_type\"] = used_cars[\"body_type\"].str.title()\n",
    "\n",
    "# Check the dtype\n",
    "print(used_cars[\"body_type\"].dtype)"
   ]
  },
  {
   "attachments": {},
   "cell_type": "markdown",
   "metadata": {},
   "source": [
    "## Overcoming pitfalls: using NumPy arrays\n",
    "A local used car company manually appraises each car that they add to their inventory. When a new car comes in, they select from a drop-down menu, giving the car a rating between 1 and 5. A 1 means that the car probably won't sell as is, but a 5 indicates the car will definitely sell without a problem.\n",
    "\n",
    "With over 38,000 cars in their inventory, the company has asked you to give them an average \"sellability\" of their cars. For this exercise, use the used_cars dataset. The column of interest is called \"Sale Rating\" and it is currently a categorical column.\n",
    "\n",
    "### Instructions 1/3\n",
    "\n",
    "+ Print the frequency table of the \"Sale Rating\" column of the used_cars dataset.\n",
    "\n",
    "### Instructions 2/3\n",
    "### Question\n",
    "Now on to the key question: what is the average \"saleability\" of the used cars? What happens if you try the following code:\n",
    "\n",
    "````average_score = used_cars[\"Sale Rating\"].mean()````\n",
    "\n",
    "Try it out in the console and then choose the best answer.\n",
    "\n",
    "### Answer\n",
    "+ A type error, because numpy doesn't understand the categorical dtype.\n",
    "\n",
    "### Instructions 3/3\n",
    "+ Correct the second statement by converting the column to type int before calling .mean()."
   ]
  },
  {
   "cell_type": "code",
   "execution_count": null,
   "metadata": {},
   "outputs": [],
   "source": [
    "# Print the frequency table of Sale Rating\n",
    "print(used_cars[\"Sale Rating\"].value_counts())\n",
    "\n",
    "# Find the average score\n",
    "average_score = used_cars[\"Sale Rating\"].astype('int').mean()\n",
    "\n",
    "# Print the average\n",
    "print(average_score)"
   ]
  },
  {
   "attachments": {},
   "cell_type": "markdown",
   "metadata": {},
   "source": [
    "## Create a label encoding and map\n",
    "A used car company believes that they can predict a car's sales price reasonably well using their used_cars dataset. One of the variables they want to use, \"color\", needs to be converted to codes. The company believes that a car's color will be important when predicting sales price.\n",
    "\n",
    "### Instructions\n",
    "\n",
    "+ Convert the color column to a categorical Series.\n",
    "+ Create a new column, \"color_code\", by creating a label encoding for the variable \"color\".\n",
    "+ Before you forget which codes belong to which categories, create a color map using the codes and categories objects.\n",
    "+ Print the new color map to see which codes map to which categories."
   ]
  },
  {
   "cell_type": "code",
   "execution_count": 4,
   "metadata": {},
   "outputs": [
    {
     "name": "stdout",
     "output_type": "stream",
     "text": [
      "black     7705\n",
      "silver    6852\n",
      "blue      5802\n",
      "white     4212\n",
      "grey      3751\n",
      "red       2925\n",
      "green     2760\n",
      "other     2688\n",
      "brown      886\n",
      "violet     463\n",
      "yellow     303\n",
      "orange     184\n",
      "Name: color, dtype: int64\n",
      "{8: 'silver', 1: 'blue', 7: 'red', 0: 'black', 4: 'grey', 6: 'other', 2: 'brown', 10: 'white', 3: 'green', 9: 'violet', 5: 'orange', 11: 'yellow'}\n"
     ]
    }
   ],
   "source": [
    "# Convert to categorical and print the frequency table\n",
    "used_cars[\"color\"] = used_cars[\"color\"].astype(\"category\")\n",
    "print(used_cars[\"color\"].value_counts())\n",
    "\n",
    "# Create a label encoding\n",
    "used_cars[\"color_code\"] = used_cars[\"color\"].cat.codes\n",
    "\n",
    "# Create codes and categories objects\n",
    "codes = used_cars[\"color\"].cat.codes\n",
    "categories = used_cars[\"color\"]\n",
    "color_map = dict(zip(codes, categories))\n",
    "\n",
    "# Print the map\n",
    "print(color_map)"
   ]
  },
  {
   "attachments": {},
   "cell_type": "markdown",
   "metadata": {},
   "source": [
    "## Using saved mappings\n",
    "You are using a subset of a dataset and have been asked to create visualizations summarizing the output. As the dataset currently stands, all you see are numbers! Luckily, you had created and saved dictionaries (color_map, fuel_map, and transmission_map) that will map these columns back to their original categorical names. The dataset used_cars_updated has been preloaded. A preview of the dataset is shown. Check out the console to view the column data types.\n",
    "\n",
    "````\n",
    "       engine_fuel  color  transmission  price_usd\n",
    "0                3      8             0   10900.00\n",
    "1                3      1             0    5000.00\n",
    "2                3      7             0    2800.00\n",
    "````\n",
    "\n",
    "### Instructions\n",
    "\n",
    "+ Update the \"color\" column back to its original values using the color_map dictionary.\n",
    "+ Update the \"engine_fuel\" column back to its original values using the fuel_map dictionary.\n",
    "+ Update the \"transmission\" column back to its original values using the transmission_map dictionary.\n",
    "+ Use .info() on the dataset to see if the dtypes have changed."
   ]
  },
  {
   "cell_type": "code",
   "execution_count": null,
   "metadata": {},
   "outputs": [],
   "source": [
    "# Update the color column using the color_map\n",
    "used_cars_updated[\"color\"] = used_cars_updated[\"color\"].map(color_map)\n",
    "# Update the engine fuel column using the fuel_map\n",
    "used_cars_updated[\"engine_fuel\"] = used_cars_updated[\"engine_fuel\"].map(fuel_map)\n",
    "# Update the transmission column using the transmission_map\n",
    "used_cars_updated[\"transmission\"] = used_cars_updated[\"transmission\"].map(transmission_map)\n",
    "\n",
    "# Print the info statement\n",
    "print(used_cars_updated.info())"
   ]
  },
  {
   "attachments": {},
   "cell_type": "markdown",
   "metadata": {},
   "source": [
    "## Creating a Boolean encoding\n",
    "In preparation for running machine learning models to estimate the sale price of used cars, you are starting to analyze the available columns of the used_cars dataset and want to create columns that can be used in training. One of the managers of a used car dealership has said that the manufacturer of the car is the most important aspect he considers when setting prices. You will begin by exploring the manufacturer_name column.\n",
    "\n",
    "### Instructions\n",
    "\n",
    "+ Print the frequency table of the \"manufacturer_name\" column.\n",
    "+ Create a column, \"is_volkswagen\", that is True when \"manufacturer_name\" contains \"Volkswagen\" and False otherwise.\n",
    "+ Update the code so that a 1 is used instead of True and a 0 is used instead of False so Python can use this column in algorithms.\n",
    "+ Print out a frequency table for the newly created column."
   ]
  },
  {
   "cell_type": "code",
   "execution_count": 7,
   "metadata": {},
   "outputs": [
    {
     "name": "stdout",
     "output_type": "stream",
     "text": [
      "Volkswagen       4243\n",
      "Opel             2759\n",
      "BMW              2610\n",
      "Ford             2566\n",
      "Renault          2493\n",
      "Audi             2468\n",
      "Mercedes-Benz    2237\n",
      "Peugeot          1909\n",
      "Citroen          1562\n",
      "Nissan           1361\n",
      "Mazda            1328\n",
      "Toyota           1246\n",
      "Hyundai          1116\n",
      "Skoda            1089\n",
      "Kia               912\n",
      "Mitsubishi        887\n",
      "Fiat              824\n",
      "Honda             797\n",
      "Volvo             721\n",
      "ВАЗ               481\n",
      "Chevrolet         436\n",
      "Chrysler          410\n",
      "Seat              303\n",
      "Dodge             297\n",
      "Subaru            291\n",
      "Rover             235\n",
      "Suzuki            234\n",
      "Daewoo            221\n",
      "Lexus             213\n",
      "Alfa Romeo        207\n",
      "ГАЗ               200\n",
      "Land Rover        184\n",
      "Infiniti          162\n",
      "LADA              146\n",
      "Iveco             139\n",
      "Saab              108\n",
      "Jeep              107\n",
      "Lancia             92\n",
      "SsangYong          79\n",
      "УАЗ                74\n",
      "Geely              71\n",
      "Mini               68\n",
      "Acura              66\n",
      "Porsche            61\n",
      "Dacia              59\n",
      "Chery              58\n",
      "Москвич            55\n",
      "Jaguar             53\n",
      "Buick              47\n",
      "Lifan              47\n",
      "Cadillac           43\n",
      "Pontiac            42\n",
      "ЗАЗ                42\n",
      "Lincoln            36\n",
      "Great Wall         36\n",
      "Name: manufacturer_name, dtype: int64\n",
      "0    34288\n",
      "1     4243\n",
      "Name: is_volkswagen, dtype: int64\n"
     ]
    }
   ],
   "source": [
    "# Print the \"manufacturer_name\" frequency table.\n",
    "print(used_cars[\"manufacturer_name\"].value_counts())\n",
    "\n",
    "# Create a Boolean column for the most common manufacturer name\n",
    "used_cars[\"is_volkswagen\"] = np.where(\n",
    "  used_cars[\"manufacturer_name\"].str.contains(\"Volkswagen\", regex=False), 1, 0\n",
    ")\n",
    "  \n",
    "# Check the final frequency table\n",
    "print(used_cars[\"is_volkswagen\"].value_counts())"
   ]
  },
  {
   "attachments": {},
   "cell_type": "markdown",
   "metadata": {},
   "source": [
    "## One-hot knowledge check\n",
    "A frequency table from a categorical pandas Series for a person's favorite soda is shown.\n",
    "\n",
    "````\n",
    "Coke      1221\n",
    "Pepsi     1117\n",
    "NaN         21\n",
    "````\n",
    "\n",
    "If one-hot encoding is completed only on this column, and this is the only column in the dataset, how many columns will be in the final dataset?\n",
    "\n",
    "Example code:`\n",
    "\n",
    "````\n",
    "soda_onehot = pd.get_dummies(\n",
    "  soda[[\"favorite_soda\"]], \n",
    "  columns=[\"favorite_soda\"]\n",
    ")\n",
    "````\n",
    "\n",
    "## Answer:\n",
    "+ Two: one for Coke and one for Pepsi. We can tell if a person did not respond if both columns are 0."
   ]
  },
  {
   "attachments": {},
   "cell_type": "markdown",
   "metadata": {},
   "source": [
    "## One-hot encoding specific columns\n",
    "A local used car dealership wants your help in predicting the sale price of their vehicles. If you use one-hot encoding on the entire used_cars dataset, the new dataset has over 1,200 columns. You are worried that this might lead to problems when training your machine learning models to predict price. You have decided to try a simpler approach and only use one-hot encoding on a few columns.\n",
    "\n",
    "### Instructions\n",
    "\n",
    "+ Create a new dataset, used_cars_simple, with one-hot encoding for these columns: \"manufacturer_name\" and \"transmission\" (in this order).\n",
    "+ Set the prefix of all new columns to \"dummy\", so that you can easily filter to newly created columns."
   ]
  },
  {
   "cell_type": "code",
   "execution_count": 8,
   "metadata": {},
   "outputs": [
    {
     "name": "stdout",
     "output_type": "stream",
     "text": [
      "(38531, 86)\n"
     ]
    }
   ],
   "source": [
    "# Create one-hot encoding for just two columns\n",
    "used_cars_simple = pd.get_dummies(\n",
    "  used_cars,\n",
    "  # Specify the columns from the instructions\n",
    "  columns=[\"manufacturer_name\" , \"transmission\"],\n",
    "  # Set the prefix\n",
    "  prefix=\"dummy\"\n",
    ")\n",
    "\n",
    "# Print the shape of the new dataset\n",
    "print(used_cars_simple.shape)"
   ]
  }
 ],
 "metadata": {
  "kernelspec": {
   "display_name": "Machine_Learning_38",
   "language": "python",
   "name": "python3"
  },
  "language_info": {
   "codemirror_mode": {
    "name": "ipython",
    "version": 3
   },
   "file_extension": ".py",
   "mimetype": "text/x-python",
   "name": "python",
   "nbconvert_exporter": "python",
   "pygments_lexer": "ipython3",
   "version": "3.8.13"
  },
  "orig_nbformat": 4
 },
 "nbformat": 4,
 "nbformat_minor": 2
}
