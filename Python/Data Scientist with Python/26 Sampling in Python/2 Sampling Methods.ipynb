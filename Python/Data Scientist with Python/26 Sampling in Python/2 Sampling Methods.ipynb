{
 "cells": [
  {
   "cell_type": "code",
   "execution_count": 2,
   "metadata": {},
   "outputs": [],
   "source": [
    "# import libraries\n",
    "import numpy as np\n",
    "import pandas as pd\n",
    "import matplotlib.pyplot as plt\n",
    "\n",
    "# import dataset\n",
    "attrition_pop = pd.read_feather('attrition.feather')"
   ]
  },
  {
   "attachments": {},
   "cell_type": "markdown",
   "metadata": {},
   "source": [
    "## Simple random sampling\n",
    "The simplest method of sampling a population is the one you've seen already. It is known as simple random sampling (sometimes abbreviated to \"SRS\"), and involves picking rows at random, one at a time, where each row has the same chance of being picked as any other.\n",
    "\n",
    "In this chapter, you'll apply sampling methods to a synthetic (fictional) employee attrition dataset from IBM, where \"attrition\" in this context means leaving the company.\n",
    "\n",
    "attrition_pop is available; pandas as pd is loaded.\n",
    "\n",
    "#### Instructions\n",
    "\n",
    "+ Sample 70 rows from attrition_pop using simple random sampling, setting the random seed to 18900217.\n",
    "+ Print the sample dataset, attrition_samp. What do you notice about the indices?\n",
    "\n"
   ]
  },
  {
   "cell_type": "code",
   "execution_count": 3,
   "metadata": {},
   "outputs": [
    {
     "name": "stdout",
     "output_type": "stream",
     "text": [
      "      Age  Attrition     BusinessTravel  DailyRate            Department  \\\n",
      "1134   35        0.0      Travel_Rarely        583  Research_Development   \n",
      "1150   52        0.0         Non-Travel        585                 Sales   \n",
      "531    33        0.0      Travel_Rarely        931  Research_Development   \n",
      "395    31        0.0      Travel_Rarely       1332  Research_Development   \n",
      "392    29        0.0      Travel_Rarely        942  Research_Development   \n",
      "...   ...        ...                ...        ...                   ...   \n",
      "361    27        0.0  Travel_Frequently       1410                 Sales   \n",
      "1180   36        0.0      Travel_Rarely        530                 Sales   \n",
      "230    26        0.0      Travel_Rarely       1443                 Sales   \n",
      "211    29        0.0  Travel_Frequently        410  Research_Development   \n",
      "890    30        0.0  Travel_Frequently       1312  Research_Development   \n",
      "\n",
      "      DistanceFromHome      Education    EducationField  \\\n",
      "1134                25         Master           Medical   \n",
      "1150                29         Master     Life_Sciences   \n",
      "531                 14       Bachelor           Medical   \n",
      "395                 11        College           Medical   \n",
      "392                 15  Below_College     Life_Sciences   \n",
      "...                ...            ...               ...   \n",
      "361                  3  Below_College           Medical   \n",
      "1180                 2         Master     Life_Sciences   \n",
      "230                 23       Bachelor         Marketing   \n",
      "211                  2  Below_College     Life_Sciences   \n",
      "890                  2         Master  Technical_Degree   \n",
      "\n",
      "     EnvironmentSatisfaction  Gender  ...  PerformanceRating  \\\n",
      "1134                    High  Female  ...          Excellent   \n",
      "1150                     Low    Male  ...          Excellent   \n",
      "531                Very_High  Female  ...          Excellent   \n",
      "395                     High    Male  ...          Excellent   \n",
      "392                   Medium  Female  ...          Excellent   \n",
      "...                      ...     ...  ...                ...   \n",
      "361                Very_High  Female  ...        Outstanding   \n",
      "1180                    High  Female  ...          Excellent   \n",
      "230                     High  Female  ...          Excellent   \n",
      "211                Very_High  Female  ...          Excellent   \n",
      "890                Very_High  Female  ...          Excellent   \n",
      "\n",
      "     RelationshipSatisfaction  StockOptionLevel TotalWorkingYears  \\\n",
      "1134                     High                 1                16   \n",
      "1150                   Medium                 2                16   \n",
      "531                 Very_High                 1                 8   \n",
      "395                 Very_High                 0                 6   \n",
      "392                       Low                 1                 6   \n",
      "...                       ...               ...               ...   \n",
      "361                    Medium                 2                 6   \n",
      "1180                     High                 0                17   \n",
      "230                      High                 1                 5   \n",
      "211                      High                 3                 4   \n",
      "890                 Very_High                 0                10   \n",
      "\n",
      "     TrainingTimesLastYear WorkLifeBalance  YearsAtCompany  \\\n",
      "1134                     3            Good              16   \n",
      "1150                     3            Good               9   \n",
      "531                      5          Better               8   \n",
      "395                      2            Good               6   \n",
      "392                      2            Good               5   \n",
      "...                    ...             ...             ...   \n",
      "361                      3          Better               6   \n",
      "1180                     2            Good              13   \n",
      "230                      2            Good               2   \n",
      "211                      3          Better               3   \n",
      "890                      2          Better               9   \n",
      "\n",
      "      YearsInCurrentRole  YearsSinceLastPromotion YearsWithCurrManager  \n",
      "1134                  10                       10                    1  \n",
      "1150                   8                        0                    0  \n",
      "531                    7                        1                    6  \n",
      "395                    5                        0                    1  \n",
      "392                    4                        1                    3  \n",
      "...                  ...                      ...                  ...  \n",
      "361                    5                        0                    4  \n",
      "1180                   7                        6                    7  \n",
      "230                    2                        0                    0  \n",
      "211                    2                        0                    2  \n",
      "890                    7                        0                    7  \n",
      "\n",
      "[70 rows x 31 columns]\n"
     ]
    }
   ],
   "source": [
    "# Sample 70 rows using simple random sampling and set the seed\n",
    "attrition_samp = attrition_pop.sample(n=70, random_state=18900217)\n",
    "\n",
    "# Print the sample\n",
    "print(attrition_samp)"
   ]
  },
  {
   "attachments": {},
   "cell_type": "markdown",
   "metadata": {},
   "source": [
    "## Systematic sampling\n",
    "One sampling method that avoids randomness is called systematic sampling. Here, you pick rows from the population at regular intervals.\n",
    "\n",
    "For example, if the population dataset had one thousand rows, and you wanted a sample size of five, you could pick rows 0, 200, 400, 600, and 800.\n",
    "\n",
    "attrition_pop is available; pandas has been pre-loaded as pd.\n",
    "\n",
    "#### Instructions\n",
    "+ Set the sample size to 70.\n",
    "+ Calculate the population size from attrition_pop.\n",
    "+ Calculate the interval between the rows to be sampled.\n",
    "+ Systematically sample attrition_pop to get the rows of the population at each interval, starting at 0; assign the rows to attrition_sys_samp."
   ]
  },
  {
   "cell_type": "code",
   "execution_count": 4,
   "metadata": {},
   "outputs": [],
   "source": [
    "# Set the sample size to 70\n",
    "sample_size = 70\n",
    "\n",
    "# Calculate the population size from attrition_pop\n",
    "pop_size = len(attrition_pop)\n",
    "\n",
    "# Calculate the interval\n",
    "interval = pop_size // sample_size"
   ]
  },
  {
   "cell_type": "code",
   "execution_count": 5,
   "metadata": {},
   "outputs": [
    {
     "name": "stdout",
     "output_type": "stream",
     "text": [
      "      Age  Attrition BusinessTravel  DailyRate            Department  \\\n",
      "0      21        0.0  Travel_Rarely        391  Research_Development   \n",
      "21     19        0.0  Travel_Rarely       1181  Research_Development   \n",
      "42     45        0.0  Travel_Rarely        252  Research_Development   \n",
      "63     23        0.0  Travel_Rarely        373  Research_Development   \n",
      "84     30        1.0  Travel_Rarely        945                 Sales   \n",
      "...   ...        ...            ...        ...                   ...   \n",
      "1365   48        0.0  Travel_Rarely        715  Research_Development   \n",
      "1386   48        0.0  Travel_Rarely       1355  Research_Development   \n",
      "1407   50        0.0  Travel_Rarely        989  Research_Development   \n",
      "1428   50        0.0     Non-Travel        881  Research_Development   \n",
      "1449   52        0.0  Travel_Rarely        699  Research_Development   \n",
      "\n",
      "      DistanceFromHome      Education EducationField EnvironmentSatisfaction  \\\n",
      "0                   15        College  Life_Sciences                    High   \n",
      "21                   3  Below_College        Medical                  Medium   \n",
      "42                   2       Bachelor  Life_Sciences                  Medium   \n",
      "63                   1        College  Life_Sciences               Very_High   \n",
      "84                   9       Bachelor        Medical                  Medium   \n",
      "...                ...            ...            ...                     ...   \n",
      "1365                 1       Bachelor  Life_Sciences               Very_High   \n",
      "1386                 4         Master  Life_Sciences                    High   \n",
      "1407                 7        College        Medical                  Medium   \n",
      "1428                 2         Master  Life_Sciences                     Low   \n",
      "1449                 1         Master  Life_Sciences                    High   \n",
      "\n",
      "      Gender  ...  PerformanceRating RelationshipSatisfaction  \\\n",
      "0       Male  ...          Excellent                Very_High   \n",
      "21    Female  ...          Excellent                Very_High   \n",
      "42    Female  ...          Excellent                Very_High   \n",
      "63      Male  ...        Outstanding                Very_High   \n",
      "84      Male  ...          Excellent                     High   \n",
      "...      ...  ...                ...                      ...   \n",
      "1365    Male  ...          Excellent                     High   \n",
      "1386    Male  ...          Excellent                   Medium   \n",
      "1407  Female  ...          Excellent                Very_High   \n",
      "1428    Male  ...          Excellent                Very_High   \n",
      "1449    Male  ...          Excellent                      Low   \n",
      "\n",
      "      StockOptionLevel TotalWorkingYears TrainingTimesLastYear  \\\n",
      "0                    0                 0                     6   \n",
      "21                   0                 1                     3   \n",
      "42                   0                 1                     3   \n",
      "63                   1                 1                     2   \n",
      "84                   0                 1                     3   \n",
      "...                ...               ...                   ...   \n",
      "1365                 0                25                     3   \n",
      "1386                 0                27                     3   \n",
      "1407                 1                29                     2   \n",
      "1428                 1                31                     3   \n",
      "1449                 1                34                     5   \n",
      "\n",
      "     WorkLifeBalance  YearsAtCompany  YearsInCurrentRole  \\\n",
      "0             Better               0                   0   \n",
      "21            Better               1                   0   \n",
      "42            Better               1                   0   \n",
      "63            Better               1                   0   \n",
      "84              Good               1                   0   \n",
      "...              ...             ...                 ...   \n",
      "1365            Best               1                   0   \n",
      "1386          Better              15                  11   \n",
      "1407            Good              27                   3   \n",
      "1428          Better              31                   6   \n",
      "1449          Better              33                  18   \n",
      "\n",
      "      YearsSinceLastPromotion YearsWithCurrManager  \n",
      "0                           0                    0  \n",
      "21                          0                    0  \n",
      "42                          0                    0  \n",
      "63                          0                    1  \n",
      "84                          0                    0  \n",
      "...                       ...                  ...  \n",
      "1365                        0                    0  \n",
      "1386                        4                    8  \n",
      "1407                       13                    8  \n",
      "1428                       14                    7  \n",
      "1449                       11                    9  \n",
      "\n",
      "[70 rows x 31 columns]\n"
     ]
    }
   ],
   "source": [
    "# Set the sample size to 70\n",
    "sample_size = 70\n",
    "\n",
    "# Calculate the population size from attrition_pop\n",
    "pop_size = len(attrition_pop)\n",
    "\n",
    "# Calculate the interval\n",
    "interval = pop_size // sample_size\n",
    "\n",
    "# Systematically sample 70 rows\n",
    "attrition_sys_samp = attrition_pop.iloc[::interval]\n",
    "\n",
    "# Print the sample\n",
    "print(attrition_sys_samp)"
   ]
  },
  {
   "attachments": {},
   "cell_type": "markdown",
   "metadata": {},
   "source": [
    "## Is systematic sampling OK?\n",
    "Systematic sampling has a problem: if the data has been sorted, or there is some sort of pattern or meaning behind the row order, then the resulting sample may not be representative of the whole population. The problem can be solved by shuffling the rows, but then systematic sampling is equivalent to simple random sampling.\n",
    "\n",
    "Here you'll look at how to determine whether or not there is a problem.\n",
    "\n",
    "attrition_pop is available; pandas is loaded as pd, and matplotlib.pyplot as plt.\n",
    "\n",
    "#### Instructions 1/3\n",
    "\n",
    "+ Add an index column to attrition_pop, assigning the result to attrition_pop_id.\n",
    "+ Create a scatter plot of YearsAtCompany versus index for attrition_pop_id using pandas .plot().\n",
    "\n",
    "#### Instructions 2/3\n",
    "\n",
    "+ Randomly shuffle the rows of attrition_pop.\n",
    "+ Reset the row indexes, and add an index column to attrition_pop.\n",
    "+ Repeat the scatter plot of YearsAtCompany versus index, this time using attrition_shuffled.\n",
    "\n",
    "#### Question\n",
    "Does a systematic sample always produce a sample similar to a simple random sample?\n",
    "\n",
    "#### Answer\n",
    "+ No. This is not true if the data is sorted in some way."
   ]
  },
  {
   "cell_type": "code",
   "execution_count": 6,
   "metadata": {},
   "outputs": [
    {
     "data": {
      "image/png": "[encoded data removed]",
      "text/plain": [
       "<Figure size 432x288 with 1 Axes>"
      ]
     },
     "metadata": {
      "needs_background": "light"
     },
     "output_type": "display_data"
    }
   ],
   "source": [
    "# Add an index column to attrition_pop\n",
    "attrition_pop_id = attrition_pop.reset_index()\n",
    "\n",
    "# Plot YearsAtCompany vs. index for attrition_pop_id\n",
    "attrition_pop_id.plot(x=\"index\", y=\"YearsAtCompany\", kind=\"scatter\")\n",
    "\n",
    "plt.show()"
   ]
  },
  {
   "cell_type": "code",
   "execution_count": 7,
   "metadata": {},
   "outputs": [
    {
     "data": {
      "image/png": "[encoded data removed]",
      "text/plain": [
       "<Figure size 432x288 with 1 Axes>"
      ]
     },
     "metadata": {
      "needs_background": "light"
     },
     "output_type": "display_data"
    }
   ],
   "source": [
    "# Shuffle the rows of attrition_pop and assign to attrition_shuffled\n",
    "attrition_shuffled = attrition_pop.sample(frac=1)\n",
    "\n",
    "# Reset the row indexes and create an index column\n",
    "attrition_shuffled = attrition_shuffled.reset_index(drop=True).reset_index()\n",
    "\n",
    "# Plot YearsAtCompany vs. index for attrition_shuffled\n",
    "attrition_shuffled.plot(x=\"index\", y=\"YearsAtCompany\", kind=\"scatter\")\n",
    "plt.show()"
   ]
  },
  {
   "attachments": {},
   "cell_type": "markdown",
   "metadata": {},
   "source": [
    "## Proportional stratified sampling\n",
    "If you are interested in subgroups within the population, then you may need to carefully control the counts of each subgroup within the population. Proportional stratified sampling results in subgroup sizes within the sample that are representative of the subgroup sizes within the population. It is equivalent to performing a simple random sample on each subgroup.\n",
    "\n",
    "attrition_pop is available; pandas is loaded with its usual alias.\n",
    "\n",
    "#### Instructions 1/3\n",
    "+ Get the proportion of employees by Education level from attrition_pop.\n",
    "+ Use proportional stratified sampling on attrition_pop to sample 40% of each Education group, setting the seed to 2022.\n",
    "+ Get the proportion of employees by Education level from attrition_strat."
   ]
  },
  {
   "cell_type": "code",
   "execution_count": 8,
   "metadata": {},
   "outputs": [
    {
     "name": "stdout",
     "output_type": "stream",
     "text": [
      "Bachelor         0.389116\n",
      "Master           0.270748\n",
      "College          0.191837\n",
      "Below_College    0.115646\n",
      "Doctor           0.032653\n",
      "Name: Education, dtype: float64\n",
      "Bachelor         0.389456\n",
      "Master           0.270408\n",
      "College          0.192177\n",
      "Below_College    0.115646\n",
      "Doctor           0.032313\n",
      "Name: Education, dtype: float64\n"
     ]
    }
   ],
   "source": [
    "# Proportion of employees by Education level\n",
    "education_counts_pop = attrition_pop['Education'].value_counts(normalize=True)\n",
    "\n",
    "# Print education_counts_pop\n",
    "print(education_counts_pop)\n",
    "\n",
    "# Proportional stratified sampling for 40% of each Education group\n",
    "attrition_strat = attrition_pop.groupby('Education')\\\n",
    "\t.sample(frac=0.4, random_state=2022)\n",
    "\n",
    "# Calculate the Education level proportions from attrition_strat\n",
    "education_counts_strat = attrition_strat['Education'].value_counts(normalize=True)\n",
    "\n",
    "# Print education_counts_strat\n",
    "print(education_counts_strat)"
   ]
  },
  {
   "attachments": {},
   "cell_type": "markdown",
   "metadata": {},
   "source": [
    "## Equal counts stratified sampling\n",
    "If one subgroup is larger than another subgroup in the population, but you don't want to reflect that difference in your analysis, then you can use equal counts stratified sampling to generate samples where each subgroup has the same amount of data. For example, if you are analyzing blood types, O is the most common blood type worldwide, but you may wish to have equal amounts of O, A, B, and AB in your sample.\n",
    "\n",
    "attrition_pop is available; pandas is loaded with its usual alias.\n",
    "\n",
    "#### Instructions\n",
    "+ Use equal counts stratified sampling on attrition_pop to get 30 employees from each Education group, setting the seed to 2022.\n",
    "+ Get the proportion of employees by Education level from attrition_eq."
   ]
  },
  {
   "cell_type": "code",
   "execution_count": 9,
   "metadata": {},
   "outputs": [
    {
     "name": "stdout",
     "output_type": "stream",
     "text": [
      "Below_College    0.2\n",
      "College          0.2\n",
      "Bachelor         0.2\n",
      "Master           0.2\n",
      "Doctor           0.2\n",
      "Name: Education, dtype: float64\n"
     ]
    }
   ],
   "source": [
    "# Get 30 employees from each Education group\n",
    "attrition_eq = attrition_pop.groupby('Education')\\\n",
    "\t.sample(n=30, random_state=2022)      \n",
    "\n",
    "# Get the proportions from attrition_eq\n",
    "education_counts_eq = attrition_eq['Education'].value_counts(normalize=True)\n",
    "# Print the results\n",
    "print(education_counts_eq)"
   ]
  },
  {
   "attachments": {},
   "cell_type": "markdown",
   "metadata": {},
   "source": [
    "## Weighted sampling\n",
    "Stratified sampling provides rules about the probability of picking rows from your dataset at the subgroup level. A generalization of this is weighted sampling, which lets you specify rules about the probability of picking rows at the row level. The probability of picking any given row is proportional to the weight value for that row.\n",
    "\n",
    "attrition_pop is available; pandas, matplotlib.pyplot, and numpy are loaded with their usual aliases.\n",
    "\n",
    "#### Instructions\n",
    "\n",
    "+ Plot YearsAtCompany from attrition_pop as a histogram with bins of width 1 from 0 to 40.\n",
    "+ Sample 400 employees from attrition_pop weighted by YearsAtCompany.\n",
    "+ Plot YearsAtCompany from attrition_weight as a histogram with bins of width 1 from 0 to 40."
   ]
  },
  {
   "cell_type": "code",
   "execution_count": 10,
   "metadata": {},
   "outputs": [
    {
     "data": {
      "image/png": "[encoded data removed]",
      "text/plain": [
       "<Figure size 432x288 with 1 Axes>"
      ]
     },
     "metadata": {
      "needs_background": "light"
     },
     "output_type": "display_data"
    },
    {
     "data": {
      "image/png": "[encoded data removed]",
      "text/plain": [
       "<Figure size 432x288 with 1 Axes>"
      ]
     },
     "metadata": {
      "needs_background": "light"
     },
     "output_type": "display_data"
    }
   ],
   "source": [
    "# Plot YearsAtCompany from attrition_pop as a histogram\n",
    "attrition_pop['YearsAtCompany'].hist(bins=np.arange(0, 41, 1))\n",
    "plt.show()\n",
    "\n",
    "# Sample 400 employees weighted by YearsAtCompany\n",
    "attrition_weight = attrition_pop.sample(n=400, weights=\"YearsAtCompany\")\n",
    "\n",
    "# Plot YearsAtCompany from attrition_weight as a histogram\n",
    "attrition_weight['YearsAtCompany'].hist(bins=np.arange(0, 41, 1))\n",
    "plt.show()"
   ]
  },
  {
   "attachments": {},
   "cell_type": "markdown",
   "metadata": {},
   "source": [
    "## Performing cluster sampling\n",
    "Now that you know when to use cluster sampling, it's time to put it into action. In this exercise, you'll explore the JobRole column of the attrition dataset. You can think of each job role as a subgroup of the whole population of employees.\n",
    "\n",
    "attrition_pop is available; pandas is loaded with its usual alias, and the random package is available. A seed of 19790801 has also been set with random.seed().\n",
    "\n",
    "#### Instructions \n",
    "\n",
    "+ Create a list of unique JobRole values from attrition_pop, and assign to job_roles_pop.\n",
    "+ Randomly sample four JobRole values from job_roles_pop.\n",
    "+ Subset attrition_pop for the sampled job roles by filtering for rows where JobRole is in job_roles_samp.\n",
    "+ Remove any unused categories from JobRole.\n",
    "+ For each job role in the filtered dataset, take a random sample of ten rows, setting the seed to 2022."
   ]
  },
  {
   "cell_type": "code",
   "execution_count": 12,
   "metadata": {},
   "outputs": [],
   "source": [
    "# import random \n",
    "import random"
   ]
  },
  {
   "cell_type": "code",
   "execution_count": 13,
   "metadata": {},
   "outputs": [
    {
     "name": "stdout",
     "output_type": "stream",
     "text": [
      "      Age  Attrition     BusinessTravel  DailyRate            Department  \\\n",
      "1380   44        0.0      Travel_Rarely       1099                 Sales   \n",
      "1395   46        0.0      Travel_Rarely        488                 Sales   \n",
      "1300   42        0.0      Travel_Rarely        532  Research_Development   \n",
      "1271   39        0.0      Travel_Rarely        117  Research_Development   \n",
      "1354   42        0.0      Travel_Rarely       1059  Research_Development   \n",
      "858    32        0.0      Travel_Rarely        495  Research_Development   \n",
      "1417   59        0.0         Non-Travel       1420       Human_Resources   \n",
      "1307   41        0.0      Travel_Rarely       1276                 Sales   \n",
      "1377   52        0.0      Travel_Rarely       1053  Research_Development   \n",
      "1388   50        0.0      Travel_Rarely        264                 Sales   \n",
      "1463   56        0.0      Travel_Rarely       1400  Research_Development   \n",
      "464    46        0.0         Non-Travel       1144  Research_Development   \n",
      "1313   54        0.0      Travel_Rarely       1441  Research_Development   \n",
      "1203   36        0.0      Travel_Rarely        429  Research_Development   \n",
      "1427   52        0.0  Travel_Frequently        890  Research_Development   \n",
      "1188   37        0.0      Travel_Rarely       1305  Research_Development   \n",
      "453    49        0.0         Non-Travel       1002  Research_Development   \n",
      "1200   43        0.0  Travel_Frequently       1082  Research_Development   \n",
      "876    38        0.0      Travel_Rarely        397  Research_Development   \n",
      "1176   36        0.0      Travel_Rarely        363  Research_Development   \n",
      "712    34        0.0      Travel_Rarely        735                 Sales   \n",
      "758    31        0.0      Travel_Rarely        218                 Sales   \n",
      "1101   35        1.0      Travel_Rarely        737                 Sales   \n",
      "419    31        0.0      Travel_Rarely       1003                 Sales   \n",
      "636    45        0.0      Travel_Rarely       1268                 Sales   \n",
      "907    39        0.0         Non-Travel       1251                 Sales   \n",
      "845    41        0.0  Travel_Frequently       1018                 Sales   \n",
      "899    45        0.0         Non-Travel        589                 Sales   \n",
      "565    28        0.0      Travel_Rarely        760                 Sales   \n",
      "1293   39        0.0      Travel_Rarely        119                 Sales   \n",
      "559    34        0.0      Travel_Rarely        204                 Sales   \n",
      "79     21        1.0      Travel_Rarely        337                 Sales   \n",
      "256    27        1.0      Travel_Rarely       1420                 Sales   \n",
      "84     30        1.0      Travel_Rarely        945                 Sales   \n",
      "109    20        0.0      Travel_Rarely        654                 Sales   \n",
      "26     33        1.0      Travel_Rarely        350                 Sales   \n",
      "1258   38        0.0      Travel_Rarely       1404                 Sales   \n",
      "349    24        1.0      Travel_Rarely       1448                 Sales   \n",
      "660    45        0.0      Travel_Rarely        954                 Sales   \n",
      "133    34        1.0  Travel_Frequently        296                 Sales   \n",
      "\n",
      "      DistanceFromHome      Education    EducationField  \\\n",
      "1380                 5       Bachelor         Marketing   \n",
      "1395                 2       Bachelor  Technical_Degree   \n",
      "1300                 4        College  Technical_Degree   \n",
      "1271                10  Below_College           Medical   \n",
      "1354                 9        College             Other   \n",
      "858                 10       Bachelor           Medical   \n",
      "1417                 2         Master   Human_Resources   \n",
      "1307                 2         Doctor     Life_Sciences   \n",
      "1377                 1        College     Life_Sciences   \n",
      "1388                 9       Bachelor         Marketing   \n",
      "1463                 7       Bachelor     Life_Sciences   \n",
      "464                  7         Master           Medical   \n",
      "1313                17       Bachelor  Technical_Degree   \n",
      "1203                 2         Master     Life_Sciences   \n",
      "1427                25         Master           Medical   \n",
      "1188                10         Master     Life_Sciences   \n",
      "453                 18         Master     Life_Sciences   \n",
      "1200                27       Bachelor     Life_Sciences   \n",
      "876                  2        College           Medical   \n",
      "1176                 1       Bachelor  Technical_Degree   \n",
      "712                  3  Below_College           Medical   \n",
      "758                  7       Bachelor  Technical_Degree   \n",
      "1101                10       Bachelor           Medical   \n",
      "419                  5       Bachelor  Technical_Degree   \n",
      "636                  4        College     Life_Sciences   \n",
      "907                 21         Master     Life_Sciences   \n",
      "845                  1       Bachelor         Marketing   \n",
      "899                  2         Master     Life_Sciences   \n",
      "565                  2         Master         Marketing   \n",
      "1293                15         Master         Marketing   \n",
      "559                 14       Bachelor  Technical_Degree   \n",
      "79                   7  Below_College         Marketing   \n",
      "256                  2  Below_College         Marketing   \n",
      "84                   9       Bachelor           Medical   \n",
      "109                 21       Bachelor         Marketing   \n",
      "26                   5       Bachelor         Marketing   \n",
      "1258                 1       Bachelor     Life_Sciences   \n",
      "349                  1  Below_College  Technical_Degree   \n",
      "660                  2        College  Technical_Degree   \n",
      "133                  6        College         Marketing   \n",
      "\n",
      "     EnvironmentSatisfaction  Gender  ...  PerformanceRating  \\\n",
      "1380                  Medium    Male  ...          Excellent   \n",
      "1395                    High  Female  ...          Excellent   \n",
      "1300                    High    Male  ...          Excellent   \n",
      "1271                    High    Male  ...          Excellent   \n",
      "1354               Very_High    Male  ...        Outstanding   \n",
      "858                     High    Male  ...        Outstanding   \n",
      "1417                    High  Female  ...        Outstanding   \n",
      "1307                  Medium  Female  ...          Excellent   \n",
      "1377               Very_High    Male  ...          Excellent   \n",
      "1388                    High    Male  ...          Excellent   \n",
      "1463               Very_High    Male  ...          Excellent   \n",
      "464                     High  Female  ...          Excellent   \n",
      "1313                    High  Female  ...          Excellent   \n",
      "1203                    High  Female  ...          Excellent   \n",
      "1427                    High  Female  ...        Outstanding   \n",
      "1188                    High    Male  ...          Excellent   \n",
      "453                Very_High    Male  ...          Excellent   \n",
      "1200                    High  Female  ...          Excellent   \n",
      "876                Very_High  Female  ...          Excellent   \n",
      "1176                    High  Female  ...        Outstanding   \n",
      "712                Very_High  Female  ...          Excellent   \n",
      "758                   Medium    Male  ...          Excellent   \n",
      "1101               Very_High    Male  ...          Excellent   \n",
      "419                      Low    Male  ...          Excellent   \n",
      "636                     High  Female  ...          Excellent   \n",
      "907                      Low  Female  ...          Excellent   \n",
      "845                     High  Female  ...          Excellent   \n",
      "899                     High  Female  ...        Outstanding   \n",
      "565                   Medium  Female  ...        Outstanding   \n",
      "1293                  Medium    Male  ...          Excellent   \n",
      "559                     High  Female  ...          Excellent   \n",
      "79                    Medium    Male  ...          Excellent   \n",
      "256                     High    Male  ...          Excellent   \n",
      "84                    Medium    Male  ...          Excellent   \n",
      "109                     High    Male  ...          Excellent   \n",
      "26                 Very_High  Female  ...          Excellent   \n",
      "1258                     Low    Male  ...          Excellent   \n",
      "349                      Low  Female  ...          Excellent   \n",
      "660                   Medium    Male  ...          Excellent   \n",
      "133                Very_High  Female  ...          Excellent   \n",
      "\n",
      "     RelationshipSatisfaction  StockOptionLevel TotalWorkingYears  \\\n",
      "1380                     High                 1                26   \n",
      "1395                   Medium                 1                28   \n",
      "1300                Very_High                 0                22   \n",
      "1271                Very_High                 0                21   \n",
      "1354                Very_High                 0                24   \n",
      "858                    Medium                 0                10   \n",
      "1417                Very_High                 1                30   \n",
      "1307                   Medium                 1                22   \n",
      "1377                   Medium                 1                26   \n",
      "1388                     High                 1                27   \n",
      "1463                      Low                 0                37   \n",
      "464                      High                 0                 7   \n",
      "1313                     High                 1                22   \n",
      "1203                Very_High                 0                18   \n",
      "1427                     High                 0                31   \n",
      "1188                Very_High                 0                18   \n",
      "453                       Low                 2                 7   \n",
      "1200                     High                 1                18   \n",
      "876                 Very_High                 1                10   \n",
      "1176                     High                 1                17   \n",
      "712                      High                 0                 9   \n",
      "758                    Medium                 1                10   \n",
      "1101                     High                 0                15   \n",
      "419                      High                 1                 6   \n",
      "636                       Low                 1                 9   \n",
      "907                      High                 1                10   \n",
      "845                 Very_High                 1                10   \n",
      "899                    Medium                 2                10   \n",
      "565                       Low                 0                 8   \n",
      "1293                      Low                 0                21   \n",
      "559                 Very_High                 2                 8   \n",
      "79                     Medium                 0                 1   \n",
      "256                    Medium                 1                 5   \n",
      "84                       High                 0                 1   \n",
      "109                 Very_High                 0                 2   \n",
      "26                     Medium                 0                 1   \n",
      "1258                      Low                 0                20   \n",
      "349                    Medium                 0                 6   \n",
      "660                       Low                 0                 9   \n",
      "133                 Very_High                 1                 3   \n",
      "\n",
      "     TrainingTimesLastYear WorkLifeBalance  YearsAtCompany  \\\n",
      "1380                     5          Better              22   \n",
      "1395                     2            Good               7   \n",
      "1300                     3          Better              22   \n",
      "1271                     3          Better              21   \n",
      "1354                     2          Better               1   \n",
      "858                      5            Best               5   \n",
      "1417                     3          Better               3   \n",
      "1307                     2          Better              18   \n",
      "1377                     2            Good               9   \n",
      "1388                     2          Better               1   \n",
      "1463                     3            Good               6   \n",
      "464                      2            Best               1   \n",
      "1313                     2          Better              10   \n",
      "1203                     2          Better              16   \n",
      "1427                     3          Better               9   \n",
      "1188                     2            Good               1   \n",
      "453                      0          Better               7   \n",
      "1200                     1          Better               8   \n",
      "876                      6            Best               5   \n",
      "1176                     2          Better               7   \n",
      "712                      3            Good               4   \n",
      "758                      3            Good               8   \n",
      "1101                     3          Better              13   \n",
      "419                      3          Better               5   \n",
      "636                      3            Best               5   \n",
      "907                      1          Better               3   \n",
      "845                      2          Better               9   \n",
      "899                      3            Best               8   \n",
      "565                      2          Better               8   \n",
      "1293                     3          Better              20   \n",
      "559                      3          Better               8   \n",
      "79                       3          Better               1   \n",
      "256                      3          Better               4   \n",
      "84                       3            Good               1   \n",
      "109                      2          Better               2   \n",
      "26                       2          Better               1   \n",
      "1258                     3            Good               1   \n",
      "349                      4          Better               5   \n",
      "660                      3          Better               8   \n",
      "133                      3            Good               2   \n",
      "\n",
      "      YearsInCurrentRole  YearsSinceLastPromotion YearsWithCurrManager  \n",
      "1380                   9                        3                   10  \n",
      "1395                   7                        7                    7  \n",
      "1300                  17                       11                   15  \n",
      "1271                   9                       11                   10  \n",
      "1354                   0                        0                    1  \n",
      "858                    2                        0                    0  \n",
      "1417                   2                        2                    2  \n",
      "1307                  16                       11                    8  \n",
      "1377                   8                        7                    8  \n",
      "1388                   0                        0                    0  \n",
      "1463                   4                        0                    2  \n",
      "464                    0                        0                    0  \n",
      "1313                   7                        0                    8  \n",
      "1203                  14                        5                   12  \n",
      "1427                   8                        0                    0  \n",
      "1188                   0                        0                    1  \n",
      "453                    7                        1                    7  \n",
      "1200                   7                        0                    1  \n",
      "876                    4                        0                    2  \n",
      "1176                   7                        7                    7  \n",
      "712                    2                        0                    1  \n",
      "758                    7                        7                    7  \n",
      "1101                  12                        6                    0  \n",
      "419                    2                        0                    2  \n",
      "636                    4                        0                    3  \n",
      "907                    2                        1                    2  \n",
      "845                    3                        1                    7  \n",
      "899                    7                        5                    7  \n",
      "565                    7                        7                    5  \n",
      "1293                   8                       11                   10  \n",
      "559                    2                        0                    6  \n",
      "79                     0                        1                    0  \n",
      "256                    3                        0                    2  \n",
      "84                     0                        0                    0  \n",
      "109                    1                        2                    2  \n",
      "26                     0                        0                    0  \n",
      "1258                   0                        0                    0  \n",
      "349                    3                        1                    4  \n",
      "660                    7                        3                    1  \n",
      "133                    2                        1                    0  \n",
      "\n",
      "[40 rows x 31 columns]\n"
     ]
    },
    {
     "name": "stderr",
     "output_type": "stream",
     "text": [
      "C:\\Users\\crist\\AppData\\Local\\Temp\\ipykernel_13652\\4260752958.py:12: SettingWithCopyWarning: \n",
      "A value is trying to be set on a copy of a slice from a DataFrame.\n",
      "Try using .loc[row_indexer,col_indexer] = value instead\n",
      "\n",
      "See the caveats in the documentation: https://pandas.pydata.org/pandas-docs/stable/user_guide/indexing.html#returning-a-view-versus-a-copy\n",
      "  attrition_filtered['JobRole'] = attrition_filtered['JobRole'].cat.remove_unused_categories()\n"
     ]
    }
   ],
   "source": [
    "# Create a list of unique JobRole values\n",
    "job_roles_pop = list(attrition_pop['JobRole'].unique())\n",
    "\n",
    "# Randomly sample four JobRole values\n",
    "job_roles_samp = random.sample(job_roles_pop, k=4)\n",
    "\n",
    "# Filter for rows where JobRole is in job_roles_samp\n",
    "jobrole_condition = attrition_pop['JobRole'].isin(job_roles_samp)\n",
    "attrition_filtered = attrition_pop[jobrole_condition]\n",
    "\n",
    "# Remove categories with no rows\n",
    "attrition_filtered['JobRole'] = attrition_filtered['JobRole'].cat.remove_unused_categories()\n",
    "\n",
    "# Randomly sample 10 employees from each sampled job role\n",
    "attrition_clust = attrition_filtered.groupby(\"JobRole\").sample(n=10, random_state=2022)\n",
    "\n",
    "# Print the sample\n",
    "print(attrition_clust)"
   ]
  },
  {
   "attachments": {},
   "cell_type": "markdown",
   "metadata": {},
   "source": [
    "## 3 kinds of sampling\n",
    "You're going to compare the performance of point estimates using simple, stratified, and cluster sampling. Before doing that, you'll have to set up the samples.\n",
    "\n",
    "You'll use the RelationshipSatisfaction column of the attrition_pop dataset, which categorizes the employee's relationship with the company. It has four levels: Low, Medium, High, and Very_High. pandas has been loaded with its usual alias, and the random package has been loaded.\n",
    "\n",
    "#### Instructions \n",
    "+ Perform simple random sampling on attrition_pop to get one-quarter of the population, setting the seed to 2022.\n",
    "+ Perform stratified sampling on attrition_pop to sample one-quarter of each RelationshipSatisfaction group, setting the seed to 2022.\n",
    "+ Create a list of unique values from attrition_pop's RelationshipSatisfaction column.\n",
    "+ Randomly sample satisfaction_unique to get two values.\n",
    "+ Subset the population for rows where RelationshipSatisfaction is in satisfaction_samp and clear any unused categories from RelationshipSatisfaction; assign to attrition_clust_prep.\n",
    "+ Perform cluster sampling on the selected satisfaction groups, sampling one quarter of the population and setting the seed to 2022."
   ]
  },
  {
   "cell_type": "code",
   "execution_count": 19,
   "metadata": {},
   "outputs": [
    {
     "name": "stderr",
     "output_type": "stream",
     "text": [
      "C:\\Users\\crist\\AppData\\Local\\Temp\\ipykernel_13652\\1495670106.py:10: SettingWithCopyWarning: \n",
      "A value is trying to be set on a copy of a slice from a DataFrame.\n",
      "Try using .loc[row_indexer,col_indexer] = value instead\n",
      "\n",
      "See the caveats in the documentation: https://pandas.pydata.org/pandas-docs/stable/user_guide/indexing.html#returning-a-view-versus-a-copy\n",
      "  attrition_clust_prep['RelationshipSatisfaction'] = attrition_clust_prep['RelationshipSatisfaction'].cat.remove_unused_categories()\n"
     ]
    }
   ],
   "source": [
    "# Create a list of unique RelationshipSatisfaction values\n",
    "satisfaction_unique = list(attrition_pop['RelationshipSatisfaction'].unique())\n",
    "\n",
    "# Randomly sample 2 unique satisfaction values\n",
    "satisfaction_samp = random.sample(satisfaction_unique, k=2)\n",
    "\n",
    "# Filter for satisfaction_samp and clear unused categories from RelationshipSatisfaction\n",
    "satis_condition = attrition_pop['RelationshipSatisfaction'].isin(satisfaction_samp)\n",
    "attrition_clust_prep = attrition_pop[satis_condition]\n",
    "attrition_clust_prep['RelationshipSatisfaction'] = attrition_clust_prep['RelationshipSatisfaction'].cat.remove_unused_categories()\n",
    "\n",
    "# Perform cluster sampling on the selected group, getting 0.25 of attrition_pop\n",
    "attrition_clust = attrition_clust_prep.groupby(\"RelationshipSatisfaction\")\\\n",
    "    .sample(n=len(attrition_pop) // 4, random_state=2022)"
   ]
  },
  {
   "attachments": {},
   "cell_type": "markdown",
   "metadata": {},
   "source": [
    "## Comparing point estimates\n",
    "Now that you have three types of sample (simple, stratified, and cluster), you can compare point estimates from each sample to the population parameter. That is, you can calculate the same summary statistic on each sample and see how it compares to the summary statistic for the population.\n",
    "\n",
    "Here, we'll look at how satisfaction with the company affects whether or not the employee leaves the company. That is, you'll calculate the proportion of employees who left the company (they have an Attrition value of 1) for each value of RelationshipSatisfaction.\n",
    "\n",
    "attrition_pop, attrition_srs, attrition_strat, and attrition_clust are available; pandas is loaded with its usual alias.\n",
    "\n",
    "#### Instructions\n",
    "+ Group attrition_pop by RelationshipSatisfaction levels and calculate the mean of Attrition for each level.\n",
    "+ Calculate the proportion of employee attrition for each relationship satisfaction group, this time on the simple random sample, attrition_srs.\n",
    "+ Calculate the proportion of employee attrition for each relationship satisfaction group, this time on the stratified sample, attrition_strat.\n",
    "+ Calculate the proportion of employee attrition for each relationship satisfaction group, this time on the cluster sample, attrition_clust."
   ]
  },
  {
   "cell_type": "code",
   "execution_count": 14,
   "metadata": {},
   "outputs": [
    {
     "name": "stdout",
     "output_type": "stream",
     "text": [
      "RelationshipSatisfaction\n",
      "Low          0.206522\n",
      "Medium       0.148515\n",
      "High         0.154684\n",
      "Very_High    0.148148\n",
      "Name: Attrition, dtype: float64\n"
     ]
    }
   ],
   "source": [
    "# Mean Attrition by RelationshipSatisfaction group\n",
    "mean_attrition_pop = attrition_pop.groupby(by='RelationshipSatisfaction')['Attrition'].mean()\n",
    "\n",
    "# Print the result\n",
    "print(mean_attrition_pop)"
   ]
  },
  {
   "cell_type": "code",
   "execution_count": 22,
   "metadata": {},
   "outputs": [],
   "source": [
    "attrition_srs = attrition_pop.sample(frac=0.25, random_state=2022)"
   ]
  },
  {
   "cell_type": "code",
   "execution_count": 23,
   "metadata": {},
   "outputs": [
    {
     "name": "stdout",
     "output_type": "stream",
     "text": [
      "RelationshipSatisfaction\n",
      "Low          0.134328\n",
      "Medium       0.164179\n",
      "High         0.160000\n",
      "Very_High    0.155963\n",
      "Name: Attrition, dtype: float64\n"
     ]
    }
   ],
   "source": [
    "# Calculate the same thing for the simple random sample \n",
    "mean_attrition_srs = attrition_srs.groupby('RelationshipSatisfaction')['Attrition'].mean()\n",
    "\n",
    "# Print the result\n",
    "print(mean_attrition_srs)"
   ]
  },
  {
   "cell_type": "code",
   "execution_count": 16,
   "metadata": {},
   "outputs": [
    {
     "name": "stdout",
     "output_type": "stream",
     "text": [
      "RelationshipSatisfaction\n",
      "Low          0.221239\n",
      "Medium       0.102804\n",
      "High         0.148148\n",
      "Very_High    0.150838\n",
      "Name: Attrition, dtype: float64\n"
     ]
    }
   ],
   "source": [
    "# Calculate the same thing for the stratified sample \n",
    "mean_attrition_strat = attrition_strat.groupby('RelationshipSatisfaction')['Attrition'].mean()\n",
    "\n",
    "# Print the result\n",
    "print(mean_attrition_strat)"
   ]
  },
  {
   "cell_type": "code",
   "execution_count": 17,
   "metadata": {},
   "outputs": [
    {
     "name": "stdout",
     "output_type": "stream",
     "text": [
      "RelationshipSatisfaction\n",
      "Low          0.000000\n",
      "Medium       0.400000\n",
      "High         0.166667\n",
      "Very_High    0.090909\n",
      "Name: Attrition, dtype: float64\n"
     ]
    }
   ],
   "source": [
    "# Calculate the same thing for the cluster sample \n",
    "mean_attrition_clust = attrition_clust.groupby('RelationshipSatisfaction')['Attrition'].mean()\n",
    "\n",
    "# Print the result\n",
    "print(mean_attrition_clust)"
   ]
  }
 ],
 "metadata": {
  "kernelspec": {
   "display_name": "Machine_Learning_38",
   "language": "python",
   "name": "python3"
  },
  "language_info": {
   "codemirror_mode": {
    "name": "ipython",
    "version": 3
   },
   "file_extension": ".py",
   "mimetype": "text/x-python",
   "name": "python",
   "nbconvert_exporter": "python",
   "pygments_lexer": "ipython3",
   "version": "3.8.13"
  },
  "orig_nbformat": 4
 },
 "nbformat": 4,
 "nbformat_minor": 2
}
