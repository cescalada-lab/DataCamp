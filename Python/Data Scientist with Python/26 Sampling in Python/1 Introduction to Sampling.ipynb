{
 "cells": [
  {
   "cell_type": "code",
   "execution_count": 8,
   "metadata": {},
   "outputs": [
    {
     "name": "stdout",
     "output_type": "stream",
     "text": [
      "   acousticness          artists  danceability  duration_ms  duration_minutes  \\\n",
      "0       0.97200  ['David Bauer']         0.567     313293.0          5.221550   \n",
      "1       0.32100   ['Etta James']         0.821     360240.0          6.004000   \n",
      "2       0.00659    ['Quasimoto']         0.706     202507.0          3.375117   \n",
      "\n",
      "   energy  explicit                      id  instrumentalness   key  liveness  \\\n",
      "0   0.227       0.0  0w0D8H1ubRerCXHWYJkinO          0.601000  10.0     0.110   \n",
      "1   0.418       0.0  4JVeqfE2tpi7Pv63LJZtPh          0.000372   9.0     0.222   \n",
      "2   0.602       1.0  5pxtdhLAi0RTh1gNqhGMNA          0.000138  11.0     0.400   \n",
      "\n",
      "   loudness  mode               name  popularity release_date  speechiness  \\\n",
      "0   -13.441   1.0  Shout to the Lord        47.0         2000       0.0290   \n",
      "1    -9.841   0.0           Miss You        51.0   2000-12-12       0.0407   \n",
      "2    -8.306   0.0          Real Eyes        44.0   2000-06-13       0.3420   \n",
      "\n",
      "     tempo  valence    year  \n",
      "0  136.123   0.0396  2000.0  \n",
      "1  117.382   0.8030  2000.0  \n",
      "2   89.692   0.4790  2000.0  \n",
      "\n",
      "Index(['acousticness', 'artists', 'danceability', 'duration_ms',\n",
      "       'duration_minutes', 'energy', 'explicit', 'id', 'instrumentalness',\n",
      "       'key', 'liveness', 'loudness', 'mode', 'name', 'popularity',\n",
      "       'release_date', 'speechiness', 'tempo', 'valence', 'year'],\n",
      "      dtype='object')\n"
     ]
    }
   ],
   "source": [
    "# import libraries\n",
    "import pyarrow\n",
    "import numpy as np\n",
    "import pandas as pd\n",
    "import matplotlib.pyplot as plt\n",
    "\n",
    "# import dataset\n",
    "spotify_population = pd.read_feather('spotify_2000_2020.feather')\n",
    "\n",
    "\n",
    "print(spotify_population.head(3))\n",
    "print()\n",
    "print(spotify_population.columns)"
   ]
  },
  {
   "cell_type": "code",
   "execution_count": 9,
   "metadata": {},
   "outputs": [
    {
     "name": "stdout",
     "output_type": "stream",
     "text": [
      "<class 'pandas.core.frame.DataFrame'>\n",
      "RangeIndex: 41656 entries, 0 to 41655\n",
      "Data columns (total 20 columns):\n",
      " #   Column            Non-Null Count  Dtype  \n",
      "---  ------            --------------  -----  \n",
      " 0   acousticness      41656 non-null  float64\n",
      " 1   artists           41656 non-null  object \n",
      " 2   danceability      41656 non-null  float64\n",
      " 3   duration_ms       41656 non-null  float64\n",
      " 4   duration_minutes  41656 non-null  float64\n",
      " 5   energy            41656 non-null  float64\n",
      " 6   explicit          41656 non-null  float64\n",
      " 7   id                41656 non-null  object \n",
      " 8   instrumentalness  41656 non-null  float64\n",
      " 9   key               41656 non-null  float64\n",
      " 10  liveness          41656 non-null  float64\n",
      " 11  loudness          41656 non-null  float64\n",
      " 12  mode              41656 non-null  float64\n",
      " 13  name              41656 non-null  object \n",
      " 14  popularity        41656 non-null  float64\n",
      " 15  release_date      41656 non-null  object \n",
      " 16  speechiness       41656 non-null  float64\n",
      " 17  tempo             41656 non-null  float64\n",
      " 18  valence           41656 non-null  float64\n",
      " 19  year              41656 non-null  float64\n",
      "dtypes: float64(16), object(4)\n",
      "memory usage: 6.4+ MB\n",
      "None\n"
     ]
    }
   ],
   "source": [
    "print(spotify_population.info())"
   ]
  },
  {
   "attachments": {},
   "cell_type": "markdown",
   "metadata": {},
   "source": [
    "## Simple sampling with pandas\n",
    "Throughout this chapter, you'll be exploring song data from Spotify. Each row of this population dataset represents a song, and there are over 40,000 rows. Columns include the song name, the artists who performed it, the release year, and attributes of the song like its duration, tempo, and danceability. You'll start by looking at the durations.\n",
    "\n",
    "Your first task is to sample the Spotify dataset and compare the mean duration of the population with the sample.\n",
    "\n",
    "spotify_population is available and pandas is loaded as pd.\n",
    "\n",
    "#### Instructions \n",
    "\n",
    "+ Sample 1000 rows from spotify_population, assigning to spotify_sample.\n",
    "+ Calculate the mean duration in minutes from spotify_population using pandas.\n",
    "+ Calculate the mean duration in minutes from spotify_sample using pandas."
   ]
  },
  {
   "cell_type": "code",
   "execution_count": 11,
   "metadata": {},
   "outputs": [
    {
     "name": "stdout",
     "output_type": "stream",
     "text": [
      "       acousticness                                      artists  \\\n",
      "20122        0.5940                                ['Toby Love']   \n",
      "7189         0.6940  ['Calle 13', 'Rubén Blades', 'La Chilinga']   \n",
      "19961        0.3950                               ['The Weeknd']   \n",
      "5968         0.1560               ['YoungBoy Never Broke Again']   \n",
      "13413        0.3370               ['Bishop Paul S. Morton, Sr.']   \n",
      "...             ...                                          ...   \n",
      "29587        0.0027                          ['Head Automatica']   \n",
      "34520        0.0261         ['JAY-Z', 'Kanye West', 'Mr Hudson']   \n",
      "743          0.4000                             ['Led Zeppelin']   \n",
      "41570        0.2440                                 ['Don Omar']   \n",
      "7847         0.0368                                       ['MØ']   \n",
      "\n",
      "       danceability  duration_ms  duration_minutes  energy  explicit  \\\n",
      "20122         0.803     229973.0          3.832883   0.680       0.0   \n",
      "7189          0.730     415637.0          6.927283   0.680       1.0   \n",
      "19961         0.458     349213.0          5.820217   0.705       1.0   \n",
      "5968          0.695     236121.0          3.935350   0.648       1.0   \n",
      "13413         0.397     279467.0          4.657783   0.557       0.0   \n",
      "...             ...          ...               ...     ...       ...   \n",
      "29587         0.458     203733.0          3.395550   0.971       0.0   \n",
      "34520         0.481     201373.0          3.356217   0.805       1.0   \n",
      "743           0.407     295507.0          4.925117   0.866       0.0   \n",
      "41570         0.817     222680.0          3.711333   0.667       0.0   \n",
      "7847          0.663     214240.0          3.570667   0.878       0.0   \n",
      "\n",
      "                           id  instrumentalness  key  liveness  loudness  \\\n",
      "20122  3Ux53Gwh9txPtWaO7AXKZQ          0.000014  4.0     0.101    -5.248   \n",
      "7189   47bZcj3dW5RMqtQd4ALyZl          0.000000  7.0     0.208    -7.779   \n",
      "19961  6nNr7G34ZmUpyIiYWpQzgP          0.019500  4.0     0.601    -5.463   \n",
      "5968   627Ue4WpTs3P9DumoK3BVx          0.000000  5.0     0.186    -7.340   \n",
      "13413  0UBMg9kupr8QxZVzUumm0Q          0.000000  8.0     0.124    -7.484   \n",
      "...                       ...               ...  ...       ...       ...   \n",
      "29587  24efdUt3KGbZ6wnBLp6j2n          0.000000  8.0     0.179    -4.549   \n",
      "34520  4lLmG1fatRUgnRz0Ol0WUi          0.000000  5.0     0.269    -4.132   \n",
      "743    3nsUVlntPIksDvhHdZZhiu          0.040900  4.0     0.270    -8.048   \n",
      "41570  4AbTOGtRCtPK2IXsDiCzMF          0.011800  9.0     0.258    -9.182   \n",
      "7847   6TjP1C3sGQH1jBfzUXfcMg          0.000003  1.0     0.328    -3.195   \n",
      "\n",
      "       mode                                         name  popularity  \\\n",
      "20122   0.0                                        Lejos        54.0   \n",
      "7189    0.0  La Perla (feat. Rubén Blades & La Chilinga)        45.0   \n",
      "19961   0.0                                  Lonely Star        43.0   \n",
      "5968    0.0                                  War with Us        58.0   \n",
      "13413   1.0                       Don't Do It Without Me        41.0   \n",
      "...     ...                                          ...         ...   \n",
      "29587   1.0                           Beating Heart Baby        52.0   \n",
      "34520   1.0                               Why I Love You        56.0   \n",
      "743     0.0                    Black Dog - 2007 Remaster        50.0   \n",
      "41570   0.0                     No Se De Ella \"My Space\"         2.0   \n",
      "7847    0.0                                     Kamikaze        60.0   \n",
      "\n",
      "      release_date  speechiness    tempo  valence    year  \n",
      "20122   2013-05-07       0.0406  124.946    0.699  2013.0  \n",
      "7189    2008-07-21       0.3170   90.121    0.967  2008.0  \n",
      "19961   2012-01-01       0.0672  157.970    0.150  2012.0  \n",
      "5968    2017-07-31       0.0831   80.037    0.523  2017.0  \n",
      "13413   2008-10-28       0.0893   83.654    0.386  2008.0  \n",
      "...            ...          ...      ...      ...     ...  \n",
      "29587   2004-08-10       0.1000  149.944    0.490  2004.0  \n",
      "34520   2011-08-08       0.0419  123.441    0.373  2011.0  \n",
      "743           2007       0.0996   80.813    0.723  2007.0  \n",
      "41570   2020-06-12       0.0920   88.011    0.776  2020.0  \n",
      "7847    2015-10-15       0.0646  158.035    0.704  2015.0  \n",
      "\n",
      "[1000 rows x 20 columns]\n"
     ]
    }
   ],
   "source": [
    "# Sample 1000 rows from spotify_population\n",
    "spotify_sample = spotify_population.sample(n=1000)\n",
    "\n",
    "# Print the sample\n",
    "print(spotify_sample)"
   ]
  },
  {
   "cell_type": "code",
   "execution_count": 12,
   "metadata": {},
   "outputs": [
    {
     "name": "stdout",
     "output_type": "stream",
     "text": [
      "3.8521519140900073\n",
      "3.8739580833333336\n"
     ]
    }
   ],
   "source": [
    "# Calculate the mean duration in mins from spotify_population\n",
    "mean_dur_pop = spotify_population['duration_minutes'].mean()\n",
    "\n",
    "# Calculate the mean duration in mins from spotify_sample\n",
    "mean_dur_samp = spotify_sample['duration_minutes'].mean()\n",
    "\n",
    "# Print the means\n",
    "print(mean_dur_pop)\n",
    "print(mean_dur_samp)"
   ]
  },
  {
   "attachments": {},
   "cell_type": "markdown",
   "metadata": {},
   "source": [
    "## Simple sampling and calculating with NumPy\n",
    "You can also use numpy to calculate parameters or statistics from a list or pandas Series.\n",
    "\n",
    "You'll be turning it up to eleven and looking at the loudness property of each song.\n",
    "\n",
    "spotify_population is available and numpy is loaded as np.\n",
    "\n",
    "#### Instructions \n",
    "+ Create a pandas Series, loudness_pop, by subsetting the loudness column from spotify_population.\n",
    "+ Sample loudness_pop to get 100 random values, assigning to loudness_samp.\n",
    "+ Calculate the mean of loudness_pop using numpy.\n",
    "+ Calculate the mean of loudness_samp using numpy."
   ]
  },
  {
   "cell_type": "code",
   "execution_count": 13,
   "metadata": {},
   "outputs": [
    {
     "name": "stdout",
     "output_type": "stream",
     "text": [
      "19061    -3.665\n",
      "18262    -5.359\n",
      "40476   -10.744\n",
      "12403    -4.925\n",
      "27307    -9.312\n",
      "          ...  \n",
      "33540   -11.767\n",
      "23529    -4.748\n",
      "32380    -3.377\n",
      "26447   -13.052\n",
      "39266   -11.890\n",
      "Name: loudness, Length: 100, dtype: float64\n"
     ]
    }
   ],
   "source": [
    "# Create a pandas Series from the loudness column of spotify_population\n",
    "loudness_pop = pd.Series(spotify_population['loudness'])\n",
    "\n",
    "# Sample 100 values of loudness_pop\n",
    "loudness_samp = loudness_pop.sample(n=100)\n",
    "\n",
    "# Print the sample\n",
    "print(loudness_samp)"
   ]
  },
  {
   "cell_type": "code",
   "execution_count": 14,
   "metadata": {},
   "outputs": [
    {
     "name": "stdout",
     "output_type": "stream",
     "text": [
      "-7.366856851353947\n",
      "-7.04384\n"
     ]
    }
   ],
   "source": [
    "# Create a pandas Series from the loudness column of spotify_population\n",
    "loudness_pop = spotify_population['loudness']\n",
    "\n",
    "# Sample 100 values of loudness_pop\n",
    "loudness_samp = loudness_pop.sample(n=100)\n",
    "\n",
    "# Calculate the mean of loudness_pop\n",
    "mean_loudness_pop = np.mean(loudness_pop)\n",
    "\n",
    "# Calculate the mean of loudness_samp\n",
    "mean_loudness_samp = np.mean(loudness_samp)\n",
    "\n",
    "# Print the means\n",
    "print(mean_loudness_pop)\n",
    "print(mean_loudness_samp)"
   ]
  },
  {
   "attachments": {},
   "cell_type": "markdown",
   "metadata": {},
   "source": [
    "## Are findings from the sample generalizable?\n",
    "You just saw how convenience sampling—collecting data using the easiest method—can result in samples that aren't representative of the population. Equivalently, this means findings from the sample are not generalizable to the population. Visualizing the distributions of the population and the sample can help determine whether or not the sample is representative of the population.\n",
    "\n",
    "The Spotify dataset contains an acousticness column, which is a confidence measure from zero to one of whether the track was made with instruments that aren't plugged in. You'll compare the acousticness distribution of the total population of songs with a sample of those songs.\n",
    "\n",
    "spotify_population and spotify_mysterious_sample are available; pandas as pd, matplotlib.pyplot as plt, and numpy as np are loaded.\n",
    "\n",
    "#### Instructions\n",
    "\n",
    "+ Plot a histogram of the acousticness from spotify_population with bins of width 0.01 from 0 to 1 using pandas .hist().\n",
    "+ Update the histogram code to use the spotify_mysterious_sample dataset."
   ]
  },
  {
   "cell_type": "code",
   "execution_count": 15,
   "metadata": {},
   "outputs": [],
   "source": [
    "# using an unknown spotify data with the same features as the previously import spotify data\n",
    "mysterious_sample = pd.read_csv('https://docs.google.com/spreadsheets/d/e/2PACX-1vRap3kWpwEhSDTpqc_LrCbTQIY9qLhnpZP17axDfsGUSOV6DL_fJsqNp9vXbCAjfzrBds8c3NCJZg2f/pub?gid=709023650&single=true&output=csv')\n",
    "\n",
    "# subset the spotify_population values based on the index of the mysterious data\n",
    "spotify_mysterious_sample = spotify_population.loc[mysterious_sample['index'].to_numpy()]"
   ]
  },
  {
   "cell_type": "code",
   "execution_count": 16,
   "metadata": {},
   "outputs": [
    {
     "data": {
      "image/png": "[encoded data removed]",
      "text/plain": [
       "<Figure size 432x288 with 1 Axes>"
      ]
     },
     "metadata": {
      "needs_background": "light"
     },
     "output_type": "display_data"
    }
   ],
   "source": [
    "# Visualize the distribution of acousticness with a histogram\n",
    "#plt.hist(spotify_population['acousticness'], bins=np.arange(0, 1+0.01, 0.01))\n",
    "spotify_population['acousticness'].hist(bins=np.arange(0, 1 + 0.01, 0.01))\n",
    "plt.show()"
   ]
  },
  {
   "cell_type": "code",
   "execution_count": 18,
   "metadata": {},
   "outputs": [
    {
     "data": {
      "image/png": "[encoded data removed]",
      "text/plain": [
       "<Figure size 432x288 with 1 Axes>"
      ]
     },
     "metadata": {
      "needs_background": "light"
     },
     "output_type": "display_data"
    },
    {
     "name": "stdout",
     "output_type": "stream",
     "text": [
      "0.951 0.996\n"
     ]
    }
   ],
   "source": [
    "# Update the histogram to use spotify_mysterious_sample\n",
    "spotify_mysterious_sample['acousticness'].hist(bins=np.arange(0, 1.01, 0.01))\n",
    "plt.show()\n",
    "print(spotify_mysterious_sample['acousticness'].min(), spotify_mysterious_sample['acousticness'].max())"
   ]
  },
  {
   "attachments": {},
   "cell_type": "markdown",
   "metadata": {},
   "source": [
    "#### Question\n",
    "Compare the two histograms you drew. Are the acousticness values in the sample generalizable to the general population?\n",
    "\n",
    "#### Answer\n",
    "+ No. The acousticness samples are consistently higher than those in the general population.\n",
    "\n",
    "````\n",
    "The acousticness values in the sample are all greater than 0.95, whereas they range from 0 to 1 in the whole population.\n",
    "````"
   ]
  },
  {
   "attachments": {},
   "cell_type": "markdown",
   "metadata": {},
   "source": [
    "## Are these findings generalizable?\n",
    "Let's look at another sample to see if it is representative of the population. This time, you'll look at the duration_minutes column of the Spotify dataset, which contains the length of the song in minutes.\n",
    "\n",
    "spotify_population and spotify_mysterious_sample2 are available; pandas, matplotlib.pyplot, and numpy are loaded using their standard aliases.\n",
    "\n",
    "#### Instructions\n",
    "\n",
    "+ Plot a histogram of duration_minutes from spotify_population with bins of width 0.5 from 0 to 15 using pandas .hist().\n",
    "+ Update the histogram code to use the spotify_mysterious_sample2 dataset."
   ]
  },
  {
   "cell_type": "code",
   "execution_count": 19,
   "metadata": {},
   "outputs": [
    {
     "data": {
      "image/png": "[encoded data removed]",
      "text/plain": [
       "<Figure size 432x288 with 1 Axes>"
      ]
     },
     "metadata": {
      "needs_background": "light"
     },
     "output_type": "display_data"
    }
   ],
   "source": [
    "# Visualize the distribution of duration_minutes as a histogram\n",
    "spotify_population['duration_minutes'].hist(bins=np.arange(0, 15+0.5, 0.5))\n",
    "plt.show()"
   ]
  },
  {
   "cell_type": "code",
   "execution_count": null,
   "metadata": {},
   "outputs": [],
   "source": [
    "# Update the histogram to use spotify_mysterious_sample2\n",
    "spotify_mysterious_sample2['duration_minutes'].hist(bins=np.arange(0, 15.5, 0.5))\n",
    "plt.show()"
   ]
  },
  {
   "attachments": {},
   "cell_type": "markdown",
   "metadata": {},
   "source": [
    "#### Question\n",
    "Compare the two histograms you drew. Are the duration values in the sample generalizable to the general population?\n",
    "#### Answer\n",
    "+ Yes. The sample selected is likely a random sample of all songs in the population."
   ]
  },
  {
   "attachments": {},
   "cell_type": "markdown",
   "metadata": {},
   "source": [
    "## Generating random numbers\n",
    "You've used .sample() to generate pseudo-random numbers from a set of values in a DataFrame. A related task is to generate random numbers that follow a statistical distribution, like the uniform distribution or the normal distribution.\n",
    "\n",
    "Each random number generation function has distribution-specific arguments and an argument for specifying the number of random numbers to generate.\n",
    "\n",
    "matplotlib.pyplot is loaded as plt, and numpy is loaded as np.\n",
    "\n",
    "Instructions 1/4\n",
    "+ Generate 5000 numbers from a uniform distribution, setting the parameters low to -3 and high to 3.\n",
    "+ Generate 5000 numbers from a normal distribution, setting the parameters loc to 5 and scale to 2.\n",
    "+ Plot a histogram of uniforms with bins of width of 0.25 from -3 to 3 using plt.hist().\n",
    "+ Plot a histogram of normals with bins of width of 0.5 from -2 to 13 using plt.hist()."
   ]
  },
  {
   "cell_type": "code",
   "execution_count": 21,
   "metadata": {},
   "outputs": [
    {
     "name": "stdout",
     "output_type": "stream",
     "text": [
      "[ 2.5669664  -0.33463899 -2.62706769 ...  0.52587276  2.78639416\n",
      "  0.91612739]\n"
     ]
    }
   ],
   "source": [
    "# Generate random numbers from a Uniform(-3, 3)\n",
    "uniforms = np.random.uniform(low=-3,high=3,size=5000)\n",
    "\n",
    "# Print uniforms\n",
    "print(uniforms)"
   ]
  },
  {
   "cell_type": "code",
   "execution_count": 22,
   "metadata": {},
   "outputs": [
    {
     "name": "stdout",
     "output_type": "stream",
     "text": [
      "[4.98083667 7.61687566 4.97683024 ... 6.85626819 4.61180406 3.52990809]\n"
     ]
    }
   ],
   "source": [
    "# Generate random numbers from a Uniform(-3, 3)\n",
    "uniforms = np.random.uniform(low=-3, high=3, size=5000)\n",
    "\n",
    "# Generate random numbers from a Normal(5, 2)\n",
    "normals = np.random.normal(loc=5, scale=2, size=5000)\n",
    "\n",
    "# Print normals\n",
    "print(normals)"
   ]
  },
  {
   "cell_type": "code",
   "execution_count": 23,
   "metadata": {},
   "outputs": [
    {
     "data": {
      "image/png": "[encoded data removed]",
      "text/plain": [
       "<Figure size 432x288 with 1 Axes>"
      ]
     },
     "metadata": {
      "needs_background": "light"
     },
     "output_type": "display_data"
    }
   ],
   "source": [
    "# Generate random numbers from a Uniform(-3, 3)\n",
    "uniforms = np.random.uniform(low=-3, high=3, size=5000)\n",
    "\n",
    "# Plot a histogram of uniform values, binwidth 0.25\n",
    "plt.hist(uniforms, bins=np.arange(-3, 3.25, 0.25))\n",
    "plt.show()"
   ]
  },
  {
   "cell_type": "code",
   "execution_count": 24,
   "metadata": {},
   "outputs": [
    {
     "data": {
      "image/png": "[encoded data removed]",
      "text/plain": [
       "<Figure size 432x288 with 1 Axes>"
      ]
     },
     "metadata": {
      "needs_background": "light"
     },
     "output_type": "display_data"
    }
   ],
   "source": [
    "# Generate random numbers from a Normal(5, 2)\n",
    "normals = np.random.normal(loc=5, scale=2, size=5000)\n",
    "\n",
    "# Plot a histogram of normal values, binwidth 0.5\n",
    "plt.hist(normals, bins=np.arange(-2, 13.5, 0.5))\n",
    "plt.show()"
   ]
  },
  {
   "attachments": {},
   "cell_type": "markdown",
   "metadata": {},
   "source": [
    "## Understanding random seeds\n",
    "While random numbers are important for many analyses, they create a problem: the results you get can vary slightly. This can cause awkward conversations with your boss when your script for calculating the sales forecast gives different answers each time.\n",
    "\n",
    "Setting the seed for numpy's random number generator helps avoid such problems by making the random number generation reproducible.\n",
    "\n",
    "Instructions\n",
    "\n",
    "#### Question\n",
    "Which statement about x and y is true?\n",
    "\n",
    "````\n",
    "import numpy as np\n",
    "np.random.seed(123)\n",
    "x = np.random.normal(size=5)\n",
    "y = np.random.normal(size=5)\n",
    "````\n",
    "#### Answer\n",
    "+ The values of x are different from those of y.\n",
    "\n",
    "#### Question\n",
    "Which statement about x and y is true?\n",
    "\n",
    "````\n",
    "import numpy as np\n",
    "np.random.seed(123)\n",
    "x = np.random.normal(size=5)\n",
    "np.random.seed(123)\n",
    "y = np.random.normal(size=5)\n",
    "````\n",
    "\n",
    "#### Answer\n",
    "+ x and y have identical values.\n",
    "\n",
    "#### Question\n",
    "Which statement about x and y is true?\n",
    "\n",
    "````\n",
    "import numpy as np\n",
    "np.random.seed(123)\n",
    "x = np.random.normal(size=5)\n",
    "np.random.seed(456)\n",
    "y = np.random.normal(size=5)`\n",
    "````\n",
    "#### Answer\n",
    "+ The values of x are different from those of y."
   ]
  }
 ],
 "metadata": {
  "kernelspec": {
   "display_name": "Machine_Learning_38",
   "language": "python",
   "name": "python3"
  },
  "language_info": {
   "codemirror_mode": {
    "name": "ipython",
    "version": 3
   },
   "file_extension": ".py",
   "mimetype": "text/x-python",
   "name": "python",
   "nbconvert_exporter": "python",
   "pygments_lexer": "ipython3",
   "version": "3.8.13"
  },
  "orig_nbformat": 4
 },
 "nbformat": 4,
 "nbformat_minor": 2
}
