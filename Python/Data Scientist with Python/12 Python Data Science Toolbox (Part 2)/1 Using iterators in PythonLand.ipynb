{
 "cells": [
  {
   "cell_type": "markdown",
   "id": "90cec03e-fbf4-45f6-b57d-150637b6f8ff",
   "metadata": {},
   "source": [
    "# Iterators vs Iterables\n",
    "Let's do a quick recall of what you've learned about iterables and iterators. Recall from the video that an iterable is an object that can return an iterator, while an iterator is an object that keeps state and produces the next value when you call next() on it. In this exercise, you will identify which object is an iterable and which is an iterator.\n",
    "\n",
    "The environment has been pre-loaded with the variables flash1 and flash2. Try printing out their values with print() and next() to figure out which is an iterable and which is an iterator.\n",
    "\n",
    "``ANSWER: flash1 is an iterable and flash2 is an iterator.``"
   ]
  },
  {
   "cell_type": "code",
   "execution_count": 1,
   "id": "623e4676-89f9-48be-8382-2758fa2dabb0",
   "metadata": {},
   "outputs": [],
   "source": [
    "flash1 = ['jay garrick', 'barry allen', 'wally west', 'bart allen']\n",
    "flash2 = iter(flash1)"
   ]
  },
  {
   "cell_type": "code",
   "execution_count": 2,
   "id": "5f176127-7960-48a9-88e6-32533d6fdad3",
   "metadata": {},
   "outputs": [
    {
     "name": "stdout",
     "output_type": "stream",
     "text": [
      "['jay garrick', 'barry allen', 'wally west', 'bart allen']\n",
      "jay garrick\n"
     ]
    }
   ],
   "source": [
    "print(flash1)\n",
    "print(next(flash2))"
   ]
  },
  {
   "cell_type": "markdown",
   "id": "32c4ca1c-9e0f-4771-b8fb-a2f08dd8e00a",
   "metadata": {},
   "source": [
    "# Iterating over iterables (1)"
   ]
  },
  {
   "cell_type": "markdown",
   "id": "3b88d8e8-9d14-4ec7-bc2d-5ffab65d0235",
   "metadata": {},
   "source": [
    "Instructions\n",
    "\n",
    "* Create a for loop to loop over flash and print the values in the list. Use person as the loop variable.\n",
    "* Create an iterator for the list flash and assign the result to superhero.\n",
    "* Print each of the items from superhero using next() 4 times."
   ]
  },
  {
   "cell_type": "code",
   "execution_count": 12,
   "id": "937de475-880d-4b69-9ab5-08e774295b4e",
   "metadata": {},
   "outputs": [
    {
     "name": "stdout",
     "output_type": "stream",
     "text": [
      "jay garrick\n",
      "barry allen\n",
      "wally west\n",
      "bart allen\n",
      "jay garrick\n",
      "barry allen\n",
      "wally west\n",
      "bart allen\n"
     ]
    }
   ],
   "source": [
    "# Create a list of strings: flash\n",
    "flash = ['jay garrick', 'barry allen', 'wally west', 'bart allen']\n",
    "\n",
    "# Print each list item in flash using a for loop\n",
    "for person in flash: \n",
    "    print(person)\n",
    "\n",
    "# Create an iterator for flash: superhero\n",
    "superhero= iter(flash)\n",
    "\n",
    "# Print each item from the iterator\n",
    "print(next(superhero))\n",
    "print(next(superhero))\n",
    "print(next(superhero))\n",
    "print(next(superhero))"
   ]
  },
  {
   "cell_type": "markdown",
   "id": "3ebfc339-40ea-4ff8-aeb7-d1359e6b7817",
   "metadata": {},
   "source": [
    "# Iterating over iterables (2)\n",
    "One of the things you learned about in this chapter is that not all iterables are actual lists. A couple of examples that we looked at are strings and the use of the range() function. In this exercise, we will focus on the range() function.\n",
    "\n",
    "You can use range() in a for loop as if it's a list to be iterated over:\n",
    "````\n",
    "for i in range(5):\n",
    "    print(i)\n",
    "````\n",
    "Recall that range() doesn't actually create the list; instead, it creates a range object with an iterator that produces the values until it reaches the limit (in the example, until the value 4). If range() created the actual list, calling it with a value of  may not work, especially since a number as big as that may go over a regular computer's memory. The value  is actually what's called a Googol which is a 1 followed by a hundred 0s. That's a huge number!\n",
    "\n",
    "Your task for this exercise is to show that calling range() with  won't actually pre-create the list."
   ]
  },
  {
   "cell_type": "markdown",
   "id": "fa3a5f3e-49d0-4678-b86e-a9900017b6c7",
   "metadata": {},
   "source": [
    "# Instructions\n",
    "\n",
    "* Create an iterator object small_value over range(3) using the function iter().\n",
    "* Using a for loop, iterate over range(3), printing the value for every iteration. Use num as the loop variable.\n",
    "* Create an iterator object googol over range(10 ** 100)."
   ]
  },
  {
   "cell_type": "code",
   "execution_count": 16,
   "id": "1f07c5de-a499-4243-b93b-57bb951219e7",
   "metadata": {},
   "outputs": [
    {
     "name": "stdout",
     "output_type": "stream",
     "text": [
      "0\n",
      "1\n",
      "2\n",
      "0\n",
      "1\n",
      "2\n",
      "0\n",
      "1\n",
      "2\n",
      "3\n",
      "4\n"
     ]
    }
   ],
   "source": [
    "# Create an iterator for range(3): small_value\n",
    "small_value = iter( range(3) )\n",
    "\n",
    "# Print the values in small_value\n",
    "print(next(small_value))\n",
    "print(next(small_value))\n",
    "print(next(small_value))\n",
    "\n",
    "# Loop over range(3) and print the values\n",
    "for num in range(3):\n",
    "    print(num)\n",
    "\n",
    "# Create an iterator for range(10 ** 100): googol\n",
    "googol = iter( range(10 ** 100) )\n",
    "\n",
    "# Print the first 5 values from googol\n",
    "print(next(googol))\n",
    "print(next(googol))\n",
    "print(next(googol))\n",
    "print(next(googol))\n",
    "print(next(googol))\n"
   ]
  },
  {
   "cell_type": "markdown",
   "id": "cefbd85c-73ce-4784-9f27-bfa4aa0ab98e",
   "metadata": {},
   "source": [
    "# Iterators as function arguments\n",
    "You've been using the iter() function to get an iterator object, as well as the next() function to retrieve the values one by one from the iterator object.\n",
    "\n",
    "There are also functions that take iterators and iterables as arguments. For example, the list() and sum() functions return a list and the sum of elements, respectively.\n",
    "\n",
    "In this exercise, you will use these functions by passing an iterable from range() and then printing the results of the function calls.\n",
    "\n",
    "Instructions\n",
    "\n",
    "* Create a range object that would produce the values from 10 to 20 using range(). Assign the result to values.\n",
    "* Use the list() function to create a list of values from the range object values. Assign the result to values_list.\n",
    "* Use the sum() function to get the sum of the values from 10 to 20 from the range object values. Assign the result to values_sum."
   ]
  },
  {
   "cell_type": "code",
   "execution_count": 18,
   "id": "bfe0804d-d7dd-4d6a-b754-4184aa0bbc8a",
   "metadata": {},
   "outputs": [
    {
     "name": "stdout",
     "output_type": "stream",
     "text": [
      "range(10, 21)\n",
      "[10, 11, 12, 13, 14, 15, 16, 17, 18, 19, 20]\n",
      "165\n"
     ]
    }
   ],
   "source": [
    "# Create a range object: values\n",
    "values = range(10,21,1)\n",
    "\n",
    "# Print the range object\n",
    "print(values)\n",
    "\n",
    "# Create a list of integers: values_list\n",
    "values_list = list(values)\n",
    "\n",
    "# Print values_list\n",
    "print(values_list)\n",
    "\n",
    "# Get the sum of values: values_sum\n",
    "values_sum = sum(values)\n",
    "\n",
    "# Print values_sum\n",
    "print(values_sum)"
   ]
  },
  {
   "cell_type": "markdown",
   "id": "b993b1c2-414e-471d-8feb-9eccd191c13f",
   "metadata": {},
   "source": [
    "# Using enumerate\n",
    "You're really getting the hang of using iterators, great job!\n",
    "\n",
    "You've just gained several new ideas on iterators from the last video and one of them is the enumerate() function. Recall that enumerate() returns an enumerate object that produces a sequence of tuples, and each of the tuples is an index-value pair.\n",
    "\n",
    "In this exercise, you are given a list of strings mutants and you will practice using enumerate() on it by printing out a list of tuples and unpacking the tuples using a for loop.\n",
    "\n",
    "Instructions\n",
    "\n",
    "* Create a list of tuples from mutants and assign the result to mutant_list. Make sure you generate the tuples using enumerate() and turn the result from it into a list using list().\n",
    "* Complete the first for loop by unpacking the tuples generated by calling enumerate() on mutants. Use index1 for the index and value1 for the value when unpacking the tuple.\n",
    "* Complete the second for loop similarly as with the first, but this time change the starting index to start from 1 by passing it in as an argument to the start parameter of enumerate(). Use index2 for the index and value2 for the value when unpacking the tuple."
   ]
  },
  {
   "cell_type": "code",
   "execution_count": 19,
   "id": "365e3918-2dbe-4f8e-a11b-802fc0cdc384",
   "metadata": {},
   "outputs": [
    {
     "name": "stdout",
     "output_type": "stream",
     "text": [
      "[(0, 'charles xavier'), (1, 'bobby drake'), (2, 'kurt wagner'), (3, 'max eisenhardt'), (4, 'kitty pryde')]\n",
      "0 charles xavier\n",
      "1 bobby drake\n",
      "2 kurt wagner\n",
      "3 max eisenhardt\n",
      "4 kitty pryde\n",
      "1 charles xavier\n",
      "2 bobby drake\n",
      "3 kurt wagner\n",
      "4 max eisenhardt\n",
      "5 kitty pryde\n"
     ]
    }
   ],
   "source": [
    "# Create a list of strings: mutants\n",
    "mutants = ['charles xavier', \n",
    "            'bobby drake', \n",
    "            'kurt wagner', \n",
    "            'max eisenhardt', \n",
    "            'kitty pryde']\n",
    "\n",
    "# Create a list of tuples: mutant_list\n",
    "mutant_list = list(enumerate(mutants))\n",
    "\n",
    "# Print the list of tuples\n",
    "print(mutant_list)\n",
    "\n",
    "# Unpack and print the tuple pairs\n",
    "for index1,value1 in enumerate(mutants):\n",
    "    print(index1, value1)\n",
    "\n",
    "# Change the start index\n",
    "for index2, value2 in enumerate(mutants, start =1):\n",
    "    print(index2, value2)"
   ]
  },
  {
   "cell_type": "markdown",
   "id": "881ccf39-5887-4972-9f65-8bfc42a5836b",
   "metadata": {},
   "source": [
    "# Using zip\n",
    "Another interesting function that you've learned is zip(), which takes any number of iterables and returns a zip object that is an iterator of tuples. If you wanted to print the values of a zip object, you can convert it into a list and then print it. Printing just a zip object will not return the values unless you unpack it first. In this exercise, you will explore this for yourself.\n",
    "\n",
    "Three lists of strings are pre-loaded: mutants, aliases, and powers. First, you will use list() and zip() on these lists to generate a list of tuples. Then, you will create a zip object using zip(). Finally, you will unpack this zip object in a for loop to print the values in each tuple. Observe the different output generated by printing the list of tuples, then the zip object, and finally, the tuple values in the for loop.\n",
    "\n",
    "Instructions\n",
    "\n",
    "* Using zip() with list(), create a list of tuples from the three lists mutants, aliases, and powers (in that order) and assign the result to mutant_data.\n",
    "* Using zip(), create a zip object called mutant_zip from the three lists mutants, aliases, and powers.\n",
    "* Complete the for loop by unpacking the zip object you created and printing the tuple values. Use value1, value2, value3 for the values from each of mutants, aliases, and powers, in that order."
   ]
  },
  {
   "cell_type": "code",
   "execution_count": 20,
   "id": "2de6025b-00e0-4440-81cd-b35cd1b1afd8",
   "metadata": {},
   "outputs": [
    {
     "name": "stdout",
     "output_type": "stream",
     "text": [
      "[('charles xavier', 'prof x', 'telepathy'), ('bobby drake', 'iceman', 'thermokinesis'), ('kurt wagner', 'nightcrawler', 'teleportation'), ('max eisenhardt', 'magneto', 'magnetokinesis'), ('kitty pryde', 'shadowcat', 'intangibility')]\n",
      "<zip object at 0x000001A8D088AEC0>\n",
      "charles xavier prof x telepathy\n",
      "bobby drake iceman thermokinesis\n",
      "kurt wagner nightcrawler teleportation\n",
      "max eisenhardt magneto magnetokinesis\n",
      "kitty pryde shadowcat intangibility\n"
     ]
    }
   ],
   "source": [
    "mutants = ['charles xavier', 'bobby drake', 'kurt wagner', 'max eisenhardt', 'kitty pryde']\n",
    "aliases = ['prof x', 'iceman', 'nightcrawler', 'magneto', 'shadowcat']\n",
    "powers  = ['telepathy', 'thermokinesis', 'teleportation', 'magnetokinesis', 'intangibility']\n",
    "\n",
    "# Create a list of tuples: mutant_data\n",
    "mutant_data = list( zip(mutants, aliases, powers) )\n",
    "\n",
    "# Print the list of tuples\n",
    "print(mutant_data)\n",
    "\n",
    "# Create a zip object using the three lists: mutant_zip\n",
    "mutant_zip = zip(mutants, aliases, powers)\n",
    "\n",
    "# Print the zip object\n",
    "print(mutant_zip)\n",
    "\n",
    "# Unpack the zip object and print the tuple values\n",
    "for value1, value2, value3 in mutant_zip:\n",
    "    print(value1, value2, value3)"
   ]
  },
  {
   "cell_type": "markdown",
   "id": "f2e7575c-0342-47f2-9dee-9e582c2283e1",
   "metadata": {},
   "source": [
    "# Using * and zip to 'unzip'\n",
    "You know how to use zip() as well as how to print out values from a zip object. Excellent!\n",
    "\n",
    "Let's play around with zip() a little more. There is no unzip function for doing the reverse of what zip() does. We can, however, reverse what has been zipped together by using zip() with a little help from *! * unpacks an iterable such as a list or a tuple into positional arguments in a function call.\n",
    "\n",
    "In this exercise, you will use * in a call to zip() to unpack the tuples produced by zip().\n",
    "\n",
    "Two tuples of strings, mutants and powers have been pre-loaded.\n",
    "\n",
    "Instructions\n",
    "\n",
    "* Create a zip object by using zip() on mutants and powers, in that order. Assign the result to z1.\n",
    "* Print the tuples in z1 by unpacking them into positional arguments using the * operator in a print() call.\n",
    "* Because the previous print() call would have exhausted the elements in z1, recreate the zip object you defined earlier and assign the result again to z1.\n",
    "* 'Unzip' the tuples in z1 by unpacking them into positional arguments using the * operator in a zip() call. Assign the results to result1 and result2, in that order.\n",
    "* The last print() statements prints the output of comparing result1 to mutants and result2 to powers. Click Submit Answer to see if the unpacked result1 and result2 are equivalent to mutants and powers, respectively."
   ]
  },
  {
   "cell_type": "code",
   "execution_count": 22,
   "id": "e045f919-6ab8-458d-8b51-885ce17a839f",
   "metadata": {},
   "outputs": [],
   "source": [
    "mutants = ('charles xavier', 'bobby drake', 'kurt wagner', 'max eisenhardt', 'kitty pryde')\n",
    "powers  = ('telepathy', 'thermokinesis', 'teleportation', 'magnetokinesis', 'intangibility')"
   ]
  },
  {
   "cell_type": "code",
   "execution_count": 27,
   "id": "b8b4a436-f6b0-485b-ae8c-46f6454d567c",
   "metadata": {},
   "outputs": [
    {
     "name": "stdout",
     "output_type": "stream",
     "text": [
      "('charles xavier', 'telepathy') ('bobby drake', 'thermokinesis') ('kurt wagner', 'teleportation') ('max eisenhardt', 'magnetokinesis') ('kitty pryde', 'intangibility')\n",
      "True\n",
      "True\n"
     ]
    }
   ],
   "source": [
    "# Create a zip object from mutants and powers: z1\n",
    "z1 = zip(mutants , powers)\n",
    "\n",
    "# Print the tuples in z1 by unpacking with *\n",
    "print(*z1)\n",
    "\n",
    "# Re-create a zip object from mutants and powers: z1\n",
    "z1 = zip(mutants , powers)\n",
    "\n",
    "# 'Unzip' the tuples in z1 by unpacking with * and zip(): result1, result2\n",
    "result1, result2 = zip(*z1)\n",
    "\n",
    "# Check if unpacked tuples are equivalent to original tuples\n",
    "print(result1 == mutants)\n",
    "print(result2 == powers)"
   ]
  },
  {
   "cell_type": "markdown",
   "id": "21823b9c-b8a5-4d67-8589-456efb2459cd",
   "metadata": {},
   "source": [
    "# Processing large amounts of Twitter data"
   ]
  },
  {
   "cell_type": "markdown",
   "id": "3119a564-8263-4f81-9fe5-2762ecd7561f",
   "metadata": {},
   "source": [
    "Instructions\n",
    "\n",
    "* Initialize an empty dictionary counts_dict for storing the results of processing the Twitter data.\n",
    "* Iterate over the 'tweets.csv' file by using a for loop. Use the loop variable chunk and iterate over the call to pd.read_csv() with a chunksize of 10.\n",
    "* In the inner loop, iterate over the column 'lang' in chunk by using a for loop. Use the loop variable entry."
   ]
  },
  {
   "cell_type": "code",
   "execution_count": 32,
   "id": "73f925bc-3f12-4dec-a23d-e1e0db9f5701",
   "metadata": {},
   "outputs": [],
   "source": [
    "import pandas as pd\n",
    "df = pd.read_csv('tweets.csv')"
   ]
  },
  {
   "cell_type": "code",
   "execution_count": 33,
   "id": "45812a0d-a8b9-4e3e-acb1-aba5633a1ce0",
   "metadata": {},
   "outputs": [
    {
     "name": "stdout",
     "output_type": "stream",
     "text": [
      "{'en': 97, 'et': 1, 'und': 2}\n"
     ]
    }
   ],
   "source": [
    "# Initialize an empty dictionary: counts_dict\n",
    "counts_dict = {}\n",
    "\n",
    "# Iterate over the file chunk by chunk\n",
    "for chunk in pd.read_csv('tweets.csv',chunksize=10):\n",
    "\n",
    "    # Iterate over the column in DataFrame\n",
    "    for entry in chunk['lang']:\n",
    "        if entry in counts_dict.keys():\n",
    "            counts_dict[entry] += 1\n",
    "        else:\n",
    "            counts_dict[entry] = 1\n",
    "\n",
    "# Print the populated dictionary\n",
    "print(counts_dict)"
   ]
  },
  {
   "cell_type": "markdown",
   "id": "222c9342-ed68-4bc4-8cb8-b1094fac0512",
   "metadata": {},
   "source": [
    "# Extracting information for large amounts of Twitter data\n",
    "Instructions\n",
    "\n",
    "* Define the function count_entries(), which has 3 parameters. The first parameter is csv_file for the filename, the second is c_size for the chunk size, and the last is colname for the column name.\n",
    "* Iterate over the file in csv_file file by using a for loop. Use the loop variable chunk and iterate over the call to pd.read_csv(), passing c_size to chunksize.\n",
    "* In the inner loop, iterate over the column given by colname in chunk by using a for loop. Use the loop variable entry.\n",
    "* Call the count_entries() function by passing to it the filename 'tweets.csv', the size of chunks 10, and the name of the column to count, 'lang'. Assign the result of the call to the variable result_counts."
   ]
  },
  {
   "cell_type": "code",
   "execution_count": 34,
   "id": "fcbe3bb4-3a2f-40dc-867e-4b18120a4e22",
   "metadata": {},
   "outputs": [
    {
     "name": "stdout",
     "output_type": "stream",
     "text": [
      "{'en': 97, 'et': 1, 'und': 2}\n"
     ]
    }
   ],
   "source": [
    "# Define count_entries()\n",
    "def count_entries( csv_file, c_size, colname ):\n",
    "    \"\"\"Return a dictionary with counts of\n",
    "    occurrences as value for each key.\"\"\"\n",
    "    \n",
    "    # Initialize an empty dictionary: counts_dict\n",
    "    counts_dict = {}\n",
    "\n",
    "    # Iterate over the file chunk by chunk\n",
    "    for chunk in pd.read_csv(csv_file,chunksize=c_size,):\n",
    "\n",
    "        # Iterate over the column in DataFrame\n",
    "        for entry in chunk[colname]:\n",
    "            if entry in counts_dict.keys():\n",
    "                counts_dict[entry] += 1\n",
    "            else:\n",
    "                counts_dict[entry] = 1\n",
    "\n",
    "    # Return counts_dict\n",
    "    return counts_dict\n",
    "\n",
    "# Call count_entries(): result_counts\n",
    "result_counts = count_entries('tweets.csv',10,'lang')\n",
    "\n",
    "# Print result_counts\n",
    "print(result_counts)\n"
   ]
  },
  {
   "cell_type": "code",
   "execution_count": null,
   "id": "b0e62894-2a9f-4b33-80b1-8dce080d9a92",
   "metadata": {},
   "outputs": [],
   "source": []
  }
 ],
 "metadata": {
  "kernelspec": {
   "display_name": "Python 3 (ipykernel)",
   "language": "python",
   "name": "python3"
  },
  "language_info": {
   "codemirror_mode": {
    "name": "ipython",
    "version": 3
   },
   "file_extension": ".py",
   "mimetype": "text/x-python",
   "name": "python",
   "nbconvert_exporter": "python",
   "pygments_lexer": "ipython3",
   "version": "3.8.12"
  }
 },
 "nbformat": 4,
 "nbformat_minor": 5
}
