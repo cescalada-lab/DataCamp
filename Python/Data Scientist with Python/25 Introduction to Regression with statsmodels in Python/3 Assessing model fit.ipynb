{
 "cells": [
  {
   "cell_type": "code",
   "execution_count": 1,
   "metadata": {},
   "outputs": [],
   "source": [
    "import pandas as pd\n",
    "import numpy as np\n",
    "import seaborn as sns\n",
    "import matplotlib.pyplot as plt\n",
    "from statsmodels.formula.api import ols\n",
    "\n",
    "ad_conversion = pd.read_csv('ad_conversion.csv')"
   ]
  },
  {
   "cell_type": "code",
   "execution_count": 2,
   "metadata": {},
   "outputs": [
    {
     "name": "stdout",
     "output_type": "stream",
     "text": [
      "   qdrt_n_impressions  n_impressions  qdrt_n_clicks    n_clicks\n",
      "0            0.000000            0.0       0.071748    0.000026\n",
      "1           26.591479       500000.0       3.037576   85.135121\n",
      "2           31.622777      1000000.0       3.598732  167.725102\n",
      "3           34.996355      1500000.0       3.974998  249.659131\n",
      "4           37.606031      2000000.0       4.266063  331.214159\n",
      "5           39.763536      2500000.0       4.506696  412.508546\n",
      "6           41.617915      3000000.0       4.713520  493.607180\n"
     ]
    },
    {
     "name": "stderr",
     "output_type": "stream",
     "text": [
      "c:\\Users\\crist\\anaconda3\\envs\\Machine_Learning_38\\lib\\site-packages\\statsmodels\\base\\model.py:127: ValueWarning: unknown kwargs ['ci']\n",
      "  warnings.warn(msg, ValueWarning)\n"
     ]
    }
   ],
   "source": [
    "# Create qdrt_n_impressions and qdrt_n_clicks\n",
    "ad_conversion[\"qdrt_n_impressions\"] = ad_conversion['n_impressions'] ** 0.25\n",
    "ad_conversion[\"qdrt_n_clicks\"] = ad_conversion['n_clicks'] ** 0.25\n",
    "\n",
    "# Run a linear regression of your transformed variables\n",
    "mdl_click_vs_impression = ols(\"qdrt_n_clicks ~ qdrt_n_impressions\", data=ad_conversion, ci=None).fit()\n",
    "\n",
    "# Use this explanatory data\n",
    "explanatory_data = pd.DataFrame({\"qdrt_n_impressions\": np.arange(0, 3e6+1, 5e5) ** .25,\n",
    "                                 \"n_impressions\": np.arange(0, 3e6+1, 5e5)})\n",
    "\n",
    "# Complete prediction_data\n",
    "prediction_data = explanatory_data.assign(\n",
    "    qdrt_n_clicks = mdl_click_vs_impression.predict(explanatory_data)\n",
    ")\n",
    "\n",
    "# Back transform qdrt_n_clicks\n",
    "prediction_data[\"n_clicks\"] = prediction_data[\"qdrt_n_clicks\"] ** 4\n",
    "print(prediction_data)"
   ]
  },
  {
   "cell_type": "code",
   "execution_count": 3,
   "metadata": {},
   "outputs": [
    {
     "name": "stdout",
     "output_type": "stream",
     "text": [
      "   spent_usd  n_impressions  n_clicks  qdrt_n_impressions  qdrt_n_clicks\n",
      "0       1.43         7350.0       1.0            9.259165       1.000000\n",
      "1       1.82        17861.0       2.0           11.560495       1.189207\n",
      "2       1.25         4259.0       1.0            8.078429       1.000000\n",
      "3       1.29         4133.0       1.0            8.018006       1.000000\n",
      "4       4.77        15615.0       3.0           11.178551       1.316074\n"
     ]
    }
   ],
   "source": [
    "print(ad_conversion.head())\n",
    "\n",
    "# creating the models\n",
    "mdl_click_vs_impression_orig = ols('n_clicks ~ n_impressions' , data = ad_conversion).fit()\n",
    "\n",
    "mdl_click_vs_impression_trans = ols('qdrt_n_clicks ~ qdrt_n_impressions  ' , data = ad_conversion).fit()"
   ]
  },
  {
   "attachments": {},
   "cell_type": "markdown",
   "metadata": {},
   "source": [
    "## Coefficient of determination\n",
    "The coefficient of determination is a measure of how well the linear regression line fits the observed values. For simple linear regression, it is equal to the square of the correlation between the explanatory and response variables.\n",
    "\n",
    "Here, you'll take another look at the second stage of the advertising pipeline: modeling the click response to impressions. Two models are available: mdl_click_vs_impression_orig models n_clicks versus n_impressions. mdl_click_vs_impression_trans is the transformed model you saw in Chapter 2. It models n_clicks to the power of 0.25 versus n_impressions to the power of 0.25.\n",
    "\n",
    "Instructions\n",
    "+ Print the summary of mdl_click_vs_impression_orig.\n",
    "+ Do the same for mdl_click_vs_impression_trans.\n",
    "+ Print the coefficient of determination for mdl_click_vs_impression_orig.\n",
    "+ Do the same for mdl_click_vs_impression_trans."
   ]
  },
  {
   "cell_type": "code",
   "execution_count": 4,
   "metadata": {},
   "outputs": [
    {
     "name": "stdout",
     "output_type": "stream",
     "text": [
      "                            OLS Regression Results                            \n",
      "==============================================================================\n",
      "Dep. Variable:               n_clicks   R-squared:                       0.892\n",
      "Model:                            OLS   Adj. R-squared:                  0.891\n",
      "Method:                 Least Squares   F-statistic:                     7683.\n",
      "Date:                Tue, 02 May 2023   Prob (F-statistic):               0.00\n",
      "Time:                        14:16:16   Log-Likelihood:                -4126.7\n",
      "No. Observations:                 936   AIC:                             8257.\n",
      "Df Residuals:                     934   BIC:                             8267.\n",
      "Df Model:                           1                                         \n",
      "Covariance Type:            nonrobust                                         \n",
      "=================================================================================\n",
      "                    coef    std err          t      P>|t|      [0.025      0.975]\n",
      "---------------------------------------------------------------------------------\n",
      "Intercept         1.6829      0.789      2.133      0.033       0.135       3.231\n",
      "n_impressions     0.0002   1.96e-06     87.654      0.000       0.000       0.000\n",
      "==============================================================================\n",
      "Omnibus:                      247.038   Durbin-Watson:                   0.870\n",
      "Prob(Omnibus):                  0.000   Jarque-Bera (JB):            13215.277\n",
      "Skew:                          -0.258   Prob(JB):                         0.00\n",
      "Kurtosis:                      21.401   Cond. No.                     4.88e+05\n",
      "==============================================================================\n",
      "\n",
      "Notes:\n",
      "[1] Standard Errors assume that the covariance matrix of the errors is correctly specified.\n",
      "[2] The condition number is large, 4.88e+05. This might indicate that there are\n",
      "strong multicollinearity or other numerical problems.\n",
      "                            OLS Regression Results                            \n",
      "==============================================================================\n",
      "Dep. Variable:          qdrt_n_clicks   R-squared:                       0.945\n",
      "Model:                            OLS   Adj. R-squared:                  0.944\n",
      "Method:                 Least Squares   F-statistic:                 1.590e+04\n",
      "Date:                Tue, 02 May 2023   Prob (F-statistic):               0.00\n",
      "Time:                        14:16:16   Log-Likelihood:                 193.90\n",
      "No. Observations:                 936   AIC:                            -383.8\n",
      "Df Residuals:                     934   BIC:                            -374.1\n",
      "Df Model:                           1                                         \n",
      "Covariance Type:            nonrobust                                         \n",
      "======================================================================================\n",
      "                         coef    std err          t      P>|t|      [0.025      0.975]\n",
      "--------------------------------------------------------------------------------------\n",
      "Intercept              0.0717      0.017      4.171      0.000       0.038       0.106\n",
      "qdrt_n_impressions     0.1115      0.001    126.108      0.000       0.110       0.113\n",
      "==============================================================================\n",
      "Omnibus:                       11.447   Durbin-Watson:                   0.568\n",
      "Prob(Omnibus):                  0.003   Jarque-Bera (JB):               10.637\n",
      "Skew:                          -0.216   Prob(JB):                      0.00490\n",
      "Kurtosis:                       2.707   Cond. No.                         52.1\n",
      "==============================================================================\n",
      "\n",
      "Notes:\n",
      "[1] Standard Errors assume that the covariance matrix of the errors is correctly specified.\n"
     ]
    }
   ],
   "source": [
    "# Print a summary of mdl_click_vs_impression_orig\n",
    "print(mdl_click_vs_impression_orig.summary())\n",
    "\n",
    "# Print a summary of mdl_click_vs_impression_trans\n",
    "print(mdl_click_vs_impression_trans.summary())"
   ]
  },
  {
   "cell_type": "code",
   "execution_count": 5,
   "metadata": {},
   "outputs": [
    {
     "name": "stdout",
     "output_type": "stream",
     "text": [
      "0.8916134973508041\n",
      "0.9445272817143905\n"
     ]
    }
   ],
   "source": [
    "# Print the coeff of determination for mdl_click_vs_impression_orig\n",
    "print(mdl_click_vs_impression_orig.rsquared)\n",
    "\n",
    "# Print the coeff of determination for mdl_click_vs_impression_trans\n",
    "print(mdl_click_vs_impression_trans.rsquared)"
   ]
  },
  {
   "attachments": {},
   "cell_type": "markdown",
   "metadata": {},
   "source": [
    "#### Question\n",
    "+ mdl_click_vs_impression_orig has a coefficient of determination of 0.89. Which statement about the model is true?\n",
    "\n",
    "#### Answer\n",
    "+ The number of impressions explains 89% of the variability in the number of clicks.\n",
    "\n",
    "#### Question\n",
    "+ Which model does the coefficient of determination suggest gives a better fit?\n",
    "\n",
    "#### Answer\n",
    "+ The transformed model, mdl_click_vs_impression_trans.\n"
   ]
  },
  {
   "attachments": {},
   "cell_type": "markdown",
   "metadata": {},
   "source": [
    "## Residual standard error\n",
    "Residual standard error (RSE) is a measure of the typical size of the residuals. Equivalently, it's a measure of how wrong you can expect predictions to be. Smaller numbers are better, with zero being a perfect fit to the data.\n",
    "\n",
    "Again, you'll look at the models from the advertising pipeline, mdl_click_vs_impression_orig and mdl_click_vs_impression_trans.\n",
    "\n",
    "#### Instructions 1/3\n",
    "+ Calculate the MSE of mdl_click_vs_impression_orig, assigning to mse_orig.\n",
    "+ Using mse_orig, calculate and print the RSE of mdl_click_vs_impression_orig.\n",
    "+ Do the same for mdl_click_vs_impression_trans."
   ]
  },
  {
   "cell_type": "code",
   "execution_count": 6,
   "metadata": {},
   "outputs": [
    {
     "name": "stdout",
     "output_type": "stream",
     "text": [
      "RSE of original model:  19.905838862478138\n",
      "RSE of transformed model:  0.19690640896875727\n"
     ]
    }
   ],
   "source": [
    "# Calculate mse_orig for mdl_click_vs_impression_orig\n",
    "mse_orig = mdl_click_vs_impression_orig.mse_resid\n",
    "\n",
    "# Calculate rse_orig for mdl_click_vs_impression_orig and print it\n",
    "rse_orig = np.sqrt(mse_orig)\n",
    "print(\"RSE of original model: \", rse_orig)\n",
    "\n",
    "# Calculate mse_trans for mdl_click_vs_impression_trans\n",
    "mse_trans = mdl_click_vs_impression_trans.mse_resid\n",
    "\n",
    "# Calculate rse_trans for mdl_click_vs_impression_trans and print it\n",
    "rse_trans = np.sqrt(mse_trans)\n",
    "print(\"RSE of transformed model: \", rse_trans)"
   ]
  },
  {
   "attachments": {},
   "cell_type": "markdown",
   "metadata": {},
   "source": [
    "#### Question\n",
    "mdl_click_vs_impression_orig has an RSE of about 20. Which statement is true?\n",
    "\n",
    "#### Answer\n",
    "+ The typical difference between observed number of clicks and predicted number of clicks is 20.\n",
    "\n",
    "#### Question\n",
    "Which model does the RSE suggest gives more accurate predictions? mdl_click_vs_impression_orig has an RSE of about 20, mdl_click_vs_impression_trans has an RSE of about 0.2.\n",
    "\n",
    "#### Answer\n",
    "+ The transformed model, mdl_click_vs_impression_trans."
   ]
  },
  {
   "cell_type": "code",
   "execution_count": 7,
   "metadata": {},
   "outputs": [],
   "source": [
    "# import dataset\n",
    "taiwan_real_estate = pd.read_csv('taiwan_real_estate.csv')\n",
    "\n",
    "# Create the model object \n",
    "mdl_price_vs_conv = ols('price_twd_msq~n_convenience', data=taiwan_real_estate).fit()"
   ]
  },
  {
   "attachments": {},
   "cell_type": "markdown",
   "metadata": {},
   "source": [
    "## Drawing diagnostic plots\n",
    "It's time for you to draw these diagnostic plots yourself using the Taiwan real estate dataset and the model of house prices versus number of convenience stores.\n",
    "\n",
    "taiwan_real_estate is available as a pandas DataFrame and mdl_price_vs_conv is available.\n",
    "\n",
    "Instructions\n",
    "\n",
    "+ Create the residuals versus fitted values plot. Add a lowess argument to visualize the trend of the residuals.\n",
    "+ Import qqplot() from statsmodels.api.\n",
    "+ Create the Q-Q plot of the residuals.\n",
    "+ Create the scale-location plot."
   ]
  },
  {
   "cell_type": "code",
   "execution_count": 8,
   "metadata": {},
   "outputs": [
    {
     "data": {
      "image/png": "[encoded data removed]",
      "text/plain": [
       "<Figure size 432x288 with 1 Axes>"
      ]
     },
     "metadata": {
      "needs_background": "light"
     },
     "output_type": "display_data"
    }
   ],
   "source": [
    "# Plot the residuals vs. fitted values\n",
    "sns.residplot(x='n_convenience', y='price_twd_msq', data=taiwan_real_estate, lowess=True)\n",
    "plt.xlabel(\"Fitted values\")\n",
    "plt.ylabel(\"Residuals\")\n",
    "\n",
    "# Show the plot\n",
    "plt.show()"
   ]
  },
  {
   "cell_type": "code",
   "execution_count": 9,
   "metadata": {},
   "outputs": [
    {
     "data": {
      "image/png": "[encoded data removed]",
      "text/plain": [
       "<Figure size 432x288 with 1 Axes>"
      ]
     },
     "metadata": {
      "needs_background": "light"
     },
     "output_type": "display_data"
    }
   ],
   "source": [
    "# Import qqplot\n",
    "from statsmodels.api import qqplot\n",
    "\n",
    "# Create the Q-Q plot of the residuals\n",
    "qqplot(data=mdl_price_vs_conv.resid, fit=True, line=\"45\")\n",
    "\n",
    "# Show the plot\n",
    "plt.show()"
   ]
  },
  {
   "cell_type": "code",
   "execution_count": 10,
   "metadata": {},
   "outputs": [
    {
     "data": {
      "image/png": "[encoded data removed]",
      "text/plain": [
       "<Figure size 432x288 with 1 Axes>"
      ]
     },
     "metadata": {
      "needs_background": "light"
     },
     "output_type": "display_data"
    }
   ],
   "source": [
    "# Preprocessing steps\n",
    "model_norm_residuals = mdl_price_vs_conv.get_influence().resid_studentized_internal\n",
    "model_norm_residuals_abs_sqrt = np.sqrt(np.abs(model_norm_residuals))\n",
    "\n",
    "# Create the scale-location plot\n",
    "sns.regplot(x=mdl_price_vs_conv.fittedvalues, y=model_norm_residuals_abs_sqrt, ci=None, lowess=True)\n",
    "plt.xlabel(\"Fitted values\")\n",
    "plt.ylabel(\"Sqrt of abs val of stdized residuals\")\n",
    "\n",
    "# Show the plot\n",
    "plt.show()"
   ]
  },
  {
   "attachments": {},
   "cell_type": "markdown",
   "metadata": {},
   "source": [
    "## Leverage\n",
    "Leverage measures how unusual or extreme the explanatory variables are for each observation. Very roughly, high leverage means that the explanatory variable has values that are different from other points in the dataset. In the case of simple linear regression, where there is only one explanatory value, this typically means values with a very high or very low explanatory value.\n",
    "\n",
    "Here, you'll look at highly leveraged values in the model of house price versus the square root of distance from the nearest MRT station in the Taiwan real estate dataset.\n",
    "\n",
    "Guess which observations you think will have a high leverage, then move the slider to find out."
   ]
  },
  {
   "attachments": {},
   "cell_type": "markdown",
   "metadata": {},
   "source": [
    "## Influence\n",
    "Influence measures how much a model would change if each observation was left out of the model calculations, one at a time. That is, it measures how different the prediction line would look if you would run a linear regression on all data points except that point, compared to running a linear regression on the whole dataset."
   ]
  },
  {
   "attachments": {},
   "cell_type": "markdown",
   "metadata": {},
   "source": [
    "## Extracting leverage and influence\n",
    "In the last few exercises, you explored which observations had the highest leverage and influence. Now you'll extract those values from the model.\n",
    "\n",
    "mdl_price_vs_dist and taiwan_real_estate are available.\n",
    "\n",
    "## Instructions \n",
    "+ Get the summary frame from mdl_price_vs_dist and save as summary_info.\n",
    "+ Add the hat_diag column of summary_info to taiwan_real_estate as the leverage column.\n",
    "+ Sort taiwan_real_estate by leverage in descending order and print the head.\n"
   ]
  },
  {
   "cell_type": "code",
   "execution_count": 12,
   "metadata": {},
   "outputs": [
    {
     "name": "stdout",
     "output_type": "stream",
     "text": [
      "Intercept             16.709799\n",
      "sqrt_dist_to_mrt_m    -0.182843\n",
      "dtype: float64\n"
     ]
    }
   ],
   "source": [
    "\n",
    "\n",
    "# Create sqrt_dist_to_mrt_m\n",
    "taiwan_real_estate[\"sqrt_dist_to_mrt_m\"] = np.sqrt(taiwan_real_estate[\"dist_to_mrt_m\"])\n",
    "\n",
    "# Run a linear regression of price_twd_msq vs. square root of dist_to_mrt_m using taiwan_real_estate\n",
    "mdl_price_vs_dist = ols('price_twd_msq ~ sqrt_dist_to_mrt_m', data=taiwan_real_estate).fit()\n",
    "\n",
    "# Print the parameters\n",
    "print(mdl_price_vs_dist.params)"
   ]
  },
  {
   "cell_type": "code",
   "execution_count": 14,
   "metadata": {},
   "outputs": [
    {
     "name": "stdout",
     "output_type": "stream",
     "text": [
      "     dist_to_mrt_m  n_convenience house_age_years  price_twd_msq  \\\n",
      "347       6488.021              1        15 to 30       3.388805   \n",
      "116       6396.283              1        30 to 45       3.691377   \n",
      "249       6306.153              1        15 to 30       4.538578   \n",
      "255       5512.038              1        30 to 45       5.264750   \n",
      "8         5512.038              1        30 to 45       5.688351   \n",
      "\n",
      "     sqrt_dist_to_mrt_m  leverage  \n",
      "347           80.548253  0.026665  \n",
      "116           79.976765  0.026135  \n",
      "249           79.411290  0.025617  \n",
      "255           74.243101  0.021142  \n",
      "8             74.243101  0.021142  \n"
     ]
    }
   ],
   "source": [
    "# Create summary_info\n",
    "summary_info = mdl_price_vs_dist.get_influence().summary_frame()\n",
    "\n",
    "# Add the hat_diag column to taiwan_real_estate, name it leverage\n",
    "taiwan_real_estate[\"leverage\"] = summary_info['hat_diag']\n",
    "\n",
    "# Sort taiwan_real_estate by leverage in descending order and print the head\n",
    "print(taiwan_real_estate.sort_values(by='leverage', ascending=False).head())"
   ]
  },
  {
   "attachments": {},
   "cell_type": "markdown",
   "metadata": {},
   "source": [
    "## Instructions\n",
    "+ Add the cooks_d column from summary_info to taiwan_real_estate as the cooks_dist column.\n",
    "+ Sort taiwan_real_estate by cooks_dist in descending order and print the head."
   ]
  },
  {
   "cell_type": "code",
   "execution_count": 15,
   "metadata": {},
   "outputs": [
    {
     "name": "stdout",
     "output_type": "stream",
     "text": [
      "     dist_to_mrt_m  n_convenience house_age_years  price_twd_msq  \\\n",
      "270       252.5822              1         0 to 15      35.552194   \n",
      "148      3780.5900              0        15 to 30      13.645991   \n",
      "228      3171.3290              0         0 to 15      14.099849   \n",
      "220       186.5101              9        30 to 45      23.691377   \n",
      "113       393.2606              6         0 to 15       2.299546   \n",
      "\n",
      "     sqrt_dist_to_mrt_m  leverage  cooks_dist  \n",
      "270           15.892835  0.003849    0.115549  \n",
      "148           61.486503  0.012147    0.052440  \n",
      "228           56.314554  0.009332    0.035384  \n",
      "220           13.656870  0.004401    0.025123  \n",
      "113           19.830799  0.003095    0.022813  \n"
     ]
    }
   ],
   "source": [
    "# Create summary_info\n",
    "summary_info = mdl_price_vs_dist.get_influence().summary_frame()\n",
    "\n",
    "# Add the hat_diag column to taiwan_real_estate, name it leverage\n",
    "taiwan_real_estate[\"leverage\"] = summary_info[\"hat_diag\"]\n",
    "\n",
    "# Add the cooks_d column to taiwan_real_estate, name it cooks_dist\n",
    "taiwan_real_estate[\"cooks_dist\"] = summary_info[\"cooks_d\"]\n",
    "\n",
    "# Sort taiwan_real_estate by cooks_dist in descending order and print the head.\n",
    "print(taiwan_real_estate.sort_values(\"cooks_dist\", ascending=False).head())"
   ]
  }
 ],
 "metadata": {
  "kernelspec": {
   "display_name": "Machine_Learning_38",
   "language": "python",
   "name": "python3"
  },
  "language_info": {
   "codemirror_mode": {
    "name": "ipython",
    "version": 3
   },
   "file_extension": ".py",
   "mimetype": "text/x-python",
   "name": "python",
   "nbconvert_exporter": "python",
   "pygments_lexer": "ipython3",
   "version": "3.8.13"
  },
  "orig_nbformat": 4,
  "vscode": {
   "interpreter": {
    "hash": "fda5be4517926c330c93549130c415b56802438b37efd3ba56abefc1d7f6ad33"
   }
  }
 },
 "nbformat": 4,
 "nbformat_minor": 2
}
