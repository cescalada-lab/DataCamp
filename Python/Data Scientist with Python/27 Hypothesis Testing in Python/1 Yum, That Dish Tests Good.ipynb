{
 "cells": [
  {
   "cell_type": "code",
   "execution_count": null,
   "metadata": {},
   "outputs": [],
   "source": []
  },
  {
   "cell_type": "markdown",
   "metadata": {},
   "source": [
    "# Uses of A/B testing\n",
    "In the video, you saw how Electronic Arts used A/B testing on their website when launching SimCity 5. One version of the page showed an advertisement for a discount, and one version did not. Half the users saw one version of the page, and the other half saw the second version of the page.\n",
    "\n",
    "What is the main reason to use an A/B test?\n",
    "\n",
    "## ANSWER:\n",
    "\n",
    "* It provides a way to check outcomes of competing scenarios and decide which way to proceed.\n",
    "\n",
    "````\n",
    "A/B testing lets you compare scenarios to see which best achieves some goal.\n",
    "````"
   ]
  },
  {
   "cell_type": "markdown",
   "metadata": {},
   "source": [
    "# Calculating the sample mean\n",
    "\n",
    "The late_shipments dataset contains supply chain data on the delivery of medical supplies. Each row represents one delivery of a part. The late columns denotes whether or not the part was delivered late. A value of \"Yes\" means that the part was delivered late, and a value of \"No\" means the part was delivered on time.\n",
    "\n",
    "Let's begin our analysis by calculating a point estimate (or sample statistic), namely the proportion of late shipments.\n",
    "\n",
    "late_shipments is available, and pandas is loaded as pd.\n",
    "\n",
    "## Instructions \n",
    "\n",
    "* Print the late_shipments dataset.\n",
    "* Calculate the proportion of late shipments in the sample; that is, the mean cases where the late column is \"Yes\"."
   ]
  },
  {
   "cell_type": "code",
   "execution_count": null,
   "metadata": {},
   "outputs": [],
   "source": [
    "# Print the late_shipments dataset\n",
    "print(late_shipments)\n",
    "\n",
    "# Calculate the proportion of late shipments\n",
    "late_prop_samp = (late_shipments['late'] == \"Yes\").mean()\n",
    "\n",
    "# Print the results\n",
    "print(late_prop_samp)"
   ]
  },
  {
   "cell_type": "markdown",
   "metadata": {},
   "source": [
    "# Calculating a z-score\n",
    "Since variables have arbitrary ranges and units, we need to standardize them. For example, a hypothesis test that gave different answers if the variables were in Euros instead of US dollars would be of little value. Standardization avoids that.\n",
    "\n",
    "One standardized value of interest in a hypothesis test is called a z-score. To calculate it, you need three numbers: the sample statistic (point estimate), the hypothesized statistic, and the standard error of the statistic (estimated from the bootstrap distribution).\n",
    "\n",
    "The sample statistic is available as late_prop_samp.\n",
    "\n",
    "late_shipments_boot_distn is a bootstrap distribution of the proportion of late shipments, available as a list.\n",
    "\n",
    "pandas and numpy are loaded with their usual aliases.\n",
    "\n",
    "# Instructions\n",
    "\n",
    "* Hypothesize that the proportion of late shipments is 6%.\n",
    "* Calculate the standard error from the standard deviation of the bootstrap distribution.\n",
    "* Calculate the z-score."
   ]
  },
  {
   "cell_type": "code",
   "execution_count": null,
   "metadata": {},
   "outputs": [],
   "source": [
    "# Hypothesize that the proportion is 6%\n",
    "late_prop_hyp = 0.06\n",
    "\n",
    "# Calculate the standard error\n",
    "std_error = np.std(late_shipments_boot_distn, ddof=1)\n",
    "\n",
    "# Find z-score of late_prop_samp\n",
    "z_score = (late_prop_samp - late_prop_hyp) / std_error\n",
    "\n",
    "# Print z_score\n",
    "print(z_score)"
   ]
  },
  {
   "cell_type": "markdown",
   "metadata": {},
   "source": [
    "# Criminal trials and hypothesis tests\n",
    "In the video, you saw how hypothesis testing follows a similar process to criminal trials.\n",
    "\n",
    "Which of the following correctly matches up a criminal trial with properties of a hypothesis test?\n",
    "\n",
    "## ANSWER:\n",
    "\n",
    "* Just as the defendant is initially assumed not guilty, the null hypothesis is first assumed to be true."
   ]
  },
  {
   "cell_type": "markdown",
   "metadata": {},
   "source": [
    "# Left tail, right tail, two tails\n",
    "Hypothesis tests are used to determine whether the sample statistic lies in the tails of the null distribution. However, the way that the alternative hypothesis is phrased affects which tail(s) we are interested in.\n",
    "\n",
    "## Two Tails\n",
    "* Is there a difference between the voting preferences of 40 y.o. and 80 y.o.?\n",
    "* should we spect Slack and Zoom to have dissimilar mean numbers of employees over the last three years?\n",
    "\n",
    "## Left Tails\n",
    "* Are grapes lower in popularity than raisins, on average?\n",
    "* Is there evidence to conclude that Belgians workers tend to have lower salaries than Italian workers?\n",
    "\n",
    "## Right Tails\n",
    "* Do hamburgers have more calories than hot dogs, on average?\n",
    "* Does there tend to be more than 12 fluid ounces for soda per can?\n",
    "* Do cats tend to live longer than dogs?\n",
    "\n",
    "````\n",
    "Top tail choices! The tails of the distribution that are relevant depend on whether the alternative hypothesis refers to \"greater than\", \"less than\", or \"differences between.\"\n",
    "````"
   ]
  },
  {
   "cell_type": "markdown",
   "metadata": {},
   "source": [
    "# Calculating p-values\n",
    "In order to determine whether to choose the null hypothesis or the alternative hypothesis, you need to calculate a p-value from the z-score.\n",
    "\n",
    "You'll now return to the late shipments dataset and the proportion of late shipments.\n",
    "\n",
    "The null hypothesis, $H_0$, is that the proportion of late shipments is six percent.\n",
    "\n",
    "The alternative hypothesis, $H_A$, is that the proportion of late shipments is greater than six percent.\n",
    "\n",
    "The observed sample statistic, late_prop_samp, the hypothesized value, late_prop_hyp (6%), and the bootstrap standard error, std_error are available. norm from scipy.stats has also been loaded without an alias.\n",
    "\n",
    "## Question\n",
    "\n",
    "What type of test should be used for this alternative hypothesis?\n",
    "\n",
    "## Possible Answers\n",
    "\n",
    "* Two-tailed\n",
    "\n",
    "* Left-tailed\n",
    "\n",
    "* Right-tailed\n",
    "\n",
    "* It doesn't matter; any one will do.\n",
    "\n",
    "* A hypothesis test isn't appropriate to answer this question.\n",
    "\n",
    "## ANSWER:\n",
    "\n",
    "* Right-tailed\n",
    "\n",
    "\n",
    "````\n",
    "A two-tailed test is appropriate when the alternative hypothesis talks about differences between the sample statistic and the null statistic.\n",
    "\n",
    "A left-tailed test is appropriate when the alternative hypothesis talks about the sample statistic being less than the null statistic.\n",
    "````"
   ]
  },
  {
   "cell_type": "code",
   "execution_count": null,
   "metadata": {},
   "outputs": [],
   "source": [
    "# Calculate the z-score of late_prop_samp\n",
    "z_score = (late_prop_samp - late_prop_hyp) / std_error\n",
    "\n",
    "# Calculate the p-value\n",
    "p_value = 1 - norm.cdf(z_score, loc=0, scale=1)\n",
    "                 \n",
    "# Print the p-value\n",
    "print(p_value) "
   ]
  },
  {
   "cell_type": "markdown",
   "metadata": {},
   "source": [
    "# Decisions from p-values\n",
    "The p-value, denoted here as $p$, is a measure of the amount of evidence to reject the null hypothesis or not. By comparing the p-value to the significance level, $\\alpha$, you can make a decision about which hypothesis to support.\n",
    "\n",
    "Which of the following is the correct conclusion from the decision rule for a significance level $\\alpha$?\n",
    "\n",
    "## ANSWER:\n",
    "\n",
    "* If the $p <= \\alpha$, reject $H_0$.\n",
    "\n",
    "````\n",
    "If the p-value is less than or equal to the significance level, you reject the null hypothesis.\n",
    "````"
   ]
  },
  {
   "cell_type": "markdown",
   "metadata": {},
   "source": [
    "# Calculating a confidence interval\n",
    "If you give a single estimate of a sample statistic, you are bound to be wrong by some amount. For example, the hypothesized proportion of late shipments was 6%. Even if evidence suggests the null hypothesis that the proportion of late shipments is equal to this, for any new sample of shipments, the proportion is likely to be a little different due to sampling variability. Consequently, it's a good idea to state a confidence interval. That is, you say, \"we are 95% 'confident' that the proportion of late shipments is between A and B\" (for some value of A and B).\n",
    "\n",
    "Sampling in Python [demonstrated](https://campus.datacamp.com/courses/sampling-in-python/pull-your-data-up-by-its-bootstraps-4?ex=10) two methods for calculating confidence intervals. Here, you'll use quantiles of the bootstrap distribution to calculate the confidence interval.\n",
    "\n",
    "late_prop_samp and late_shipments_boot_distn are available; pandas and numpy are loaded with their usual aliases.\n",
    "\n",
    "## Instructions\n",
    "\n",
    "* Calculate a 95% confidence interval from late_shipments_boot_distn using the quantile method, labeling the lower and upper intervals lower and upper.\n",
    "\n",
    "## Question:\n",
    "* Does the confidence interval match up with the conclusion to stick with the original assumption that 6% is a reasonable value for the unknown population parameter?"
   ]
  },
  {
   "cell_type": "code",
   "execution_count": null,
   "metadata": {},
   "outputs": [],
   "source": [
    "# Calculate 95% confidence interval using quantile method\n",
    "lower = np.quantile(late_shipments_boot_distn, 0.025)\n",
    "upper = np.quantile(late_shipments_boot_distn, 0.975)\n",
    "\n",
    "# Print the confidence interval\n",
    "print((lower, upper))"
   ]
  },
  {
   "cell_type": "markdown",
   "metadata": {},
   "source": [
    "## ANSWER:\n",
    "\n",
    "* Yes, since 0.06 is included in the 95% confidence interval and we failed to reject  $H_0$ due to a large p-value, the results are similar.\n",
    "\n",
    "````\n",
    "When you have a confidence interval width equal to one minus the significance level, if the hypothesized population parameter is within the confidence interval, you should fail to reject the null hypothesis.\n",
    "````"
   ]
  },
  {
   "cell_type": "markdown",
   "metadata": {},
   "source": [
    "# Type I and type II errors\n",
    "\n",
    "For hypothesis tests and for criminal trials, there are two states of truth and two possible outcomes. Two combinations are correct test outcomes, and there are two ways it can go wrong.\n",
    "\n",
    "The errors are known as false positives (or \"type I errors\"), and false negatives (or \"type II errors\").\n",
    "\n",
    "## Instructions\n",
    "\n",
    "* Match the scenarios to the appropriate error type, or to \"Not an error\" for correct decisions.\n",
    "\n",
    "## False Positive\n",
    "* Finding the defendant guilty when in fact the defendant was innocent.\n",
    "* Reject the null hypotesis when in fact the null hypotesis is true.\n",
    "\n",
    "## False Negative\n",
    "* Finding the defendant not guilty when in fact the defendant did commit the crime.\n",
    "* Failing to reject the null hypotesis when in fact the null hypotesis is false.\n",
    "*\n",
    "\n",
    "## Not An Error\n",
    "* Finding the defendant not guilty when in fact the defendant was innocent.\n",
    "* Finding the defendant guilty when in fact the defendant did commit the crime.\n",
    "* Reject the null hypotesis when in fact the null hypotesis is false.\n",
    "* Failing to reject the null hypotesis when in fact the null hypotesis is true.\n"
   ]
  }
 ],
 "metadata": {
  "kernelspec": {
   "display_name": "Python 3.8.10 64-bit",
   "language": "python",
   "name": "python3"
  },
  "language_info": {
   "name": "python",
   "version": "3.8.10"
  },
  "orig_nbformat": 4,
  "vscode": {
   "interpreter": {
    "hash": "916dbcbb3f70747c44a77c7bcd40155683ae19c65e1c03b4aa3499c5328201f1"
   }
  }
 },
 "nbformat": 4,
 "nbformat_minor": 2
}
