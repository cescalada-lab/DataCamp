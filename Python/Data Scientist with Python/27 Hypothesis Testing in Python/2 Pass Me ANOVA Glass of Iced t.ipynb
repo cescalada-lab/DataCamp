{
 "cells": [
  {
   "cell_type": "code",
   "execution_count": null,
   "metadata": {},
   "outputs": [],
   "source": []
  },
  {
   "cell_type": "markdown",
   "metadata": {},
   "source": [
    "# Hypothesis testing workflow\n",
    "\n",
    "You've seen the hypothesis testing workflow for the one sample case where you compared a sample mean to a hypothesized value, and the two sample case where you compared two sample means. In both cases, the workflow shares common steps.\n",
    "\n",
    "## Instructions\n",
    "\n",
    "* Place the hypothesis testing workflow steps in order from first to last.\n",
    "\n",
    "## ANSWER:\n",
    "\n",
    "1. Identify population parameter that is hypothesized about.\n",
    "2. Specify the null and alternative hypotheses.\n",
    "3. Determine (standarized) test statistic and corresponding null distribution.\n",
    "4. Conduct test hypothesis in python.\n",
    "5. Measure evidence against the null hyphotesis.\n",
    "6. Make a decition comparing evidence to significance level.\n",
    "7. Interpret the results in the context of the original problem."
   ]
  },
  {
   "cell_type": "markdown",
   "metadata": {},
   "source": [
    "# Two sample mean test statistic\n",
    "\n",
    "The hypothesis test for determining if there is a difference between the means of two populations uses a different type of test statistic to the z-scores you saw in Chapter 1. It's called \"t\", and it can be calculated from three values from each sample using this equation.\n",
    "\n",
    "$$t = \\dfrac{(\\bar{x}_{\\text{child}} - \\bar{x}_{\\text{adult}})}{\\sqrt{\\dfrac{s_{\\text{child}}^2}{n_{\\text{child}}} + \\dfrac{s_{\\text{adult}}^2}{n_{\\text{adult}}}}} $$\n",
    "\n",
    "While trying to determine why some shipments are late, you may wonder if the weight of the shipments that were on time is less than the weight of the shipments that were late. The late_shipments dataset has been split into a \"yes\" group, where late == \"Yes\" and a \"no\" group where late == \"No\". The weight of the shipment is given in the weight_kilograms variable.\n",
    "\n",
    "The sample means for the two groups are available as xbar_no and xbar_yes. The sample standard deviations are s_no and s_yes. The sample sizes are n_no and n_yes. numpy is also loaded as np.\n",
    "\n",
    "## Instructions\n",
    "\n",
    "* Calculate the numerator of the $t$ test statistic.\n",
    "* Calculate the denominator of the $t$ test statistic.\n",
    "* Use those two numbers to calculate the $t$ test statistic."
   ]
  },
  {
   "cell_type": "code",
   "execution_count": null,
   "metadata": {},
   "outputs": [],
   "source": [
    "# Calculate the numerator of the test statistic\n",
    "numerator = xbar_no - xbar_yes\n",
    "\n",
    "# Calculate the denominator of the test statistic\n",
    "denominator = np.sqrt( (s_no**2/n_no) +(s_yes**2/n_yes) )\n",
    "\n",
    "# Calculate the test statistic\n",
    "t_stat = numerator / denominator\n",
    "\n",
    "# Print the test statistic\n",
    "print(t_stat)"
   ]
  },
  {
   "cell_type": "markdown",
   "metadata": {},
   "source": [
    "````\n",
    "t-rrific! When testing for differences between means, the test statistic is called 't' rather than 'z', and can be calculated using six numbers from the samples. Here, the value is about -2.39 or 2.39, depending on the order you calculated the numerator.\n",
    "````"
   ]
  },
  {
   "cell_type": "markdown",
   "metadata": {},
   "source": [
    "# Why is t needed?\n",
    "\n",
    "The process for calculating p-values is to start with the sample statistic, standardize it to get a test statistic, then transform it via a cumulative distribution function. In Chapter 1, that final transformation was denoted , and the CDF transformation used the (standard normal) z-distribution. In the last video, the test statistic was denoted , and the transformation used the t-distribution.\n",
    "\n",
    "In which hypothesis testing scenario is a t-distribution needed instead of the z-distribution?\n",
    "\n",
    "## ANSWER:\n",
    "\n",
    "*  When a sample standard deviation is used in estimating a standard error.\n",
    "\n",
    "````\n",
    "Using a sample standard deviation to estimate the standard error is computationally easier than using bootstrapping. However, to correct for the approximation, you need to use a t-distribution when transforming the test statistic to get the p-value.\n",
    "````"
   ]
  },
  {
   "cell_type": "markdown",
   "metadata": {},
   "source": [
    "# The t-distribution\n",
    "\n",
    "The t-distribution is used to calculate the p-value from the  test statistic, and having a sense of how the PDF and CDF look can help you understand this calculation. It has two parameters: the degrees of freedom, and the non-centrality parameter.\n",
    "\n",
    "The plots show the PDF and CDF for a t-distribution (solid black line), and for comparison show a normal distribution with the same mean and variance (gray dotted line).\n",
    "\n",
    "Which statement about the the t-distribution is true?\n",
    "\n",
    "## ANSWER:\n",
    "\n",
    "* As you increase the degrees of freedom, the t-distribution PDF and CDF curves get closer to those of a normal distribution.\n",
    "\n",
    "````\n",
    "Tip-top t! The normal distribution is essentially a t-distribution with infinite degrees of freedom.\n",
    "````"
   ]
  },
  {
   "cell_type": "markdown",
   "metadata": {},
   "source": [
    "# From t to p\n",
    "Previously, you calculated the test statistic for the two-sample problem of whether the mean weight of shipments is smaller for shipments that weren't late (late == \"No\") compared to shipments that were late (late == \"Yes\"). In order to make decisions about it, you need to transform the test statistic with a cumulative distribution function to get a p-value.\n",
    "\n",
    "Recall the hypotheses:\n",
    "\n",
    "$H_0$: The mean weight of shipments that weren't late is the same as the mean weight of shipments that were late.\n",
    "\n",
    "$H_A$: The mean weight of shipments that weren't late is less than the mean weight of shipments that were late.\n",
    "\n",
    "The test statistic, t_stat, is available, as are the samples sizes for each group, n_no and n_yes. Use a significance level of alpha = 0.05.\n",
    "\n",
    "t has also been imported from scipy.stats.\n",
    "\n",
    "## Question\n",
    "* What type of test does the alternative hypothesis indicate that we need?\n",
    "\n",
    "## ANSWER:\n",
    "* Left-tailed\n",
    "\n",
    "## Instruction\n",
    "\n",
    "* Calculate the degrees of freedom for the test.\n",
    "* Compute the p-value using the test statistic, t_stat.\n",
    "\n"
   ]
  },
  {
   "cell_type": "code",
   "execution_count": null,
   "metadata": {},
   "outputs": [],
   "source": [
    "# Calculate the degrees of freedom\n",
    "degrees_of_freedom = n_no + n_yes -2\n",
    "\n",
    "# Calculate the p-value from the test stat\n",
    "p_value =  t.cdf(t_stat, df=degrees_of_freedom)\n",
    "\n",
    "# Print the p_value\n",
    "print(p_value)"
   ]
  },
  {
   "cell_type": "markdown",
   "metadata": {},
   "source": [
    "## Question\n",
    "* What decision should you make based on the results of the hypothesis test?\n",
    "\n",
    "## Answer:\n",
    "* Reject the null hypothesis.\n",
    "\n",
    "````\n",
    "Perspicacious p-value predictions! When the standard error is estimated from the sample standard deviation and sample size, the test statistic is transformed into a p-value using the t-distribution.\n",
    "````"
   ]
  },
  {
   "cell_type": "markdown",
   "metadata": {},
   "source": [
    "# Is pairing needed?\n",
    "t-tests are used to compare two sample means. However, the test involves different calculations depending upon whether the two samples are paired or not. To make sure you use the correct version of the t-test, you need to be able to identify pairing.\n",
    "\n",
    "## Instructions\n",
    "\n",
    "* Match the problem description with whether a paired t-test or non-paired t-test should be conducted.\n",
    "\n",
    "### Paired\n",
    "\n",
    "* To test the effectiveness of a new elementary school study technique, a pre- and post- test are given to the same random sample of students.\n",
    "* Scientist wish to understand whether older children like sugar less than younger children. Sibling pairs were surveyed on their sugar preferences.\n",
    "\n",
    "### Unpaired\n",
    "\n",
    "* To test the effectiveness of a new elementary school study technique, a pre- and post- test are given to two different random sample of students.\n",
    "* To understand how location affects income, a surey of adults living in Budapest and another survey of adults living in London were conducted.\n",
    "\n",
    "````\n",
    "Daring pairing! If you have repeated observations of something, then those observations form pairs.\n",
    "````\n",
    "\n",
    "\n",
    "\n"
   ]
  },
  {
   "cell_type": "markdown",
   "metadata": {},
   "source": [
    "# Visualizing the difference\n",
    "Before you start running hypothesis tests, it's a great idea to perform some exploratory data analysis; that is, calculating summary statistics and visualizing distributions.\n",
    "\n",
    "Here, you'll look at the proportion of county-level votes for the Democratic candidate in 2012 and 2016, sample_dem_data. Since the counties are the same in both years, these samples are paired. The columns containing the samples are dem_percent_12 and dem_percent_16.\n",
    "\n",
    "dem_votes_potus_12_16 is available as sample_dem_data. pandas and matplotlib.pyplot are loaded with their usual aliases.\n",
    "\n",
    "## Instructions\n",
    "\n",
    "* Create a new diff column containing the percentage of votes for the democratic candidate in 2012 minus the percentage of votes for the democratic candidate in 2016.\n",
    "* Calculate the mean of the diff column as xbar_diff.\n",
    "* Calculate the standard deviation of the diff column as s_diff.\n",
    "* Plot a histogram of the diff column with 20 bins.\n",
    "\n",
    "````\n",
    "Delightful difference discovery! Notice that the majority of the histogram lies to the right of zero.\n",
    "````"
   ]
  },
  {
   "cell_type": "code",
   "execution_count": null,
   "metadata": {},
   "outputs": [],
   "source": [
    "# Calculate the differences from 2012 to 2016\n",
    "sample_dem_data['diff'] = sample_dem_data['dem_percent_12'] - sample_dem_data['dem_percent_16']\n",
    "\n",
    "# Find the mean of the diff column\n",
    "xbar_diff = sample_dem_data['diff'].mean()\n",
    "\n",
    "# Find the standard deviation of the diff column\n",
    "s_diff = sample_dem_data['diff'].std()\n",
    "\n",
    "# Plot a histogram of diff with 20 bins\n",
    "sample_dem_data['diff'].hist(bins=20)\n",
    "plt.show()"
   ]
  },
  {
   "cell_type": "markdown",
   "metadata": {},
   "source": [
    "# Using ttest()\n",
    "Manually calculating test statistics and transforming them with a CDF to get a p-value is a lot of effort to compare two sample means. The comparison of two sample means is called a t-test, and the pingouin Python package has a .ttest() method to accomplish it. This method provides some flexibility in how you perform the test.\n",
    "\n",
    "As in the previous exercise, you'll explore the difference between the proportion of county-level votes for the Democratic candidate in 2012 and 2016 to identify if the difference is significant.\n",
    "\n",
    "sample_dem_data is available and has the columns diff, dem_percent_12, and dem_percent_16 in addition to the state and county names. pingouin and has been loaded along with pandas as pd.\n",
    "\n",
    "## Instruction\n",
    "\n",
    "* Conduct a t-test on the sample differences (the diff column of sample_dem_data), using an appropriate alternative hypothesis chosen from \"two-sided\", \"less\", and \"greater\".\n",
    "* Question\n",
    "    * What's the correct decision from the t-test, assuming $\\alpha=0.01 $?\n",
    "    * ANSWER: Reject the null hypothesis.\n",
    "* Conduct a paired test on the democratic votes in 2012 and 2016 (the dem_percent_12 and dem_percent_16 columns of sample_dem_data), using an appropriate alternative hypothesis.\n",
    "* Question\n",
    "    * Compare the paired t-test to an (inappropriate) unpaired test on the same data. How does the p-value change?\n",
    "    * ANSWER: The p-value from the unpaired test is greater than than the p-value from the paired test.\n",
    "````\n",
    "    pingouin.ttest(x=sample_dem_data['dem_percent_12'], \n",
    "                y=sample_dem_data['dem_percent_16'], \n",
    "                alternative=\"two-sided\")\n",
    "    \n",
    "Paired t-test party! Using .ttest() lets you avoid manual calculation to run your test. When you have paired data, a paired t-test is preferable to the unpaired version because it reduces the chance of a false negative error.\n",
    "````\n",
    "\n"
   ]
  },
  {
   "cell_type": "code",
   "execution_count": null,
   "metadata": {},
   "outputs": [],
   "source": [
    "# Conduct a t-test on diff\n",
    "test_results = pingouin.ttest(x=sample_dem_data['diff'], \n",
    "                              y=0, \n",
    "                              alternative=\"two-sided\")\n",
    "\n",
    "# Conduct a paired t-test on dem_percent_12 and dem_percent_16\n",
    "paired_test_results = pingouin.ttest(x=sample_dem_data['dem_percent_12'], \n",
    "                                     y=sample_dem_data['dem_percent_16'],\n",
    "                                     paired=True,\n",
    "                                     alternative=\"two-sided\")\n",
    "                              \n",
    "# Print the paired test results\n",
    "print(paired_test_results)"
   ]
  },
  {
   "cell_type": "markdown",
   "metadata": {},
   "source": [
    "# Visualizing many categories\n",
    "So far in this chapter, we've only considered the case of differences in a numeric variable between two categories. Of course, many datasets contain more categories. Before you get to conducting tests on many categories, it's often helpful to perform exploratory data analysis (EDA), calculating summary statistics for each group and visualizing the distributions of the numeric variable for each category using box plots.\n",
    "\n",
    "Here, we'll return to the late shipments data, and how the price of each package (pack_price) varies between the three shipment modes (shipment_mode): \"Air\", \"Air Charter\", and \"Ocean\".\n",
    "\n",
    "late_shipments is available; pandas and matplotlib.pyplot are loaded with their standard aliases, and seaborn is loaded as sns.\n",
    "\n",
    "## Instructions\n",
    "\n",
    "* Group late_shipments by shipment_mode and calculate the mean pack_price for each group, storing the result in xbar_pack_by_mode.\n",
    "* Group late_shipments by shipment_mode and calculate the standard deviation pack_price for each group, storing the result in s_pack_by_mode.\n",
    "* Create a boxplot from late_shipments with \"pack_price\" as x and \"shipment_mode\" as y."
   ]
  },
  {
   "cell_type": "code",
   "execution_count": null,
   "metadata": {},
   "outputs": [],
   "source": [
    "# Calculate the mean pack_price for each shipment_mode\n",
    "xbar_pack_by_mode = late_shipments.groupby(\"shipment_mode\")['pack_price'].mean()\n",
    "\n",
    "# Calculate the standard deviation of the pack_price for each shipment_mode\n",
    "s_pack_by_mode = late_shipments.groupby(\"shipment_mode\")['pack_price'].std()\n",
    "\n",
    "# Boxplot of shipment_mode vs. pack_price\n",
    "sns.boxplot(x=\"pack_price\", y=\"shipment_mode\", data=late_shipments)\n",
    "plt.show()"
   ]
  },
  {
   "cell_type": "markdown",
   "metadata": {},
   "source": [
    "# ANOVA\n",
    "The box plots made it look like the distribution of pack price was different for each of the three shipment modes. However, it didn't tell us whether the mean pack price was different in each category. To determine that, we can use an ANOVA test. The null and alternative hypotheses can be written as follows.\n",
    "\n",
    "$H_0$: Pack prices for every category of shipment mode are the same.\n",
    "\n",
    "$H_A$: Pack prices for some categories of shipment mode are different.\n",
    "\n",
    "We'll set a significance level of 0.1.\n",
    "\n",
    "late_shipments is available and pingouin has been loaded.\n",
    "\n",
    "## Instructions\n",
    "* Run an ANOVA on late_shipments investigating 'pack_price' (the dependent variable) between the groups of 'shipment_mode'.\n",
    "* Question\n",
    "    * Assuming a significance level of 0.1, should you reject the null hypothesis that there is a difference between pack prices between the shipment modes?\n",
    "    * ANSWER: Yes. The p-value is less than or equal to the significance level, so the null hypothesis should be rejected.\n",
    "\n",
    "\n"
   ]
  },
  {
   "cell_type": "code",
   "execution_count": null,
   "metadata": {},
   "outputs": [],
   "source": [
    "# Run an ANOVA for pack_price across shipment_mode\n",
    "anova_results = pingouin.anova(data=late_shipments,\n",
    "                               dv=\"pack_price\",\n",
    "                               between=\"shipment_mode\")\n",
    "\n",
    "# Print anova_results\n",
    "print(anova_results)"
   ]
  },
  {
   "cell_type": "markdown",
   "metadata": {},
   "source": [
    "# Pairwise t-tests\n",
    "The ANOVA test didn't tell you which categories of shipment mode had significant differences in pack prices. To pinpoint which categories had differences, you could instead use pairwise t-tests.\n",
    "\n",
    "late_shipments is available and pingouin has been loaded.\n",
    "\n",
    "Instructions\n",
    "\n",
    "* Perform pairwise t-tests on late_shipments's pack_price variable, grouped by shipment_mode, without doing any p-value adjustment.\n",
    "* Modify the pairwise t-tests to use the Bonferroni p-value adjustment.\n",
    "* Question\n",
    "    * Using the Bonferroni correction results and assuming a significance level of 0.1, for which pairs of shipment modes should you reject the null hypothesis that the pack prices are equal?\n",
    "    * ANSWER: \"Ocean\" and \"Air Charter\"; \"Ocean\" and \"Air\"; \"Air Charter\" and \"Air\".\n",
    "\n",
    "````\n",
    "Pairwise perfection! After applying the Bonferroni adjustment, the p-values for the t-tests between each of the three groups are all less than 0.1.\n",
    "````"
   ]
  },
  {
   "cell_type": "code",
   "execution_count": null,
   "metadata": {},
   "outputs": [],
   "source": [
    "# Perform a pairwise t-test on pack price, grouped by shipment mode\n",
    "pairwise_results = pingouin.pairwise_ttests(data=late_shipments, \n",
    "                                            dv=\"pack_price\",\n",
    "                                            between=\"shipment_mode\",\n",
    "                                            padjust=\"none\")\n",
    "\n",
    "# Print pairwise_results\n",
    "print(pairwise_results)"
   ]
  },
  {
   "cell_type": "code",
   "execution_count": null,
   "metadata": {},
   "outputs": [],
   "source": [
    "# Modify the pairwise t-tests to use Bonferroni p-value adjustment\n",
    "pairwise_results = pingouin.pairwise_ttests(data=late_shipments, \n",
    "                                            dv=\"pack_price\",\n",
    "                                            between=\"shipment_mode\",\n",
    "                                            padjust=\"bonf\")\n",
    "\n",
    "# Print pairwise_results\n",
    "print(pairwise_results)"
   ]
  },
  {
   "cell_type": "code",
   "execution_count": null,
   "metadata": {},
   "outputs": [],
   "source": []
  }
 ],
 "metadata": {
  "kernelspec": {
   "display_name": "Python 3.8.10 64-bit",
   "language": "python",
   "name": "python3"
  },
  "language_info": {
   "name": "python",
   "version": "3.8.10"
  },
  "orig_nbformat": 4,
  "vscode": {
   "interpreter": {
    "hash": "916dbcbb3f70747c44a77c7bcd40155683ae19c65e1c03b4aa3499c5328201f1"
   }
  }
 },
 "nbformat": 4,
 "nbformat_minor": 2
}
