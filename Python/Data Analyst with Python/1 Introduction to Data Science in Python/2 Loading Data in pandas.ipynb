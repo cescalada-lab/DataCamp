{
 "cells": [
  {
   "cell_type": "markdown",
   "metadata": {},
   "source": [
    "# Loading a DataFrame\n",
    "We're still working hard to solve the kidnapping of Bayes, the Golden Retriever. Previously, we used a license plate spotted at the crime scene to narrow the list of suspects to:\n",
    "\n",
    "* Fred Frequentist\n",
    "* Ronald Aylmer Fisher\n",
    "* Gertrude Cox\n",
    "* Kirstine Smith\n",
    "* We've obtained credit card records for all four suspects. Perhaps some of them made suspicious purchases before the kidnapping?\n",
    "\n",
    "The records are in a CSV called \"credit_records.csv\"."
   ]
  },
  {
   "cell_type": "code",
   "execution_count": null,
   "metadata": {},
   "outputs": [],
   "source": [
    "# Import pandas under the alias pd\n",
    "import pandas as pd\n",
    "\n",
    "# Load the CSV \"credit_records.csv\"\n",
    "credit_records = pd.read_csv(\"credit_records.csv\")\n",
    "\n",
    "# Display the first five rows of credit_records using the .head() method\n",
    "print(credit_records.head())"
   ]
  },
  {
   "cell_type": "markdown",
   "metadata": {},
   "source": [
    "# Inspecting a DataFrame\n",
    "We've loaded the credit card records of our four suspects into a DataFrame called credit_records. Let's learn more about the structure of this DataFrame.\n",
    "\n",
    "The pandas module has been imported under the alias pd. The DataFrame credit_records has already been imported.\n",
    "\n",
    "How many rows are in credit_records?"
   ]
  },
  {
   "cell_type": "code",
   "execution_count": null,
   "metadata": {},
   "outputs": [],
   "source": [
    "# Use .info() to inspect the DataFrame credit_records\n",
    "print(credit_records.info())"
   ]
  },
  {
   "cell_type": "markdown",
   "metadata": {},
   "source": [
    "# Two methods for selecting columns\n",
    "Once again, we've loaded the credit card records of our four suspects into a DataFrame called credit_records. Let's examine the items that they've purchased.\n",
    "\n",
    "The pandas module has been imported under the alias pd. The DataFrame credit_records has already been imported."
   ]
  },
  {
   "cell_type": "code",
   "execution_count": null,
   "metadata": {},
   "outputs": [],
   "source": [
    "# Select the column item from credit_records\n",
    "# Use brackets and string notation\n",
    "items = credit_records[\"item\"]\n",
    "\n",
    "# Display the results\n",
    "print(items)\n",
    "\n",
    "\n",
    "# Select the column item from credit_records\n",
    "# Use dot notation\n",
    "items = credit_records.item\n",
    "\n",
    "# Display the results\n",
    "print(items)"
   ]
  },
  {
   "cell_type": "markdown",
   "metadata": {},
   "source": [
    "# Correcting column selection errors\n",
    "A junior detective tried to access the location columns of credit_records, but he made some mistakes. Help correct his code so that we can search for suspicious purchases.\n",
    "\n",
    "In all exercises going forward, pandas will be imported as pd. The DataFrame credit_records has already been imported."
   ]
  },
  {
   "cell_type": "code",
   "execution_count": null,
   "metadata": {},
   "outputs": [],
   "source": [
    "# One or more lines of code contain errors.\n",
    "# Fix the errors so that the code runs.\n",
    "\n",
    "# Select the location column in credit_records\n",
    "location = credit_records[\"location\"]\n",
    "\n",
    "# Select the item column in credit_records\n",
    "items = credit_records.item\n",
    "\n",
    "# Display results\n",
    "print(location)"
   ]
  },
  {
   "cell_type": "markdown",
   "metadata": {},
   "source": [
    "# More column selection mistakes\n",
    "Another junior detective is examining a DataFrame of Missing Puppy Reports. He's made some mistakes that cause the code to fail.\n",
    "\n",
    "The pandas module has been loaded under the alias pd, and the DataFrame is called mpr."
   ]
  },
  {
   "cell_type": "code",
   "execution_count": null,
   "metadata": {},
   "outputs": [],
   "source": [
    "# Use info() to inspect mpr\n",
    "print(mpr.info())\n",
    "\n",
    "# The following code contains one or more errors\n",
    "# Correct the mistakes in the code so that it runs without errors\n",
    "\n",
    "# Select column \"Dog Name\" from mpr\n",
    "name = mpr[\"Dog Name\"]\n",
    "\n",
    "# Select column \"Missing?\" from mpr\n",
    "is_missing = mpr[\"Missing?\"]\n",
    "\n",
    "# Display the columns\n",
    "print(name)\n",
    "print(is_missing)\n"
   ]
  },
  {
   "cell_type": "markdown",
   "metadata": {},
   "source": [
    "# Logical testing\n",
    "Let's practice writing logical statements and displaying the output.\n",
    "\n",
    "Recall that we use the following operators:\n",
    "\n",
    "* `==` tests that two values are equal.\n",
    "* `!=` tests that two values are not equal.\n",
    "* `>` and `<` test that greater than or less than, respectively.\n",
    "* `>=` and `<=` test greater than or equal to or less than or equal to, respectively."
   ]
  },
  {
   "cell_type": "code",
   "execution_count": null,
   "metadata": {},
   "outputs": [],
   "source": [
    "# Is height_inches greater than 70 inches?\n",
    "print(height_inches > 70)\n",
    "\n",
    "# Is plate1 equal to \"FRQ123\"?\n",
    "print(plate1 == \"FRQ123\")\n",
    "\n",
    "# Is fur_color not equal to \"brown\"?\n",
    "print(fur_color != \"brown\")"
   ]
  },
  {
   "cell_type": "markdown",
   "metadata": {},
   "source": [
    "# Selecting missing puppies\n",
    "Let's return to our DataFrame of missing puppies, which is loaded as mpr. Let's select a few different rows to learn more about the other missing dogs."
   ]
  },
  {
   "cell_type": "code",
   "execution_count": null,
   "metadata": {},
   "outputs": [],
   "source": [
    "# Select the dogs where Age is greater than 2\n",
    "greater_than_2 = mpr[mpr.Age > 2]\n",
    "print(greater_than_2)\n",
    "\n",
    "# Select the dogs whose Status is equal to Still Missing\n",
    "still_missing = mpr[mpr.Status == \"Still Missing\"]\n",
    "print(still_missing)\n",
    "\n",
    "# Select all dogs whose Dog Breed is not equal to Poodle\n",
    "not_poodle = mpr[mpr[\"Dog Breed\"] != \"Poodle\"]\n",
    "print(not_poodle)"
   ]
  },
  {
   "cell_type": "markdown",
   "metadata": {},
   "source": [
    "# Narrowing the list of suspects\n",
    "In Chapter 1, we found a list of people whose cars matched the description of the one that kidnapped Bayes:\n",
    "\n",
    "* Fred Frequentist\n",
    "* Ronald Aylmer Fisher\n",
    "* Gertrude Cox\n",
    "* Kirstine Smith\n",
    "\n",
    "We'd like to narrow this list down, so we obtained credit card records for each suspect. We'd like to know if any of them recently purchased dog treats to use in the kidnapping. If they did, they would have visited 'Pet Paradise'.\n",
    "\n",
    "The credit records have been loaded into a DataFrame called credit_records."
   ]
  },
  {
   "cell_type": "code",
   "execution_count": null,
   "metadata": {},
   "outputs": [],
   "source": [
    "# Select purchases from 'Pet Paradise'\n",
    "purchase = credit_records[credit_records.location == 'Pet Paradise']\n",
    "\n",
    "# Display\n",
    "print(purchase)"
   ]
  }
 ],
 "metadata": {
  "language_info": {
   "name": "python"
  },
  "orig_nbformat": 4
 },
 "nbformat": 4,
 "nbformat_minor": 2
}
