{
 "cells": [
  {
   "cell_type": "markdown",
   "id": "935afdde-1fd9-43fa-af61-b0a847908722",
   "metadata": {},
   "source": [
    "# Line plot (1)"
   ]
  },
  {
   "cell_type": "markdown",
   "id": "a6d0a9c7-063e-4ac3-8a51-cdcad72f6e18",
   "metadata": {},
   "source": [
    "Instructions\n",
    "\n",
    "* print() the last item from both the year and the pop list to see what the predicted population for the year 2100 is. Use two print() functions.\n",
    "* Before you can start, you should import matplotlib.pyplot as plt. pyplot is a sub-package of matplotlib, hence the dot.\n",
    "* Use plt.plot() to build a line plot. year should be mapped on the horizontal axis, pop on the vertical axis. Don't forget to finish off with the show() function to actually display the plot."
   ]
  },
  {
   "cell_type": "code",
   "execution_count": null,
   "id": "4fe67a62-313e-45aa-ad9f-2a59a766ae01",
   "metadata": {},
   "outputs": [],
   "source": [
    "# Print the last item from year and pop\n",
    "print(year[-1],pop[-1])\n",
    "\n",
    "# Import matplotlib.pyplot as plt\n",
    "from matplotlib import pyplot as plt\n",
    "\n",
    "# Make a line plot: year on the x-axis, pop on the y-axis\n",
    "plt.plot(year,pop)\n",
    "\n",
    "# Display the plot with plt.show()\n",
    "plt.show()"
   ]
  },
  {
   "cell_type": "markdown",
   "id": "f917acb3-52a7-4162-a51a-616a2c1554f1",
   "metadata": {},
   "source": [
    "# Line Plot (2): Interpretation"
   ]
  },
  {
   "cell_type": "code",
   "execution_count": null,
   "id": "c066cd93-f96e-45db-adff-1e68439a0b7a",
   "metadata": {},
   "outputs": [],
   "source": []
  },
  {
   "cell_type": "markdown",
   "id": "618bf13a-6dae-4741-a6f3-dbb600ba7568",
   "metadata": {},
   "source": [
    "# Line plot (3)"
   ]
  },
  {
   "cell_type": "code",
   "execution_count": null,
   "id": "42035133-4f45-44bf-b2bb-f2fb011ebc7e",
   "metadata": {},
   "outputs": [],
   "source": [
    "# Print the last item of gdp_cap and life_exp\n",
    "print(gdp_cap[-1],life_exp[-1])\n",
    "\n",
    "\n",
    "# Make a line plot, gdp_cap on the x-axis, life_exp on the y-axis\n",
    "plt.plot(gdp_cap,life_exp)\n",
    "\n",
    "# Display the plot\n",
    "plt.show()"
   ]
  },
  {
   "cell_type": "markdown",
   "id": "c8446201-1658-47bd-b80e-ec30bef6343a",
   "metadata": {},
   "source": [
    "# Scatter Plot (1)"
   ]
  },
  {
   "cell_type": "code",
   "execution_count": null,
   "id": "97bf454f-a0a7-4c75-8268-caaa0c56e53f",
   "metadata": {},
   "outputs": [],
   "source": [
    "# Change the line plot below to a scatter plot\n",
    "plt.scatter(gdp_cap, life_exp)\n",
    "\n",
    "# Put the x-axis on a logarithmic scale\n",
    "plt.xscale('log')\n",
    "\n",
    "# Show plot\n",
    "plt.show()"
   ]
  },
  {
   "cell_type": "markdown",
   "id": "d8ce9739-9159-4e1d-bfcc-59a488f0f25d",
   "metadata": {},
   "source": [
    "# Scatter plot (2)"
   ]
  },
  {
   "cell_type": "code",
   "execution_count": null,
   "id": "5faaca4e-efdb-4323-9c5f-8fc728301091",
   "metadata": {},
   "outputs": [],
   "source": [
    "# Import package\n",
    "from matplotlib import pyplot as plt\n",
    "\n",
    "# Build Scatter plot\n",
    "plt.scatter(pop,life_exp)\n",
    "\n",
    "# Show plot\n",
    "plt.show()"
   ]
  },
  {
   "cell_type": "markdown",
   "id": "6192f867-339f-47d3-82d3-a18c2227a0ed",
   "metadata": {},
   "source": [
    "# Build a histogram (1)"
   ]
  },
  {
   "cell_type": "code",
   "execution_count": null,
   "id": "769c055a-1c30-407e-b45b-2af44a3e85f3",
   "metadata": {},
   "outputs": [],
   "source": [
    "# Create histogram of life_exp data\n",
    "plt.hist(life_exp)\n",
    "\n",
    "# Display histogram\n",
    "plt.show()"
   ]
  },
  {
   "cell_type": "markdown",
   "id": "0ab817ff-600f-4d76-9fd7-fa2a30cfc221",
   "metadata": {},
   "source": [
    "# Build a histogram (2): bins"
   ]
  },
  {
   "cell_type": "code",
   "execution_count": null,
   "id": "debd3d3f-bcf7-4b31-a6d5-e35b9efba774",
   "metadata": {},
   "outputs": [],
   "source": [
    "# Build histogram with 5 bins\n",
    "plt.hist(life_exp, bins=5)\n",
    "\n",
    "# Show and clean up plot\n",
    "plt.show()\n",
    "plt.clf()\n",
    "\n",
    "# Build histogram with 20 bins\n",
    "plt.hist(life_exp, bins=20)\n",
    "\n",
    "# Show and clean up again\n",
    "plt.show()\n",
    "plt.clf()"
   ]
  },
  {
   "cell_type": "markdown",
   "id": "636b7e79-6759-41a2-bbce-796c56d31a86",
   "metadata": {},
   "source": [
    "# Build a histogram (3): compare"
   ]
  },
  {
   "cell_type": "code",
   "execution_count": null,
   "id": "1afcbf2e-b5ce-465c-8f79-67caaf835e32",
   "metadata": {},
   "outputs": [],
   "source": [
    "# Histogram of life_exp, 15 bins\n",
    "plt.hist(life_exp, bins=15)\n",
    "\n",
    "# Show and clear plot\n",
    "plt.show()\n",
    "plt.clf()\n",
    "\n",
    "# Histogram of life_exp1950, 15 bins\n",
    "plt.hist(life_exp1950, bins=15)\n",
    "\n",
    "# Show and clear plot again\n",
    "plt.show()\n",
    "plt.clf()"
   ]
  },
  {
   "cell_type": "markdown",
   "id": "103bf2f9-c25f-43b4-ba83-57b200dd91ff",
   "metadata": {},
   "source": [
    "# Choose the right plot (1)"
   ]
  },
  {
   "cell_type": "markdown",
   "id": "a20851ba-9569-47be-ad7c-065f294288ee",
   "metadata": {},
   "source": [
    "You're a professor teaching Data Science with Python, and you want to visually assess if the grades on your exam follow a particular distribution. Which plot do you use?\n",
    "\n",
    "ANSWER:\n",
    "Histogram"
   ]
  },
  {
   "cell_type": "markdown",
   "id": "028508ca-d0bc-4b6d-9ab1-e082fae10a5e",
   "metadata": {},
   "source": [
    "# Choose the right plot (2)\n",
    "You're a professor in Data Analytics with Python, and you want to visually assess if longer answers on exam questions lead to higher grades. Which plot do you use?\n",
    "\n",
    "ANSWER:\n",
    "Scatter plot"
   ]
  },
  {
   "cell_type": "markdown",
   "id": "5471d84c-a48f-4f92-bd72-70281c31881d",
   "metadata": {},
   "source": [
    "# Labels"
   ]
  },
  {
   "cell_type": "code",
   "execution_count": null,
   "id": "45c723f1-5de4-4fe9-9bed-b2c2b05285ad",
   "metadata": {},
   "outputs": [],
   "source": [
    "# Basic scatter plot, log scale\n",
    "plt.scatter(gdp_cap, life_exp)\n",
    "plt.xscale('log') \n",
    "\n",
    "# Strings\n",
    "xlab = 'GDP per Capita [in USD]'\n",
    "ylab = 'Life Expectancy [in years]'\n",
    "title = 'World Development in 2007'\n",
    "\n",
    "# Add axis labels\n",
    "plt.xlabel(xlab)\n",
    "plt.ylabel(ylab)\n",
    "\n",
    "# Add title\n",
    "plt.title(title)\n",
    "\n",
    "# After customizing, display the plot\n",
    "plt.show()"
   ]
  },
  {
   "cell_type": "markdown",
   "id": "6e1df969-7f99-449e-b82b-0fb10f385e7b",
   "metadata": {},
   "source": [
    "# Ticks"
   ]
  },
  {
   "cell_type": "code",
   "execution_count": null,
   "id": "dd2e92e0-b511-4a36-95b7-2a0e445ed680",
   "metadata": {},
   "outputs": [],
   "source": [
    "# Scatter plot\n",
    "plt.scatter(gdp_cap, life_exp)\n",
    "\n",
    "# Previous customizations\n",
    "plt.xscale('log') \n",
    "plt.xlabel('GDP per Capita [in USD]')\n",
    "plt.ylabel('Life Expectancy [in years]')\n",
    "plt.title('World Development in 2007')\n",
    "\n",
    "# Definition of tick_val and tick_lab\n",
    "tick_val = [1000, 10000, 100000]\n",
    "tick_lab = ['1k', '10k', '100k']\n",
    "\n",
    "# Adapt the ticks on the x-axis\n",
    "plt.xticks(tick_val,tick_lab)\n",
    "\n",
    "# After customizing, display the plot\n",
    "plt.show()"
   ]
  },
  {
   "cell_type": "markdown",
   "id": "3e7f996d-c549-45b0-95bc-5b125dc26b12",
   "metadata": {},
   "source": [
    "# Sizes"
   ]
  },
  {
   "cell_type": "code",
   "execution_count": null,
   "id": "4e3231ec-9a7e-43b0-a53d-abc4373f6b93",
   "metadata": {},
   "outputs": [],
   "source": [
    "# Import numpy as np\n",
    "import numpy as np\n",
    "\n",
    "# Store pop as a numpy array: np_pop\n",
    "np_pop = np.array(pop)\n",
    "\n",
    "# Double np_pop\n",
    "np_pop = np_pop * 2\n",
    "\n",
    "# Update: set s argument to np_pop\n",
    "plt.scatter(gdp_cap, life_exp, s = np_pop)\n",
    "\n",
    "# Previous customizations\n",
    "plt.xscale('log') \n",
    "plt.xlabel('GDP per Capita [in USD]')\n",
    "plt.ylabel('Life Expectancy [in years]')\n",
    "plt.title('World Development in 2007')\n",
    "plt.xticks([1000, 10000, 100000],['1k', '10k', '100k'])\n",
    "\n",
    "# Display the plot\n",
    "plt.show()"
   ]
  },
  {
   "cell_type": "markdown",
   "id": "9e8decf3-1d5e-41dc-b128-617475388723",
   "metadata": {},
   "source": [
    "# Colors"
   ]
  },
  {
   "cell_type": "code",
   "execution_count": null,
   "id": "6a2c1286-32b5-4e26-8894-f5709e508e34",
   "metadata": {},
   "outputs": [],
   "source": [
    "# Specify c and alpha inside plt.scatter()\n",
    "plt.scatter(x = gdp_cap, y = life_exp, s = np.array(pop) * 2, c = col, alpha=0.8)\n",
    "\n",
    "# Previous customizations\n",
    "plt.xscale('log') \n",
    "plt.xlabel('GDP per Capita [in USD]')\n",
    "plt.ylabel('Life Expectancy [in years]')\n",
    "plt.title('World Development in 2007')\n",
    "plt.xticks([1000,10000,100000], ['1k','10k','100k'])\n",
    "\n",
    "# Show the plot\n",
    "plt.show()"
   ]
  },
  {
   "cell_type": "markdown",
   "id": "e9289451-1813-4a51-a38d-8f40207a1c02",
   "metadata": {},
   "source": [
    "# Additional Customizations"
   ]
  },
  {
   "cell_type": "code",
   "execution_count": null,
   "id": "ef70f18e-cea2-4346-b7b8-dc161d14e02f",
   "metadata": {},
   "outputs": [],
   "source": [
    "# Scatter plot\n",
    "plt.scatter(x = gdp_cap, y = life_exp, s = np.array(pop) * 2, c = col, alpha = 0.8)\n",
    "\n",
    "# Previous customizations\n",
    "plt.xscale('log') \n",
    "plt.xlabel('GDP per Capita [in USD]')\n",
    "plt.ylabel('Life Expectancy [in years]')\n",
    "plt.title('World Development in 2007')\n",
    "plt.xticks([1000,10000,100000], ['1k','10k','100k'])\n",
    "\n",
    "# Additional customizations\n",
    "plt.text(1550, 71, 'India')\n",
    "plt.text(5700, 80, 'China')\n",
    "\n",
    "# Add grid() call\n",
    "plt.grid(True)\n",
    "\n",
    "# Show the plot\n",
    "plt.show()"
   ]
  },
  {
   "cell_type": "markdown",
   "id": "6d657de8-40c5-4322-9a17-57226d07d580",
   "metadata": {},
   "source": [
    "# Interpretation"
   ]
  },
  {
   "cell_type": "markdown",
   "id": "d54a2ea0-85c8-4987-bb1d-51f7e62fe45f",
   "metadata": {},
   "source": [
    "If you have a look at your colorful plot, it's clear that people live longer in countries with a higher GDP per capita. No high income countries have really short life expectancy, and no low income countries have very long life expectancy. Still, there is a huge difference in life expectancy between countries on the same income level. Most people live in middle income countries where difference in lifespan is huge between countries; depending on how income is distributed and how it is used.\n",
    "\n",
    "What can you say about the plot?"
   ]
  },
  {
   "cell_type": "markdown",
   "id": "1e29c0fa-6726-419f-97aa-bffe614d4431",
   "metadata": {},
   "source": [
    "ANSWER: \n",
    "The countries in blue, corresponding to Africa, have both low life expectancy and a low GDP per capita."
   ]
  },
  {
   "cell_type": "code",
   "execution_count": null,
   "id": "8f18614f-c363-4e59-898b-e878b9d4bf20",
   "metadata": {},
   "outputs": [],
   "source": []
  }
 ],
 "metadata": {
  "kernelspec": {
   "display_name": "Python 3 (ipykernel)",
   "language": "python",
   "name": "python3"
  },
  "language_info": {
   "codemirror_mode": {
    "name": "ipython",
    "version": 3
   },
   "file_extension": ".py",
   "mimetype": "text/x-python",
   "name": "python",
   "nbconvert_exporter": "python",
   "pygments_lexer": "ipython3",
   "version": "3.8.12"
  }
 },
 "nbformat": 4,
 "nbformat_minor": 5
}
